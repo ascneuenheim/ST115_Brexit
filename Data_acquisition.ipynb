{
 "cells": [
  {
   "cell_type": "code",
   "execution_count": null,
   "id": "05efcec3",
   "metadata": {},
   "outputs": [],
   "source": [
    "import requests\n",
    "import pandas as pd\n",
    "import tabula\n",
    "import jpype\n",
    "\n",
    "\n",
    "# URL of the PDF download link\n",
    "#pdf_download_url = \"https://public.tableau.com/vizql/w/ApplicationsOffersandEntrants/v/About/tempfile/sessions/6CFB072D66F548F0BD680B6D8269BD44-0:0/?key=2889495739&keepfile=yes&attachment=yes\"\n",
    "#pdf_download_url = \"https://public.tableau.com/vizql/w/LSEStatisticsonStudents/v/TableA/tempfile/sessions/E54A8D2F36614981A37995A0DF6C69BC-0:0/?key=674594458&keepfile=yes&attachment=yes\"\n",
    "# Send a GET request to download the PDF file\n",
    "#response = requests.get(pdf_download_url)\n",
    "\n",
    "# Save the content of the response to a file with .pdf extension\n",
    "file_path = \"Data/LSE_Students_acceptance_program_v1.pdf\"\n",
    "#with open(file_path, \"wb\") as f:\n",
    "#    f.write(response.content)\n",
    "\n",
    "# Extract the table from the PDF file\n",
    "tables = tabula.read_pdf(file_path, pages='all', multiple_tables=True)\n",
    "\n",
    "# Check if any tables are extracted\n",
    "if tables:\n",
    "    # Concatenate all tables into one DataFrame if there are multiple\n",
    "    combined_table = pd.concat(tables, ignore_index=True)\n",
    "    \n",
    "    # Save the combined table to a CSV file\n",
    "    csv_file = \"Data/table_v2.csv\"\n",
    "    combined_table.to_csv(csv_file, index=False)\n",
    "    print(f\"Table saved to {csv_file}\")\n",
    "else:\n",
    "    print(\"No table found in the PDF file.\")\n",
    "\n"
   ]
  },
  {
   "cell_type": "code",
   "execution_count": null,
   "id": "022dc208",
   "metadata": {},
   "outputs": [],
   "source": []
  }
 ],
 "metadata": {
  "kernelspec": {
   "display_name": "Python 3 (ipykernel)",
   "language": "python",
   "name": "python3"
  },
  "language_info": {
   "codemirror_mode": {
    "name": "ipython",
    "version": 3
   },
   "file_extension": ".py",
   "mimetype": "text/x-python",
   "name": "python",
   "nbconvert_exporter": "python",
   "pygments_lexer": "ipython3",
   "version": "3.11.5"
  }
 },
 "nbformat": 4,
 "nbformat_minor": 5
}
