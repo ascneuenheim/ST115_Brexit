{
 "cells": [
  {
   "cell_type": "code",
   "execution_count": 1,
   "id": "8f4b43e5",
   "metadata": {},
   "outputs": [
    {
     "name": "stdout",
     "output_type": "stream",
     "text": [
      "Data extraction complete. Results saved to CSV.\n"
     ]
    }
   ],
   "source": [
    "from selenium import webdriver\n",
    "from selenium.webdriver.common.by import By\n",
    "from selenium.webdriver.support.ui import WebDriverWait\n",
    "from selenium.webdriver.support import expected_conditions as EC\n",
    "from selenium.common.exceptions import TimeoutException, NoSuchElementException\n",
    "import csv\n",
    "from bs4 import BeautifulSoup\n",
    "\n",
    "def setup_driver():\n",
    "    \"\"\"Sets up the WebDriver for Chrome.\"\"\"\n",
    "    options = webdriver.ChromeOptions()\n",
    "    options.add_argument('--no-sandbox')  # Bypass OS security model\n",
    "    options.add_argument('--disable-dev-shm-usage')  # Overcome limited resource problems\n",
    "    driver = webdriver.Chrome(options=options)\n",
    "    return driver\n",
    "\n",
    "def print_department_text(html_content):\n",
    "    \"\"\"Extracts and returns the text after the <h2 class=\"card__title\"> tag.\"\"\"\n",
    "    soup = BeautifulSoup(html_content, 'html.parser')\n",
    "    card_titles = soup.find_all('h2', class_='card__title')\n",
    "    departments = [title.text.strip() for title in card_titles]\n",
    "    return departments\n",
    "\n",
    "def print_why_study_with_us_section(driver, course_link):\n",
    "    \"\"\"Returns the HTML content of the 'why study with us' section.\"\"\"\n",
    "    driver.get(course_link)\n",
    "    WebDriverWait(driver, 10).until(EC.presence_of_element_located((By.TAG_NAME, 'body')))\n",
    "    try:\n",
    "        why_study_with_us_section = WebDriverWait(driver, 10).until(\n",
    "            EC.presence_of_element_located((By.ID, 'why-study-with-us'))\n",
    "        )\n",
    "        html_content = why_study_with_us_section.get_attribute('outerHTML')\n",
    "        return print_department_text(html_content)\n",
    "    except TimeoutException:\n",
    "        print(\"Failed to locate or extract the 'why study with us' section.\")\n",
    "        return []\n",
    "\n",
    "# Setup WebDriver\n",
    "driver = setup_driver()\n",
    "initial_url = \"https://www.lse.ac.uk/programmes/search-courses?studyType=0%2F1%2F26%2F85%2F86\"\n",
    "driver.get(initial_url)\n",
    "\n",
    "def process_course_page(course_link):\n",
    "    \"\"\" Visits each course link and extracts the course name, median salary, and department. \"\"\"\n",
    "    departments = print_why_study_with_us_section(driver, course_link)\n",
    "    department = ', '.join(departments) if departments else \"Department not found.\"\n",
    "    \n",
    "    try:\n",
    "        course_name = driver.find_element(By.CSS_SELECTOR, 'h1.hero__title span').text.strip()\n",
    "    except NoSuchElementException:\n",
    "        course_name = \"Course name not found.\"\n",
    "    try:\n",
    "        salary_div = WebDriverWait(driver, 10).until(\n",
    "            EC.presence_of_element_located((By.CSS_SELECTOR, 'section#graduate-destinations div.salary')))\n",
    "        median_salary = salary_div.text.strip()\n",
    "    except TimeoutException:\n",
    "        median_salary = \"Salary not found.\"\n",
    "\n",
    "    return course_name, median_salary, department\n",
    "\n",
    "def navigate_to_next_page():\n",
    "    \"\"\"Navigates to the next page if possible.\"\"\"\n",
    "    try:\n",
    "        next_page_button = WebDriverWait(driver, 20).until(\n",
    "            EC.element_to_be_clickable((By.XPATH, \"//li[contains(@class, 'next')]//button[contains(., 'Next')]\")))\n",
    "        next_page_button.click()\n",
    "        WebDriverWait(driver, 10).until(EC.presence_of_element_located((By.TAG_NAME, 'body')))\n",
    "        return driver.current_url\n",
    "    except TimeoutException:\n",
    "        return None\n",
    "\n",
    "courses_info = []\n",
    "current_page_url = initial_url\n",
    "\n",
    "while True:\n",
    "    WebDriverWait(driver, 20).until(EC.presence_of_all_elements_located((By.CSS_SELECTOR, 'h2.card__title a')))\n",
    "    courses = [(elem.get_attribute('href'), elem.text) for elem in driver.find_elements(By.CSS_SELECTOR, 'h2.card__title a')]\n",
    "    for course_link, _ in courses:\n",
    "        course_name, median_salary, department = process_course_page(course_link)\n",
    "        courses_info.append((course_name, median_salary, department))\n",
    "        driver.get(current_page_url)\n",
    "    new_page_url = navigate_to_next_page()\n",
    "    if new_page_url:\n",
    "        current_page_url = new_page_url\n",
    "    else:\n",
    "        break\n",
    "\n",
    "driver.quit()\n",
    "\n",
    "# Save results to a CSV file\n",
    "csv_file_path = 'Data/output.csv'\n",
    "with open(csv_file_path, 'w', newline='') as file:\n",
    "    writer = csv.writer(file)\n",
    "    writer.writerow(['Course Name', 'Median Salary', 'Department'])\n",
    "    writer.writerows(courses_info)\n",
    "\n",
    "print(\"Data extraction complete. Results saved to CSV.\")\n"
   ]
  },
  {
   "cell_type": "markdown",
   "id": "76308656",
   "metadata": {},
   "source": [
    "Postgraduate Courses:"
   ]
  },
  {
   "cell_type": "code",
   "execution_count": 23,
   "id": "f340148b",
   "metadata": {},
   "outputs": [
    {
     "name": "stdout",
     "output_type": "stream",
     "text": [
      "£33,000\n",
      "£42,000\n",
      "Salary not found.\n"
     ]
    },
    {
     "ename": "KeyboardInterrupt",
     "evalue": "",
     "output_type": "error",
     "traceback": [
      "\u001b[0;31m---------------------------------------------------------------------------\u001b[0m",
      "\u001b[0;31mKeyboardInterrupt\u001b[0m                         Traceback (most recent call last)",
      "Cell \u001b[0;32mIn[23], line 108\u001b[0m\n\u001b[1;32m    106\u001b[0m \u001b[38;5;66;03m# URL for postgraduate courses\u001b[39;00m\n\u001b[1;32m    107\u001b[0m postgraduate_url \u001b[38;5;241m=\u001b[39m \u001b[38;5;124m\"\u001b[39m\u001b[38;5;124mhttps://www.lse.ac.uk/programmes/search-courses?studyType=0\u001b[39m\u001b[38;5;132;01m%2F\u001b[39;00m\u001b[38;5;124m1\u001b[39m\u001b[38;5;132;01m%2F\u001b[39;00m\u001b[38;5;124m26\u001b[39m\u001b[38;5;132;01m%2F\u001b[39;00m\u001b[38;5;124m85\u001b[39m\u001b[38;5;132;01m%2F\u001b[39;00m\u001b[38;5;124m87\u001b[39m\u001b[38;5;124m\"\u001b[39m\n\u001b[0;32m--> 108\u001b[0m postgraduate_courses \u001b[38;5;241m=\u001b[39m scrape_courses(postgraduate_url)\n\u001b[1;32m    109\u001b[0m save_to_csv(postgraduate_courses, \u001b[38;5;124m'\u001b[39m\u001b[38;5;124mData/output.csv\u001b[39m\u001b[38;5;124m'\u001b[39m)\n\u001b[1;32m    110\u001b[0m \u001b[38;5;28mprint\u001b[39m(\u001b[38;5;124m\"\u001b[39m\u001b[38;5;124mData extraction complete. Results added to \u001b[39m\u001b[38;5;124m'\u001b[39m\u001b[38;5;124moutput.csv\u001b[39m\u001b[38;5;124m'\u001b[39m\u001b[38;5;124m.\u001b[39m\u001b[38;5;124m\"\u001b[39m)\n",
      "Cell \u001b[0;32mIn[23], line 61\u001b[0m, in \u001b[0;36mscrape_courses\u001b[0;34m(base_url)\u001b[0m\n\u001b[1;32m     58\u001b[0m courses \u001b[38;5;241m=\u001b[39m [(elem\u001b[38;5;241m.\u001b[39mget_attribute(\u001b[38;5;124m'\u001b[39m\u001b[38;5;124mhref\u001b[39m\u001b[38;5;124m'\u001b[39m), elem\u001b[38;5;241m.\u001b[39mtext) \u001b[38;5;28;01mfor\u001b[39;00m elem \u001b[38;5;129;01min\u001b[39;00m course_elements]\n\u001b[1;32m     60\u001b[0m \u001b[38;5;28;01mfor\u001b[39;00m course_link, _ \u001b[38;5;129;01min\u001b[39;00m courses:\n\u001b[0;32m---> 61\u001b[0m     driver\u001b[38;5;241m.\u001b[39mget(course_link)\n\u001b[1;32m     62\u001b[0m     WebDriverWait(driver, \u001b[38;5;241m10\u001b[39m)\u001b[38;5;241m.\u001b[39muntil(EC\u001b[38;5;241m.\u001b[39mpresence_of_element_located((By\u001b[38;5;241m.\u001b[39mTAG_NAME, \u001b[38;5;124m'\u001b[39m\u001b[38;5;124mbody\u001b[39m\u001b[38;5;124m'\u001b[39m)))\n\u001b[1;32m     63\u001b[0m     course_info \u001b[38;5;241m=\u001b[39m process_course_page(driver, course_link)\n",
      "File \u001b[0;32m~/anaconda3/lib/python3.11/site-packages/selenium/webdriver/remote/webdriver.py:356\u001b[0m, in \u001b[0;36mWebDriver.get\u001b[0;34m(self, url)\u001b[0m\n\u001b[1;32m    354\u001b[0m \u001b[38;5;28;01mdef\u001b[39;00m \u001b[38;5;21mget\u001b[39m(\u001b[38;5;28mself\u001b[39m, url: \u001b[38;5;28mstr\u001b[39m) \u001b[38;5;241m-\u001b[39m\u001b[38;5;241m>\u001b[39m \u001b[38;5;28;01mNone\u001b[39;00m:\n\u001b[1;32m    355\u001b[0m \u001b[38;5;250m    \u001b[39m\u001b[38;5;124;03m\"\"\"Loads a web page in the current browser session.\"\"\"\u001b[39;00m\n\u001b[0;32m--> 356\u001b[0m     \u001b[38;5;28mself\u001b[39m\u001b[38;5;241m.\u001b[39mexecute(Command\u001b[38;5;241m.\u001b[39mGET, {\u001b[38;5;124m\"\u001b[39m\u001b[38;5;124murl\u001b[39m\u001b[38;5;124m\"\u001b[39m: url})\n",
      "File \u001b[0;32m~/anaconda3/lib/python3.11/site-packages/selenium/webdriver/remote/webdriver.py:345\u001b[0m, in \u001b[0;36mWebDriver.execute\u001b[0;34m(self, driver_command, params)\u001b[0m\n\u001b[1;32m    342\u001b[0m     \u001b[38;5;28;01melif\u001b[39;00m \u001b[38;5;124m\"\u001b[39m\u001b[38;5;124msessionId\u001b[39m\u001b[38;5;124m\"\u001b[39m \u001b[38;5;129;01mnot\u001b[39;00m \u001b[38;5;129;01min\u001b[39;00m params:\n\u001b[1;32m    343\u001b[0m         params[\u001b[38;5;124m\"\u001b[39m\u001b[38;5;124msessionId\u001b[39m\u001b[38;5;124m\"\u001b[39m] \u001b[38;5;241m=\u001b[39m \u001b[38;5;28mself\u001b[39m\u001b[38;5;241m.\u001b[39msession_id\n\u001b[0;32m--> 345\u001b[0m response \u001b[38;5;241m=\u001b[39m \u001b[38;5;28mself\u001b[39m\u001b[38;5;241m.\u001b[39mcommand_executor\u001b[38;5;241m.\u001b[39mexecute(driver_command, params)\n\u001b[1;32m    346\u001b[0m \u001b[38;5;28;01mif\u001b[39;00m response:\n\u001b[1;32m    347\u001b[0m     \u001b[38;5;28mself\u001b[39m\u001b[38;5;241m.\u001b[39merror_handler\u001b[38;5;241m.\u001b[39mcheck_response(response)\n",
      "File \u001b[0;32m~/anaconda3/lib/python3.11/site-packages/selenium/webdriver/remote/remote_connection.py:302\u001b[0m, in \u001b[0;36mRemoteConnection.execute\u001b[0;34m(self, command, params)\u001b[0m\n\u001b[1;32m    300\u001b[0m trimmed \u001b[38;5;241m=\u001b[39m \u001b[38;5;28mself\u001b[39m\u001b[38;5;241m.\u001b[39m_trim_large_entries(params)\n\u001b[1;32m    301\u001b[0m LOGGER\u001b[38;5;241m.\u001b[39mdebug(\u001b[38;5;124m\"\u001b[39m\u001b[38;5;132;01m%s\u001b[39;00m\u001b[38;5;124m \u001b[39m\u001b[38;5;132;01m%s\u001b[39;00m\u001b[38;5;124m \u001b[39m\u001b[38;5;132;01m%s\u001b[39;00m\u001b[38;5;124m\"\u001b[39m, command_info[\u001b[38;5;241m0\u001b[39m], url, \u001b[38;5;28mstr\u001b[39m(trimmed))\n\u001b[0;32m--> 302\u001b[0m \u001b[38;5;28;01mreturn\u001b[39;00m \u001b[38;5;28mself\u001b[39m\u001b[38;5;241m.\u001b[39m_request(command_info[\u001b[38;5;241m0\u001b[39m], url, body\u001b[38;5;241m=\u001b[39mdata)\n",
      "File \u001b[0;32m~/anaconda3/lib/python3.11/site-packages/selenium/webdriver/remote/remote_connection.py:322\u001b[0m, in \u001b[0;36mRemoteConnection._request\u001b[0;34m(self, method, url, body)\u001b[0m\n\u001b[1;32m    319\u001b[0m     body \u001b[38;5;241m=\u001b[39m \u001b[38;5;28;01mNone\u001b[39;00m\n\u001b[1;32m    321\u001b[0m \u001b[38;5;28;01mif\u001b[39;00m \u001b[38;5;28mself\u001b[39m\u001b[38;5;241m.\u001b[39mkeep_alive:\n\u001b[0;32m--> 322\u001b[0m     response \u001b[38;5;241m=\u001b[39m \u001b[38;5;28mself\u001b[39m\u001b[38;5;241m.\u001b[39m_conn\u001b[38;5;241m.\u001b[39mrequest(method, url, body\u001b[38;5;241m=\u001b[39mbody, headers\u001b[38;5;241m=\u001b[39mheaders)\n\u001b[1;32m    323\u001b[0m     statuscode \u001b[38;5;241m=\u001b[39m response\u001b[38;5;241m.\u001b[39mstatus\n\u001b[1;32m    324\u001b[0m \u001b[38;5;28;01melse\u001b[39;00m:\n",
      "File \u001b[0;32m~/anaconda3/lib/python3.11/site-packages/urllib3/request.py:78\u001b[0m, in \u001b[0;36mRequestMethods.request\u001b[0;34m(self, method, url, fields, headers, **urlopen_kw)\u001b[0m\n\u001b[1;32m     74\u001b[0m     \u001b[38;5;28;01mreturn\u001b[39;00m \u001b[38;5;28mself\u001b[39m\u001b[38;5;241m.\u001b[39mrequest_encode_url(\n\u001b[1;32m     75\u001b[0m         method, url, fields\u001b[38;5;241m=\u001b[39mfields, headers\u001b[38;5;241m=\u001b[39mheaders, \u001b[38;5;241m*\u001b[39m\u001b[38;5;241m*\u001b[39murlopen_kw\n\u001b[1;32m     76\u001b[0m     )\n\u001b[1;32m     77\u001b[0m \u001b[38;5;28;01melse\u001b[39;00m:\n\u001b[0;32m---> 78\u001b[0m     \u001b[38;5;28;01mreturn\u001b[39;00m \u001b[38;5;28mself\u001b[39m\u001b[38;5;241m.\u001b[39mrequest_encode_body(\n\u001b[1;32m     79\u001b[0m         method, url, fields\u001b[38;5;241m=\u001b[39mfields, headers\u001b[38;5;241m=\u001b[39mheaders, \u001b[38;5;241m*\u001b[39m\u001b[38;5;241m*\u001b[39murlopen_kw\n\u001b[1;32m     80\u001b[0m     )\n",
      "File \u001b[0;32m~/anaconda3/lib/python3.11/site-packages/urllib3/request.py:170\u001b[0m, in \u001b[0;36mRequestMethods.request_encode_body\u001b[0;34m(self, method, url, fields, headers, encode_multipart, multipart_boundary, **urlopen_kw)\u001b[0m\n\u001b[1;32m    167\u001b[0m extra_kw[\u001b[38;5;124m\"\u001b[39m\u001b[38;5;124mheaders\u001b[39m\u001b[38;5;124m\"\u001b[39m]\u001b[38;5;241m.\u001b[39mupdate(headers)\n\u001b[1;32m    168\u001b[0m extra_kw\u001b[38;5;241m.\u001b[39mupdate(urlopen_kw)\n\u001b[0;32m--> 170\u001b[0m \u001b[38;5;28;01mreturn\u001b[39;00m \u001b[38;5;28mself\u001b[39m\u001b[38;5;241m.\u001b[39murlopen(method, url, \u001b[38;5;241m*\u001b[39m\u001b[38;5;241m*\u001b[39mextra_kw)\n",
      "File \u001b[0;32m~/anaconda3/lib/python3.11/site-packages/urllib3/poolmanager.py:376\u001b[0m, in \u001b[0;36mPoolManager.urlopen\u001b[0;34m(self, method, url, redirect, **kw)\u001b[0m\n\u001b[1;32m    374\u001b[0m     response \u001b[38;5;241m=\u001b[39m conn\u001b[38;5;241m.\u001b[39murlopen(method, url, \u001b[38;5;241m*\u001b[39m\u001b[38;5;241m*\u001b[39mkw)\n\u001b[1;32m    375\u001b[0m \u001b[38;5;28;01melse\u001b[39;00m:\n\u001b[0;32m--> 376\u001b[0m     response \u001b[38;5;241m=\u001b[39m conn\u001b[38;5;241m.\u001b[39murlopen(method, u\u001b[38;5;241m.\u001b[39mrequest_uri, \u001b[38;5;241m*\u001b[39m\u001b[38;5;241m*\u001b[39mkw)\n\u001b[1;32m    378\u001b[0m redirect_location \u001b[38;5;241m=\u001b[39m redirect \u001b[38;5;129;01mand\u001b[39;00m response\u001b[38;5;241m.\u001b[39mget_redirect_location()\n\u001b[1;32m    379\u001b[0m \u001b[38;5;28;01mif\u001b[39;00m \u001b[38;5;129;01mnot\u001b[39;00m redirect_location:\n",
      "File \u001b[0;32m~/anaconda3/lib/python3.11/site-packages/urllib3/connectionpool.py:714\u001b[0m, in \u001b[0;36mHTTPConnectionPool.urlopen\u001b[0;34m(self, method, url, body, headers, retries, redirect, assert_same_host, timeout, pool_timeout, release_conn, chunked, body_pos, **response_kw)\u001b[0m\n\u001b[1;32m    711\u001b[0m     \u001b[38;5;28mself\u001b[39m\u001b[38;5;241m.\u001b[39m_prepare_proxy(conn)\n\u001b[1;32m    713\u001b[0m \u001b[38;5;66;03m# Make the request on the httplib connection object.\u001b[39;00m\n\u001b[0;32m--> 714\u001b[0m httplib_response \u001b[38;5;241m=\u001b[39m \u001b[38;5;28mself\u001b[39m\u001b[38;5;241m.\u001b[39m_make_request(\n\u001b[1;32m    715\u001b[0m     conn,\n\u001b[1;32m    716\u001b[0m     method,\n\u001b[1;32m    717\u001b[0m     url,\n\u001b[1;32m    718\u001b[0m     timeout\u001b[38;5;241m=\u001b[39mtimeout_obj,\n\u001b[1;32m    719\u001b[0m     body\u001b[38;5;241m=\u001b[39mbody,\n\u001b[1;32m    720\u001b[0m     headers\u001b[38;5;241m=\u001b[39mheaders,\n\u001b[1;32m    721\u001b[0m     chunked\u001b[38;5;241m=\u001b[39mchunked,\n\u001b[1;32m    722\u001b[0m )\n\u001b[1;32m    724\u001b[0m \u001b[38;5;66;03m# If we're going to release the connection in ``finally:``, then\u001b[39;00m\n\u001b[1;32m    725\u001b[0m \u001b[38;5;66;03m# the response doesn't need to know about the connection. Otherwise\u001b[39;00m\n\u001b[1;32m    726\u001b[0m \u001b[38;5;66;03m# it will also try to release it and we'll have a double-release\u001b[39;00m\n\u001b[1;32m    727\u001b[0m \u001b[38;5;66;03m# mess.\u001b[39;00m\n\u001b[1;32m    728\u001b[0m response_conn \u001b[38;5;241m=\u001b[39m conn \u001b[38;5;28;01mif\u001b[39;00m \u001b[38;5;129;01mnot\u001b[39;00m release_conn \u001b[38;5;28;01melse\u001b[39;00m \u001b[38;5;28;01mNone\u001b[39;00m\n",
      "File \u001b[0;32m~/anaconda3/lib/python3.11/site-packages/urllib3/connectionpool.py:466\u001b[0m, in \u001b[0;36mHTTPConnectionPool._make_request\u001b[0;34m(self, conn, method, url, timeout, chunked, **httplib_request_kw)\u001b[0m\n\u001b[1;32m    461\u001b[0m             httplib_response \u001b[38;5;241m=\u001b[39m conn\u001b[38;5;241m.\u001b[39mgetresponse()\n\u001b[1;32m    462\u001b[0m         \u001b[38;5;28;01mexcept\u001b[39;00m \u001b[38;5;167;01mBaseException\u001b[39;00m \u001b[38;5;28;01mas\u001b[39;00m e:\n\u001b[1;32m    463\u001b[0m             \u001b[38;5;66;03m# Remove the TypeError from the exception chain in\u001b[39;00m\n\u001b[1;32m    464\u001b[0m             \u001b[38;5;66;03m# Python 3 (including for exceptions like SystemExit).\u001b[39;00m\n\u001b[1;32m    465\u001b[0m             \u001b[38;5;66;03m# Otherwise it looks like a bug in the code.\u001b[39;00m\n\u001b[0;32m--> 466\u001b[0m             six\u001b[38;5;241m.\u001b[39mraise_from(e, \u001b[38;5;28;01mNone\u001b[39;00m)\n\u001b[1;32m    467\u001b[0m \u001b[38;5;28;01mexcept\u001b[39;00m (SocketTimeout, BaseSSLError, SocketError) \u001b[38;5;28;01mas\u001b[39;00m e:\n\u001b[1;32m    468\u001b[0m     \u001b[38;5;28mself\u001b[39m\u001b[38;5;241m.\u001b[39m_raise_timeout(err\u001b[38;5;241m=\u001b[39me, url\u001b[38;5;241m=\u001b[39murl, timeout_value\u001b[38;5;241m=\u001b[39mread_timeout)\n",
      "File \u001b[0;32m<string>:3\u001b[0m, in \u001b[0;36mraise_from\u001b[0;34m(value, from_value)\u001b[0m\n",
      "File \u001b[0;32m~/anaconda3/lib/python3.11/site-packages/urllib3/connectionpool.py:461\u001b[0m, in \u001b[0;36mHTTPConnectionPool._make_request\u001b[0;34m(self, conn, method, url, timeout, chunked, **httplib_request_kw)\u001b[0m\n\u001b[1;32m    458\u001b[0m \u001b[38;5;28;01mexcept\u001b[39;00m \u001b[38;5;167;01mTypeError\u001b[39;00m:\n\u001b[1;32m    459\u001b[0m     \u001b[38;5;66;03m# Python 3\u001b[39;00m\n\u001b[1;32m    460\u001b[0m     \u001b[38;5;28;01mtry\u001b[39;00m:\n\u001b[0;32m--> 461\u001b[0m         httplib_response \u001b[38;5;241m=\u001b[39m conn\u001b[38;5;241m.\u001b[39mgetresponse()\n\u001b[1;32m    462\u001b[0m     \u001b[38;5;28;01mexcept\u001b[39;00m \u001b[38;5;167;01mBaseException\u001b[39;00m \u001b[38;5;28;01mas\u001b[39;00m e:\n\u001b[1;32m    463\u001b[0m         \u001b[38;5;66;03m# Remove the TypeError from the exception chain in\u001b[39;00m\n\u001b[1;32m    464\u001b[0m         \u001b[38;5;66;03m# Python 3 (including for exceptions like SystemExit).\u001b[39;00m\n\u001b[1;32m    465\u001b[0m         \u001b[38;5;66;03m# Otherwise it looks like a bug in the code.\u001b[39;00m\n\u001b[1;32m    466\u001b[0m         six\u001b[38;5;241m.\u001b[39mraise_from(e, \u001b[38;5;28;01mNone\u001b[39;00m)\n",
      "File \u001b[0;32m~/anaconda3/lib/python3.11/http/client.py:1378\u001b[0m, in \u001b[0;36mHTTPConnection.getresponse\u001b[0;34m(self)\u001b[0m\n\u001b[1;32m   1376\u001b[0m \u001b[38;5;28;01mtry\u001b[39;00m:\n\u001b[1;32m   1377\u001b[0m     \u001b[38;5;28;01mtry\u001b[39;00m:\n\u001b[0;32m-> 1378\u001b[0m         response\u001b[38;5;241m.\u001b[39mbegin()\n\u001b[1;32m   1379\u001b[0m     \u001b[38;5;28;01mexcept\u001b[39;00m \u001b[38;5;167;01mConnectionError\u001b[39;00m:\n\u001b[1;32m   1380\u001b[0m         \u001b[38;5;28mself\u001b[39m\u001b[38;5;241m.\u001b[39mclose()\n",
      "File \u001b[0;32m~/anaconda3/lib/python3.11/http/client.py:318\u001b[0m, in \u001b[0;36mHTTPResponse.begin\u001b[0;34m(self)\u001b[0m\n\u001b[1;32m    316\u001b[0m \u001b[38;5;66;03m# read until we get a non-100 response\u001b[39;00m\n\u001b[1;32m    317\u001b[0m \u001b[38;5;28;01mwhile\u001b[39;00m \u001b[38;5;28;01mTrue\u001b[39;00m:\n\u001b[0;32m--> 318\u001b[0m     version, status, reason \u001b[38;5;241m=\u001b[39m \u001b[38;5;28mself\u001b[39m\u001b[38;5;241m.\u001b[39m_read_status()\n\u001b[1;32m    319\u001b[0m     \u001b[38;5;28;01mif\u001b[39;00m status \u001b[38;5;241m!=\u001b[39m CONTINUE:\n\u001b[1;32m    320\u001b[0m         \u001b[38;5;28;01mbreak\u001b[39;00m\n",
      "File \u001b[0;32m~/anaconda3/lib/python3.11/http/client.py:279\u001b[0m, in \u001b[0;36mHTTPResponse._read_status\u001b[0;34m(self)\u001b[0m\n\u001b[1;32m    278\u001b[0m \u001b[38;5;28;01mdef\u001b[39;00m \u001b[38;5;21m_read_status\u001b[39m(\u001b[38;5;28mself\u001b[39m):\n\u001b[0;32m--> 279\u001b[0m     line \u001b[38;5;241m=\u001b[39m \u001b[38;5;28mstr\u001b[39m(\u001b[38;5;28mself\u001b[39m\u001b[38;5;241m.\u001b[39mfp\u001b[38;5;241m.\u001b[39mreadline(_MAXLINE \u001b[38;5;241m+\u001b[39m \u001b[38;5;241m1\u001b[39m), \u001b[38;5;124m\"\u001b[39m\u001b[38;5;124miso-8859-1\u001b[39m\u001b[38;5;124m\"\u001b[39m)\n\u001b[1;32m    280\u001b[0m     \u001b[38;5;28;01mif\u001b[39;00m \u001b[38;5;28mlen\u001b[39m(line) \u001b[38;5;241m>\u001b[39m _MAXLINE:\n\u001b[1;32m    281\u001b[0m         \u001b[38;5;28;01mraise\u001b[39;00m LineTooLong(\u001b[38;5;124m\"\u001b[39m\u001b[38;5;124mstatus line\u001b[39m\u001b[38;5;124m\"\u001b[39m)\n",
      "File \u001b[0;32m~/anaconda3/lib/python3.11/socket.py:706\u001b[0m, in \u001b[0;36mSocketIO.readinto\u001b[0;34m(self, b)\u001b[0m\n\u001b[1;32m    704\u001b[0m \u001b[38;5;28;01mwhile\u001b[39;00m \u001b[38;5;28;01mTrue\u001b[39;00m:\n\u001b[1;32m    705\u001b[0m     \u001b[38;5;28;01mtry\u001b[39;00m:\n\u001b[0;32m--> 706\u001b[0m         \u001b[38;5;28;01mreturn\u001b[39;00m \u001b[38;5;28mself\u001b[39m\u001b[38;5;241m.\u001b[39m_sock\u001b[38;5;241m.\u001b[39mrecv_into(b)\n\u001b[1;32m    707\u001b[0m     \u001b[38;5;28;01mexcept\u001b[39;00m timeout:\n\u001b[1;32m    708\u001b[0m         \u001b[38;5;28mself\u001b[39m\u001b[38;5;241m.\u001b[39m_timeout_occurred \u001b[38;5;241m=\u001b[39m \u001b[38;5;28;01mTrue\u001b[39;00m\n",
      "\u001b[0;31mKeyboardInterrupt\u001b[0m: "
     ]
    }
   ],
   "source": [
    "from selenium import webdriver\n",
    "from selenium.webdriver.common.by import By\n",
    "from selenium.webdriver.support.ui import WebDriverWait\n",
    "from selenium.webdriver.support import expected_conditions as EC\n",
    "from selenium.common.exceptions import TimeoutException, NoSuchElementException\n",
    "import csv\n",
    "from bs4 import BeautifulSoup\n",
    "import os\n",
    "\n",
    "def setup_driver():\n",
    "    \"\"\"Sets up the WebDriver for Chrome.\"\"\"\n",
    "    options = webdriver.ChromeOptions()\n",
    "    options.add_argument('--no-sandbox')\n",
    "    options.add_argument('--disable-dev-shm-usage')\n",
    "    driver = webdriver.Chrome(options=options)\n",
    "    return driver\n",
    "\n",
    "def process_course_page(driver, course_link):\n",
    "    \"\"\"Visits each course link and extracts the course name, median salary, and department for postgraduate courses.\"\"\"\n",
    "    driver.get(course_link)\n",
    "    WebDriverWait(driver, 10).until(EC.presence_of_element_located((By.TAG_NAME, 'body')))\n",
    "    soup = BeautifulSoup(driver.page_source, 'html.parser')\n",
    "\n",
    "    # Extracting course name\n",
    "    course_name_elem = soup.find('h1', class_='pageTitle')\n",
    "    course_name = course_name_elem.text.strip() if course_name_elem else \"Course name not found.\"\n",
    "\n",
    "    # Finding department\n",
    "    department_elem = soup.find('li', class_='keyDetails__item--dept')\n",
    "    department = department_elem.text.strip() if department_elem else \"Department not found.\"\n",
    "\n",
    "    # Extracting median salary directly from the Careers accordion content\n",
    "    # Extracting median salary directly from the Careers accordion content\n",
    "    median_salary = \"Salary not found.\"\n",
    "    careers_accordion = soup.find('h1', class_='accordion__title', string=lambda text: 'Careers' in text if text else False)\n",
    "    if careers_accordion:\n",
    "        careers_content = careers_accordion.find_next('div', class_='accordion__content')\n",
    "        if careers_content:\n",
    "            salary_tag = careers_content.find('strong', string=lambda text: \"Median salary\" in text if text else False)\n",
    "            if salary_tag:\n",
    "                median_salary = salary_tag.next_sibling.strip() if salary_tag.next_sibling else \"Salary not found.\"\n",
    "\n",
    "    print(median_salary)\n",
    "    return course_name, median_salary, department\n",
    "\n",
    "\n",
    "# Main scraping function\n",
    "def scrape_courses(base_url):\n",
    "    driver = setup_driver()\n",
    "    driver.get(base_url)\n",
    "    courses_info = []\n",
    "    current_page_url = base_url  # Initialize current page URL\n",
    "\n",
    "    while True:\n",
    "        # Wait for the course links to be visible and then collect them\n",
    "        WebDriverWait(driver, 20).until(EC.presence_of_all_elements_located((By.CSS_SELECTOR, 'h2.card__title a')))\n",
    "        course_elements = driver.find_elements(By.CSS_SELECTOR, 'h2.card__title a')\n",
    "        courses = [(elem.get_attribute('href'), elem.text) for elem in course_elements]\n",
    "\n",
    "        for course_link, _ in courses:\n",
    "            driver.get(course_link)\n",
    "            WebDriverWait(driver, 10).until(EC.presence_of_element_located((By.TAG_NAME, 'body')))\n",
    "            course_info = process_course_page(driver, course_link)\n",
    "            courses_info.append(course_info)\n",
    "            driver.get(current_page_url)  # Go back to the current list page, not the base URL\n",
    "            WebDriverWait(driver, 20).until(EC.presence_of_all_elements_located((By.CSS_SELECTOR, 'h2.card__title a')))  # Wait until all course links are visible again\n",
    "\n",
    "        new_page_url = navigate_to_next_page(driver)\n",
    "        if new_page_url:\n",
    "            current_page_url = new_page_url  # Update the current page URL\n",
    "            driver.get(new_page_url)  # Navigate to the next page\n",
    "            WebDriverWait(driver, 20).until(EC.presence_of_element_located((By.TAG_NAME, 'body')))  # Ensure the page is loaded\n",
    "        else:\n",
    "            break  # Exit the loop if there are no more pages\n",
    "\n",
    "    driver.quit()\n",
    "    return courses_info\n",
    "\n",
    "def navigate_to_next_page(driver):\n",
    "    \"\"\"Navigates to the next page if possible.\"\"\"\n",
    "    try:\n",
    "        next_page_button = WebDriverWait(driver, 20).until(\n",
    "            EC.element_to_be_clickable((By.XPATH, \"//li[contains(@class, 'next')]//button[contains(., 'Next')]\")))\n",
    "        next_page_button.click()\n",
    "        WebDriverWait(driver, 10).until(EC.presence_of_element_located((By.TAG_NAME, 'body')))\n",
    "        return driver.current_url\n",
    "    except TimeoutException:\n",
    "        return None\n",
    "\n",
    "    \n",
    "\n",
    "\n",
    "def save_to_csv(data, filename):\n",
    "    \"\"\"Appends the data to a CSV file or creates it if it doesn't exist.\"\"\"\n",
    "    file_exists = os.path.isfile(filename)  # Check if the file already exists\n",
    "\n",
    "    with open(filename, 'a', newline='') as file:  # Open the file in append mode\n",
    "        writer = csv.writer(file)\n",
    "        \n",
    "        if not file_exists:\n",
    "            writer.writerow(['Course Name', 'Median Salary', 'Department'])  # Write header only if the file does not exist\n",
    "        \n",
    "        writer.writerows(data)\n",
    "\n",
    "\n",
    "# URL for postgraduate courses\n",
    "postgraduate_url = \"https://www.lse.ac.uk/programmes/search-courses?studyType=0%2F1%2F26%2F85%2F87\"\n",
    "postgraduate_courses = scrape_courses(postgraduate_url)\n",
    "save_to_csv(postgraduate_courses, 'Data/output.csv')\n",
    "print(\"Data extraction complete. Results added to 'output.csv'.\")\n",
    "\n"
   ]
  },
  {
   "cell_type": "markdown",
   "id": "8002eeb0",
   "metadata": {},
   "source": [
    "Now the output from the webscraping will be cleaned:"
   ]
  },
  {
   "cell_type": "code",
   "execution_count": 44,
   "id": "48bf5111",
   "metadata": {},
   "outputs": [
    {
     "name": "stdout",
     "output_type": "stream",
     "text": [
      "Data has been cleaned, duplicates removed, and saved to cleaned_output.csv.\n"
     ]
    }
   ],
   "source": [
    "import pandas as pd\n",
    "\n",
    "# Load the original CSV file\n",
    "data_path = 'Data/output.csv'\n",
    "data = pd.read_csv(data_path, encoding='ISO-8859-1')\n",
    "\n",
    "# Simplify department names by removing \"Department of \"\n",
    "data['Department'] = data['Department'].str.replace('Department of ', '')\n",
    "\n",
    "# Replace \"Salary not found\" with NaN\n",
    "data['Median Salary'] = data['Median Salary'].replace('Salary not found', pd.NA)\n",
    "\n",
    "# Convert salary values to numeric, removing non-numeric characters like £ and commas\n",
    "data['Median Salary'] = pd.to_numeric(data['Median Salary'].str.replace('[£,]', '', regex=True), errors='coerce')\n",
    "\n",
    "# Determine median salary to categorize into 'High' and 'Low' groups\n",
    "median_salary = data['Median Salary'].median()\n",
    "data['Salary Group'] = data['Median Salary'].apply(lambda x: 'High' if x >= median_salary else 'Low')\n",
    "\n",
    "# Remove duplicate rows\n",
    "data.drop_duplicates(inplace=True)\n",
    "\n",
    "# Save the cleaned data to a new CSV file\n",
    "clean_data_path = 'cleaned_output.csv'\n",
    "data.to_csv(clean_data_path, index=False)\n",
    "\n",
    "print(f\"Data has been cleaned, duplicates removed, and saved to {clean_data_path}.\")\n"
   ]
  },
  {
   "cell_type": "markdown",
   "id": "378b2de0",
   "metadata": {},
   "source": [
    "Using the cleaned output, we can begin visualizing the data to explore some of its insights:\n",
    "\n",
    "Notably, departments were split into two groups based on the median salary (post-graduation). The threshold between high and low income departments was the actual median of the median salary values.Through this grouping, the analysis of the effect of brexit can be split between the two salary groups. \n",
    "\n",
    "To reiterate, the 2021 cohort was the first year group of EU students which now faced international fees, i.e., they are the first cohort to face significantly higher costs."
   ]
  },
  {
   "cell_type": "code",
   "execution_count": 1,
   "id": "be6dbc81",
   "metadata": {
    "scrolled": false
   },
   "outputs": [
    {
     "data": {
      "image/png": "[encoded data removed]",
      "text/plain": [
       "<Figure size 1000x1800 with 3 Axes>"
      ]
     },
     "metadata": {},
     "output_type": "display_data"
    }
   ],
   "source": [
    "import pandas as pd\n",
    "import matplotlib.pyplot as plt\n",
    "\n",
    "# Load the dataset\n",
    "data = pd.read_csv('Data/PhilipEUCleaned.csv')\n",
    "\n",
    "# Define the years to aggregate data over\n",
    "years = ['2019', '2020', '2021', '2022', '2023']\n",
    "\n",
    "# Prepare the aggregation for applications, offers, and entrances by year and salary group\n",
    "agg_columns = []\n",
    "for year in years:\n",
    "    agg_columns.append((f'Applications {year}', pd.NamedAgg(column=f'Applications {year}', aggfunc='sum')))\n",
    "    agg_columns.append((f'Offers {year}', pd.NamedAgg(column=f'Offers {year}', aggfunc='sum')))\n",
    "    agg_columns.append((f'Entrances {year}', pd.NamedAgg(column=f'Entrances {year}', aggfunc='sum')))\n",
    "\n",
    "agg_data = data.groupby('Salary Group').agg(**dict(agg_columns)).reset_index()\n",
    "\n",
    "# Calculate offer and entrance rates as a percentage of applications\n",
    "for year in years:\n",
    "    agg_data[f'Offer Rate {year}'] = agg_data[f'Offers {year}'] / agg_data[f'Applications {year}'] * 100\n",
    "    agg_data[f'Entrance Rate {year}'] = agg_data[f'Entrances {year}'] / agg_data[f'Applications {year}'] * 100\n",
    "\n",
    "# Calculate growth rate of applications year-over-year for each salary group\n",
    "for year in years[1:]:  # Start from 2020 to be able to calculate growth from 2019\n",
    "    previous_year = str(int(year) - 1)\n",
    "    agg_data[f'Applications Growth {year}'] = (\n",
    "        (agg_data[f'Applications {year}'] - agg_data[f'Applications {previous_year}']) / agg_data[f'Applications {previous_year}']) * 100\n",
    "\n",
    "# Prepare data for plotting growth rates\n",
    "growth_columns = [f'Applications Growth {year}' for year in years[1:]]  # Exclude 2019 as there's no previous year data\n",
    "melted_growth_data = agg_data.melt(id_vars=['Salary Group'], value_vars=growth_columns, var_name='Year_Type', value_name='Growth Rate')\n",
    "melted_growth_data['Year'] = melted_growth_data['Year_Type'].str.extract('(\\d+)').astype(int)\n",
    "melted_growth_data['Type'] = 'Applications Growth'\n",
    "\n",
    "# Reshape the rate data for plotting\n",
    "rate_columns = [col for col in agg_data.columns if 'Rate' in col and 'Growth' not in col]\n",
    "melted_rate_data = agg_data.melt(id_vars=['Salary Group'], value_vars=rate_columns, var_name='Year_Type', value_name='Rate')\n",
    "melted_rate_data['Year'] = melted_rate_data['Year_Type'].str.extract('(\\d+)').astype(int)\n",
    "melted_rate_data['Type'] = melted_rate_data['Year_Type'].apply(lambda x: 'Offer Rate' if 'Offer Rate' in x else ('Entrance Rate' if 'Entrance Rate' in x else 'Applications'))\n",
    "\n",
    "# Combine growth data with other rate data for plotting\n",
    "combined_data = pd.concat([melted_growth_data, melted_rate_data])\n",
    "\n",
    "# Plotting with applications growth rate\n",
    "fig, axes = plt.subplots(nrows=3, ncols=1, figsize=(10, 18))\n",
    "\n",
    "# Plot settings\n",
    "types = ['Applications Growth', 'Offer Rate', 'Entrance Rate']\n",
    "colors = ['purple', 'green', 'red']\n",
    "for ax, rate_type in zip(axes.flatten(), types):\n",
    "    pivot_df = combined_data[combined_data['Type'] == rate_type].pivot(index='Year', columns='Salary Group', values='Growth Rate' if 'Growth' in rate_type else 'Rate')\n",
    "    pivot_df.plot(kind='bar', ax=ax, color=colors)\n",
    "    ax.set_title(f'{rate_type} of EU citizens over the Years by Salary Group')\n",
    "    ax.set_ylabel('Growth Rate (%)' if 'Growth' in rate_type else 'Rate (%)')\n",
    "    ax.set_xlabel('Year')\n",
    "\n",
    "plt.tight_layout()\n",
    "plt.show()"
   ]
  },
  {
   "cell_type": "markdown",
   "id": "405f4d67",
   "metadata": {},
   "source": [
    "## Analysis of Offer and Entrance rate\n",
    "\n",
    "From the first two graphs it is visible that both offer and etrance rates were rising in 2019 and 2020, then declined in 2021 but from then gradually started to recover since. This suggests LSE was more than usually competetive for the 2021 cohort which may be a result of the school reopening following covid in 2020 and presumably there was still much uncertainty regarding how teaching, exams, etc. were to be carried out that year. For example students who entered in 2021 still had winter exams online and some of the lectures were held purely online. This uncertainty may have caused LSE to admit a lower number of students than usually which may explain the lower offer rate.\n",
    "\n",
    "This can be in fact verified as the number a lower acceptance rate, holding fixed how many students were admitted, would mean that more students have applied. However, as the number of applications declined for this year it does mean that LSE simply admitted less students this year.   \n",
    "\n",
    "Therefore as Covid had such a significant impact on the university it is hard to interpret the effect of Brexit via raised tuition fees for students from these graphs. Especially as the patterns displayed by both department groups is very similar so comparing the two departments does not reveal significant insights. Importantly, the effect of Brexit on the acceptance rate does not seem to be different between the two groups of departments.\n",
    "\n",
    "Thus now the annual growth in applications will be plotted to focus on the effect of increased tuition fees from 2021 onwards for EU students.\n",
    "\n",
    "## Analysis of annual growth in applications\n",
    "\n",
    "From the third graph it is visible that application growth rate from EU students for the high income departments was positive in the year before Brexit (2020), but from 2021 it is negative.  This makes sense as due to Brexit, EU students now pay significantly higher tuition fees, so they are less inclined to apply and this may explain why the application growth rate is negative from 2021 onwards. \n",
    "\n",
    "In comparison, the application growth rate for EU students for \"low income\" departments has been negative every year in the dataset and therefore may  have not been affected by the Brexit outcome. Especially as the growth rate in applications was already negative in the preceding year, which indicates that other factors may have been involved which also explain why for the low income departments the growth rate in applications has been negative every year. \n",
    "\n",
    "This alligns with what was briefly discussed in the introduction. EU Students which applied to departments with low incomes originally presumably have less financially motivated decisions, i.e., the financial aspect is less significant to them. Therefore, the effect of Brexit raising their tuition fees is less important for them which may explain why their growth rate in applications seem to be unaffected by the result. In fact their Year-on-Year growth rate is  actually higher in 2021 than 2020 which further underlines this point and again suggests that for these applicants there was perhaps a alternative factor which the data does not capture (although it is still negative).\n",
    "\n",
    "Furthermore, the positive growth rate in 2020 for high-income departments could be attributed to students rushing to apply before the anticipated tuition hikes in 2021. This urgency seems less relevant for applicants to low-income departments, where the growth rate was already negative at that time.\n",
    "\n",
    "Moreover, the consistent negative growth rate in low-income departments may also relate to Brexit, as the increased tuition fees might not be seen as a worthwhile investment, especially given the relatively lower financial return. This might explain why there was no surge in applications in 2020 for these departments, unlike their high-income counterparts.\n",
    "\n",
    "\n",
    "\n",
    "# Das FOLGENDE HIER FÜR DIE CONCLUSION\n",
    "\n",
    "Unfortunately data was only available from 2019 onwards. As Brexit was announced 2016 already the data does not reveal anything on the immediate effect of the announcement. For example, the Brexit referendum held then likely immediately evoked much economic uncertainty. This would be especially of interest to those students who value the financial aspect significantly, because this may have also dissusaded them from applying to LSE and UK in general as they are now perhaps worried if studying there is the best decision in terms of future financial security. Especially considering the fact that people who study in the UK typcially start working here. \n",
    "\n",
    "Therefore our data only focusses on the real effect of tuition fees being raised for EU students which is arguably the most significant implication of Brexit for these EU students. However, the notion around economic uncertainty is an inmportant factor, especially when arguing that the significance of financial aspects for the EU students applying for high income departments so this is one major limitation of the dataset that was available. Therefore, a natural extension of this analysis is to increase the sample period and especially to the years before and after the brexit referendum."
   ]
  },
  {
   "cell_type": "markdown",
   "id": "e4ca8fa8",
   "metadata": {},
   "source": [
    "Now to dive deeper into the effect of Brexit on the number of applicants across departments with different starting salaries, can run a regression of the difference in applications on median salary for the various departments (where salary data was available). \n",
    "\n",
    "Specifically the difference in applicants between years 2023 and 2019 was taken (i.e. number of applications for a department in 2023 minus number of applications for a department in 2019). This ensures that the covid years 2020 and 2021 were not included but also using 2023 as the post brexit value means there has been some time for the number of applications to stabilize following the year 2021 increased .\n"
   ]
  },
  {
   "cell_type": "code",
   "execution_count": 15,
   "id": "17afe229",
   "metadata": {},
   "outputs": [
    {
     "data": {
      "application/vnd.plotly.v1+json": {
       "config": {
        "plotlyServerURL": "https://plot.ly"
       },
       "data": [
        {
         "customdata": [
          [
           "Accounting",
           170,
           185
          ],
          [
           "Economic History",
           91.5,
           104.5
          ],
          [
           "Economics",
           481,
           417.5
          ],
          [
           "Finance",
           122,
           179
          ],
          [
           "Government",
           683.5,
           466.5
          ],
          [
           "International History",
           154,
           160.5
          ],
          [
           "International Relations",
           305,
           202
          ],
          [
           "Management",
           628,
           408
          ],
          [
           "Mathematics",
           181.5,
           208.5
          ],
          [
           "Social Policy",
           161.5,
           98.5
          ],
          [
           "Sociology",
           47.5,
           33.5
          ],
          [
           "Statistics",
           115.5,
           146
          ]
         ],
         "hovertemplate": "Median Salary (£)=%{x}<br>Difference in Total Applications (2023 vs 2019)=%{y}<br>Department=%{customdata[0]}<br>Total Pre-Brexit Applications=%{customdata[1]}<br>Total Post-Brexit Applications=%{customdata[2]}<extra></extra>",
         "legendgroup": "",
         "marker": {
          "color": "#636efa",
          "size": 8,
          "symbol": "circle"
         },
         "mode": "markers",
         "name": "",
         "orientation": "v",
         "showlegend": false,
         "type": "scatter",
         "x": [
          38500,
          40000,
          45000,
          60500,
          38000,
          30000,
          29500,
          39000,
          35500,
          34000,
          30000,
          35000
         ],
         "xaxis": "x",
         "y": [
          15,
          13,
          -63.5,
          57,
          -217,
          6.5,
          -103,
          -220,
          27,
          -63,
          -14,
          30.5
         ],
         "yaxis": "y"
        },
        {
         "hovertemplate": "<b>OLS trendline</b><br>Application Difference = 0.00206551 * Median Salary + -122.609<br>R<sup>2</sup>=0.035157<br><br>Median Salary (£)=%{x}<br>Difference in Total Applications (2023 vs 2019)=%{y} <b>(trend)</b><extra></extra>",
         "legendgroup": "",
         "marker": {
          "color": "#636efa",
          "symbol": "circle"
         },
         "mode": "lines",
         "name": "",
         "showlegend": false,
         "type": "scatter",
         "x": [
          29500,
          30000,
          30000,
          34000,
          35000,
          35500,
          38000,
          38500,
          39000,
          40000,
          45000,
          60500
         ],
         "xaxis": "x",
         "y": [
          -61.67633905082607,
          -60.64358623592552,
          -60.64358623592552,
          -52.38156371672106,
          -50.316058086919945,
          -49.28330527201938,
          -44.1195411975166,
          -43.08678838261604,
          -42.05403556771549,
          -39.98852993791437,
          -29.6610017889088,
          2.3543354730084767
         ],
         "yaxis": "y"
        }
       ],
       "layout": {
        "legend": {
         "tracegroupgap": 0
        },
        "template": {
         "data": {
          "bar": [
           {
            "error_x": {
             "color": "#2a3f5f"
            },
            "error_y": {
             "color": "#2a3f5f"
            },
            "marker": {
             "line": {
              "color": "#E5ECF6",
              "width": 0.5
             },
             "pattern": {
              "fillmode": "overlay",
              "size": 10,
              "solidity": 0.2
             }
            },
            "type": "bar"
           }
          ],
          "barpolar": [
           {
            "marker": {
             "line": {
              "color": "#E5ECF6",
              "width": 0.5
             },
             "pattern": {
              "fillmode": "overlay",
              "size": 10,
              "solidity": 0.2
             }
            },
            "type": "barpolar"
           }
          ],
          "carpet": [
           {
            "aaxis": {
             "endlinecolor": "#2a3f5f",
             "gridcolor": "white",
             "linecolor": "white",
             "minorgridcolor": "white",
             "startlinecolor": "#2a3f5f"
            },
            "baxis": {
             "endlinecolor": "#2a3f5f",
             "gridcolor": "white",
             "linecolor": "white",
             "minorgridcolor": "white",
             "startlinecolor": "#2a3f5f"
            },
            "type": "carpet"
           }
          ],
          "choropleth": [
           {
            "colorbar": {
             "outlinewidth": 0,
             "ticks": ""
            },
            "type": "choropleth"
           }
          ],
          "contour": [
           {
            "colorbar": {
             "outlinewidth": 0,
             "ticks": ""
            },
            "colorscale": [
             [
              0,
              "#0d0887"
             ],
             [
              0.1111111111111111,
              "#46039f"
             ],
             [
              0.2222222222222222,
              "#7201a8"
             ],
             [
              0.3333333333333333,
              "#9c179e"
             ],
             [
              0.4444444444444444,
              "#bd3786"
             ],
             [
              0.5555555555555556,
              "#d8576b"
             ],
             [
              0.6666666666666666,
              "#ed7953"
             ],
             [
              0.7777777777777778,
              "#fb9f3a"
             ],
             [
              0.8888888888888888,
              "#fdca26"
             ],
             [
              1,
              "#f0f921"
             ]
            ],
            "type": "contour"
           }
          ],
          "contourcarpet": [
           {
            "colorbar": {
             "outlinewidth": 0,
             "ticks": ""
            },
            "type": "contourcarpet"
           }
          ],
          "heatmap": [
           {
            "colorbar": {
             "outlinewidth": 0,
             "ticks": ""
            },
            "colorscale": [
             [
              0,
              "#0d0887"
             ],
             [
              0.1111111111111111,
              "#46039f"
             ],
             [
              0.2222222222222222,
              "#7201a8"
             ],
             [
              0.3333333333333333,
              "#9c179e"
             ],
             [
              0.4444444444444444,
              "#bd3786"
             ],
             [
              0.5555555555555556,
              "#d8576b"
             ],
             [
              0.6666666666666666,
              "#ed7953"
             ],
             [
              0.7777777777777778,
              "#fb9f3a"
             ],
             [
              0.8888888888888888,
              "#fdca26"
             ],
             [
              1,
              "#f0f921"
             ]
            ],
            "type": "heatmap"
           }
          ],
          "heatmapgl": [
           {
            "colorbar": {
             "outlinewidth": 0,
             "ticks": ""
            },
            "colorscale": [
             [
              0,
              "#0d0887"
             ],
             [
              0.1111111111111111,
              "#46039f"
             ],
             [
              0.2222222222222222,
              "#7201a8"
             ],
             [
              0.3333333333333333,
              "#9c179e"
             ],
             [
              0.4444444444444444,
              "#bd3786"
             ],
             [
              0.5555555555555556,
              "#d8576b"
             ],
             [
              0.6666666666666666,
              "#ed7953"
             ],
             [
              0.7777777777777778,
              "#fb9f3a"
             ],
             [
              0.8888888888888888,
              "#fdca26"
             ],
             [
              1,
              "#f0f921"
             ]
            ],
            "type": "heatmapgl"
           }
          ],
          "histogram": [
           {
            "marker": {
             "pattern": {
              "fillmode": "overlay",
              "size": 10,
              "solidity": 0.2
             }
            },
            "type": "histogram"
           }
          ],
          "histogram2d": [
           {
            "colorbar": {
             "outlinewidth": 0,
             "ticks": ""
            },
            "colorscale": [
             [
              0,
              "#0d0887"
             ],
             [
              0.1111111111111111,
              "#46039f"
             ],
             [
              0.2222222222222222,
              "#7201a8"
             ],
             [
              0.3333333333333333,
              "#9c179e"
             ],
             [
              0.4444444444444444,
              "#bd3786"
             ],
             [
              0.5555555555555556,
              "#d8576b"
             ],
             [
              0.6666666666666666,
              "#ed7953"
             ],
             [
              0.7777777777777778,
              "#fb9f3a"
             ],
             [
              0.8888888888888888,
              "#fdca26"
             ],
             [
              1,
              "#f0f921"
             ]
            ],
            "type": "histogram2d"
           }
          ],
          "histogram2dcontour": [
           {
            "colorbar": {
             "outlinewidth": 0,
             "ticks": ""
            },
            "colorscale": [
             [
              0,
              "#0d0887"
             ],
             [
              0.1111111111111111,
              "#46039f"
             ],
             [
              0.2222222222222222,
              "#7201a8"
             ],
             [
              0.3333333333333333,
              "#9c179e"
             ],
             [
              0.4444444444444444,
              "#bd3786"
             ],
             [
              0.5555555555555556,
              "#d8576b"
             ],
             [
              0.6666666666666666,
              "#ed7953"
             ],
             [
              0.7777777777777778,
              "#fb9f3a"
             ],
             [
              0.8888888888888888,
              "#fdca26"
             ],
             [
              1,
              "#f0f921"
             ]
            ],
            "type": "histogram2dcontour"
           }
          ],
          "mesh3d": [
           {
            "colorbar": {
             "outlinewidth": 0,
             "ticks": ""
            },
            "type": "mesh3d"
           }
          ],
          "parcoords": [
           {
            "line": {
             "colorbar": {
              "outlinewidth": 0,
              "ticks": ""
             }
            },
            "type": "parcoords"
           }
          ],
          "pie": [
           {
            "automargin": true,
            "type": "pie"
           }
          ],
          "scatter": [
           {
            "fillpattern": {
             "fillmode": "overlay",
             "size": 10,
             "solidity": 0.2
            },
            "type": "scatter"
           }
          ],
          "scatter3d": [
           {
            "line": {
             "colorbar": {
              "outlinewidth": 0,
              "ticks": ""
             }
            },
            "marker": {
             "colorbar": {
              "outlinewidth": 0,
              "ticks": ""
             }
            },
            "type": "scatter3d"
           }
          ],
          "scattercarpet": [
           {
            "marker": {
             "colorbar": {
              "outlinewidth": 0,
              "ticks": ""
             }
            },
            "type": "scattercarpet"
           }
          ],
          "scattergeo": [
           {
            "marker": {
             "colorbar": {
              "outlinewidth": 0,
              "ticks": ""
             }
            },
            "type": "scattergeo"
           }
          ],
          "scattergl": [
           {
            "marker": {
             "colorbar": {
              "outlinewidth": 0,
              "ticks": ""
             }
            },
            "type": "scattergl"
           }
          ],
          "scattermapbox": [
           {
            "marker": {
             "colorbar": {
              "outlinewidth": 0,
              "ticks": ""
             }
            },
            "type": "scattermapbox"
           }
          ],
          "scatterpolar": [
           {
            "marker": {
             "colorbar": {
              "outlinewidth": 0,
              "ticks": ""
             }
            },
            "type": "scatterpolar"
           }
          ],
          "scatterpolargl": [
           {
            "marker": {
             "colorbar": {
              "outlinewidth": 0,
              "ticks": ""
             }
            },
            "type": "scatterpolargl"
           }
          ],
          "scatterternary": [
           {
            "marker": {
             "colorbar": {
              "outlinewidth": 0,
              "ticks": ""
             }
            },
            "type": "scatterternary"
           }
          ],
          "surface": [
           {
            "colorbar": {
             "outlinewidth": 0,
             "ticks": ""
            },
            "colorscale": [
             [
              0,
              "#0d0887"
             ],
             [
              0.1111111111111111,
              "#46039f"
             ],
             [
              0.2222222222222222,
              "#7201a8"
             ],
             [
              0.3333333333333333,
              "#9c179e"
             ],
             [
              0.4444444444444444,
              "#bd3786"
             ],
             [
              0.5555555555555556,
              "#d8576b"
             ],
             [
              0.6666666666666666,
              "#ed7953"
             ],
             [
              0.7777777777777778,
              "#fb9f3a"
             ],
             [
              0.8888888888888888,
              "#fdca26"
             ],
             [
              1,
              "#f0f921"
             ]
            ],
            "type": "surface"
           }
          ],
          "table": [
           {
            "cells": {
             "fill": {
              "color": "#EBF0F8"
             },
             "line": {
              "color": "white"
             }
            },
            "header": {
             "fill": {
              "color": "#C8D4E3"
             },
             "line": {
              "color": "white"
             }
            },
            "type": "table"
           }
          ]
         },
         "layout": {
          "annotationdefaults": {
           "arrowcolor": "#2a3f5f",
           "arrowhead": 0,
           "arrowwidth": 1
          },
          "autotypenumbers": "strict",
          "coloraxis": {
           "colorbar": {
            "outlinewidth": 0,
            "ticks": ""
           }
          },
          "colorscale": {
           "diverging": [
            [
             0,
             "#8e0152"
            ],
            [
             0.1,
             "#c51b7d"
            ],
            [
             0.2,
             "#de77ae"
            ],
            [
             0.3,
             "#f1b6da"
            ],
            [
             0.4,
             "#fde0ef"
            ],
            [
             0.5,
             "#f7f7f7"
            ],
            [
             0.6,
             "#e6f5d0"
            ],
            [
             0.7,
             "#b8e186"
            ],
            [
             0.8,
             "#7fbc41"
            ],
            [
             0.9,
             "#4d9221"
            ],
            [
             1,
             "#276419"
            ]
           ],
           "sequential": [
            [
             0,
             "#0d0887"
            ],
            [
             0.1111111111111111,
             "#46039f"
            ],
            [
             0.2222222222222222,
             "#7201a8"
            ],
            [
             0.3333333333333333,
             "#9c179e"
            ],
            [
             0.4444444444444444,
             "#bd3786"
            ],
            [
             0.5555555555555556,
             "#d8576b"
            ],
            [
             0.6666666666666666,
             "#ed7953"
            ],
            [
             0.7777777777777778,
             "#fb9f3a"
            ],
            [
             0.8888888888888888,
             "#fdca26"
            ],
            [
             1,
             "#f0f921"
            ]
           ],
           "sequentialminus": [
            [
             0,
             "#0d0887"
            ],
            [
             0.1111111111111111,
             "#46039f"
            ],
            [
             0.2222222222222222,
             "#7201a8"
            ],
            [
             0.3333333333333333,
             "#9c179e"
            ],
            [
             0.4444444444444444,
             "#bd3786"
            ],
            [
             0.5555555555555556,
             "#d8576b"
            ],
            [
             0.6666666666666666,
             "#ed7953"
            ],
            [
             0.7777777777777778,
             "#fb9f3a"
            ],
            [
             0.8888888888888888,
             "#fdca26"
            ],
            [
             1,
             "#f0f921"
            ]
           ]
          },
          "colorway": [
           "#636efa",
           "#EF553B",
           "#00cc96",
           "#ab63fa",
           "#FFA15A",
           "#19d3f3",
           "#FF6692",
           "#B6E880",
           "#FF97FF",
           "#FECB52"
          ],
          "font": {
           "color": "#2a3f5f"
          },
          "geo": {
           "bgcolor": "white",
           "lakecolor": "white",
           "landcolor": "#E5ECF6",
           "showlakes": true,
           "showland": true,
           "subunitcolor": "white"
          },
          "hoverlabel": {
           "align": "left"
          },
          "hovermode": "closest",
          "mapbox": {
           "style": "light"
          },
          "paper_bgcolor": "white",
          "plot_bgcolor": "#E5ECF6",
          "polar": {
           "angularaxis": {
            "gridcolor": "white",
            "linecolor": "white",
            "ticks": ""
           },
           "bgcolor": "#E5ECF6",
           "radialaxis": {
            "gridcolor": "white",
            "linecolor": "white",
            "ticks": ""
           }
          },
          "scene": {
           "xaxis": {
            "backgroundcolor": "#E5ECF6",
            "gridcolor": "white",
            "gridwidth": 2,
            "linecolor": "white",
            "showbackground": true,
            "ticks": "",
            "zerolinecolor": "white"
           },
           "yaxis": {
            "backgroundcolor": "#E5ECF6",
            "gridcolor": "white",
            "gridwidth": 2,
            "linecolor": "white",
            "showbackground": true,
            "ticks": "",
            "zerolinecolor": "white"
           },
           "zaxis": {
            "backgroundcolor": "#E5ECF6",
            "gridcolor": "white",
            "gridwidth": 2,
            "linecolor": "white",
            "showbackground": true,
            "ticks": "",
            "zerolinecolor": "white"
           }
          },
          "shapedefaults": {
           "line": {
            "color": "#2a3f5f"
           }
          },
          "ternary": {
           "aaxis": {
            "gridcolor": "white",
            "linecolor": "white",
            "ticks": ""
           },
           "baxis": {
            "gridcolor": "white",
            "linecolor": "white",
            "ticks": ""
           },
           "bgcolor": "#E5ECF6",
           "caxis": {
            "gridcolor": "white",
            "linecolor": "white",
            "ticks": ""
           }
          },
          "title": {
           "x": 0.05
          },
          "xaxis": {
           "automargin": true,
           "gridcolor": "white",
           "linecolor": "white",
           "ticks": "",
           "title": {
            "standoff": 15
           },
           "zerolinecolor": "white",
           "zerolinewidth": 2
          },
          "yaxis": {
           "automargin": true,
           "gridcolor": "white",
           "linecolor": "white",
           "ticks": "",
           "title": {
            "standoff": 15
           },
           "zerolinecolor": "white",
           "zerolinewidth": 2
          }
         }
        },
        "title": {
         "text": "Interactive Plot: Median Salary vs. Application Difference Post vs Pre Brexit for Undergraduate Courses"
        },
        "xaxis": {
         "anchor": "y",
         "domain": [
          0,
          1
         ],
         "title": {
          "text": "Median Salary (£)"
         }
        },
        "yaxis": {
         "anchor": "x",
         "domain": [
          0,
          1
         ],
         "title": {
          "text": "Difference in Total Applications (2023 vs 2019)"
         }
        }
       }
      },
      "text/html": [
       "<div>                            <div id=\"4a2308a8-a6d0-41c2-8330-20346a5d2ece\" class=\"plotly-graph-div\" style=\"height:525px; width:100%;\"></div>            <script type=\"text/javascript\">                require([\"plotly\"], function(Plotly) {                    window.PLOTLYENV=window.PLOTLYENV || {};                                    if (document.getElementById(\"4a2308a8-a6d0-41c2-8330-20346a5d2ece\")) {                    Plotly.newPlot(                        \"4a2308a8-a6d0-41c2-8330-20346a5d2ece\",                        [{\"customdata\":[[\"Accounting\",170.0,185.0],[\"Economic History\",91.5,104.5],[\"Economics\",481.0,417.5],[\"Finance\",122.0,179.0],[\"Government\",683.5,466.5],[\"International History\",154.0,160.5],[\"International Relations\",305.0,202.0],[\"Management\",628.0,408.0],[\"Mathematics\",181.5,208.5],[\"Social Policy\",161.5,98.5],[\"Sociology\",47.5,33.5],[\"Statistics\",115.5,146.0]],\"hovertemplate\":\"Median Salary (\\u00a3)=%{x}<br>Difference in Total Applications (2023 vs 2019)=%{y}<br>Department=%{customdata[0]}<br>Total Pre-Brexit Applications=%{customdata[1]}<br>Total Post-Brexit Applications=%{customdata[2]}<extra></extra>\",\"legendgroup\":\"\",\"marker\":{\"color\":\"#636efa\",\"symbol\":\"circle\",\"size\":8},\"mode\":\"markers\",\"name\":\"\",\"orientation\":\"v\",\"showlegend\":false,\"x\":[38500.0,40000.0,45000.0,60500.0,38000.0,30000.0,29500.0,39000.0,35500.0,34000.0,30000.0,35000.0],\"xaxis\":\"x\",\"y\":[15.0,13.0,-63.5,57.0,-217.0,6.5,-103.0,-220.0,27.0,-63.0,-14.0,30.5],\"yaxis\":\"y\",\"type\":\"scatter\"},{\"hovertemplate\":\"<b>OLS trendline</b><br>Application Difference = 0.00206551 * Median Salary + -122.609<br>R<sup>2</sup>=0.035157<br><br>Median Salary (\\u00a3)=%{x}<br>Difference in Total Applications (2023 vs 2019)=%{y} <b>(trend)</b><extra></extra>\",\"legendgroup\":\"\",\"marker\":{\"color\":\"#636efa\",\"symbol\":\"circle\"},\"mode\":\"lines\",\"name\":\"\",\"showlegend\":false,\"x\":[29500.0,30000.0,30000.0,34000.0,35000.0,35500.0,38000.0,38500.0,39000.0,40000.0,45000.0,60500.0],\"xaxis\":\"x\",\"y\":[-61.67633905082607,-60.64358623592552,-60.64358623592552,-52.38156371672106,-50.316058086919945,-49.28330527201938,-44.1195411975166,-43.08678838261604,-42.05403556771549,-39.98852993791437,-29.6610017889088,2.3543354730084767],\"yaxis\":\"y\",\"type\":\"scatter\"}],                        {\"template\":{\"data\":{\"histogram2dcontour\":[{\"type\":\"histogram2dcontour\",\"colorbar\":{\"outlinewidth\":0,\"ticks\":\"\"},\"colorscale\":[[0.0,\"#0d0887\"],[0.1111111111111111,\"#46039f\"],[0.2222222222222222,\"#7201a8\"],[0.3333333333333333,\"#9c179e\"],[0.4444444444444444,\"#bd3786\"],[0.5555555555555556,\"#d8576b\"],[0.6666666666666666,\"#ed7953\"],[0.7777777777777778,\"#fb9f3a\"],[0.8888888888888888,\"#fdca26\"],[1.0,\"#f0f921\"]]}],\"choropleth\":[{\"type\":\"choropleth\",\"colorbar\":{\"outlinewidth\":0,\"ticks\":\"\"}}],\"histogram2d\":[{\"type\":\"histogram2d\",\"colorbar\":{\"outlinewidth\":0,\"ticks\":\"\"},\"colorscale\":[[0.0,\"#0d0887\"],[0.1111111111111111,\"#46039f\"],[0.2222222222222222,\"#7201a8\"],[0.3333333333333333,\"#9c179e\"],[0.4444444444444444,\"#bd3786\"],[0.5555555555555556,\"#d8576b\"],[0.6666666666666666,\"#ed7953\"],[0.7777777777777778,\"#fb9f3a\"],[0.8888888888888888,\"#fdca26\"],[1.0,\"#f0f921\"]]}],\"heatmap\":[{\"type\":\"heatmap\",\"colorbar\":{\"outlinewidth\":0,\"ticks\":\"\"},\"colorscale\":[[0.0,\"#0d0887\"],[0.1111111111111111,\"#46039f\"],[0.2222222222222222,\"#7201a8\"],[0.3333333333333333,\"#9c179e\"],[0.4444444444444444,\"#bd3786\"],[0.5555555555555556,\"#d8576b\"],[0.6666666666666666,\"#ed7953\"],[0.7777777777777778,\"#fb9f3a\"],[0.8888888888888888,\"#fdca26\"],[1.0,\"#f0f921\"]]}],\"heatmapgl\":[{\"type\":\"heatmapgl\",\"colorbar\":{\"outlinewidth\":0,\"ticks\":\"\"},\"colorscale\":[[0.0,\"#0d0887\"],[0.1111111111111111,\"#46039f\"],[0.2222222222222222,\"#7201a8\"],[0.3333333333333333,\"#9c179e\"],[0.4444444444444444,\"#bd3786\"],[0.5555555555555556,\"#d8576b\"],[0.6666666666666666,\"#ed7953\"],[0.7777777777777778,\"#fb9f3a\"],[0.8888888888888888,\"#fdca26\"],[1.0,\"#f0f921\"]]}],\"contourcarpet\":[{\"type\":\"contourcarpet\",\"colorbar\":{\"outlinewidth\":0,\"ticks\":\"\"}}],\"contour\":[{\"type\":\"contour\",\"colorbar\":{\"outlinewidth\":0,\"ticks\":\"\"},\"colorscale\":[[0.0,\"#0d0887\"],[0.1111111111111111,\"#46039f\"],[0.2222222222222222,\"#7201a8\"],[0.3333333333333333,\"#9c179e\"],[0.4444444444444444,\"#bd3786\"],[0.5555555555555556,\"#d8576b\"],[0.6666666666666666,\"#ed7953\"],[0.7777777777777778,\"#fb9f3a\"],[0.8888888888888888,\"#fdca26\"],[1.0,\"#f0f921\"]]}],\"surface\":[{\"type\":\"surface\",\"colorbar\":{\"outlinewidth\":0,\"ticks\":\"\"},\"colorscale\":[[0.0,\"#0d0887\"],[0.1111111111111111,\"#46039f\"],[0.2222222222222222,\"#7201a8\"],[0.3333333333333333,\"#9c179e\"],[0.4444444444444444,\"#bd3786\"],[0.5555555555555556,\"#d8576b\"],[0.6666666666666666,\"#ed7953\"],[0.7777777777777778,\"#fb9f3a\"],[0.8888888888888888,\"#fdca26\"],[1.0,\"#f0f921\"]]}],\"mesh3d\":[{\"type\":\"mesh3d\",\"colorbar\":{\"outlinewidth\":0,\"ticks\":\"\"}}],\"scatter\":[{\"fillpattern\":{\"fillmode\":\"overlay\",\"size\":10,\"solidity\":0.2},\"type\":\"scatter\"}],\"parcoords\":[{\"type\":\"parcoords\",\"line\":{\"colorbar\":{\"outlinewidth\":0,\"ticks\":\"\"}}}],\"scatterpolargl\":[{\"type\":\"scatterpolargl\",\"marker\":{\"colorbar\":{\"outlinewidth\":0,\"ticks\":\"\"}}}],\"bar\":[{\"error_x\":{\"color\":\"#2a3f5f\"},\"error_y\":{\"color\":\"#2a3f5f\"},\"marker\":{\"line\":{\"color\":\"#E5ECF6\",\"width\":0.5},\"pattern\":{\"fillmode\":\"overlay\",\"size\":10,\"solidity\":0.2}},\"type\":\"bar\"}],\"scattergeo\":[{\"type\":\"scattergeo\",\"marker\":{\"colorbar\":{\"outlinewidth\":0,\"ticks\":\"\"}}}],\"scatterpolar\":[{\"type\":\"scatterpolar\",\"marker\":{\"colorbar\":{\"outlinewidth\":0,\"ticks\":\"\"}}}],\"histogram\":[{\"marker\":{\"pattern\":{\"fillmode\":\"overlay\",\"size\":10,\"solidity\":0.2}},\"type\":\"histogram\"}],\"scattergl\":[{\"type\":\"scattergl\",\"marker\":{\"colorbar\":{\"outlinewidth\":0,\"ticks\":\"\"}}}],\"scatter3d\":[{\"type\":\"scatter3d\",\"line\":{\"colorbar\":{\"outlinewidth\":0,\"ticks\":\"\"}},\"marker\":{\"colorbar\":{\"outlinewidth\":0,\"ticks\":\"\"}}}],\"scattermapbox\":[{\"type\":\"scattermapbox\",\"marker\":{\"colorbar\":{\"outlinewidth\":0,\"ticks\":\"\"}}}],\"scatterternary\":[{\"type\":\"scatterternary\",\"marker\":{\"colorbar\":{\"outlinewidth\":0,\"ticks\":\"\"}}}],\"scattercarpet\":[{\"type\":\"scattercarpet\",\"marker\":{\"colorbar\":{\"outlinewidth\":0,\"ticks\":\"\"}}}],\"carpet\":[{\"aaxis\":{\"endlinecolor\":\"#2a3f5f\",\"gridcolor\":\"white\",\"linecolor\":\"white\",\"minorgridcolor\":\"white\",\"startlinecolor\":\"#2a3f5f\"},\"baxis\":{\"endlinecolor\":\"#2a3f5f\",\"gridcolor\":\"white\",\"linecolor\":\"white\",\"minorgridcolor\":\"white\",\"startlinecolor\":\"#2a3f5f\"},\"type\":\"carpet\"}],\"table\":[{\"cells\":{\"fill\":{\"color\":\"#EBF0F8\"},\"line\":{\"color\":\"white\"}},\"header\":{\"fill\":{\"color\":\"#C8D4E3\"},\"line\":{\"color\":\"white\"}},\"type\":\"table\"}],\"barpolar\":[{\"marker\":{\"line\":{\"color\":\"#E5ECF6\",\"width\":0.5},\"pattern\":{\"fillmode\":\"overlay\",\"size\":10,\"solidity\":0.2}},\"type\":\"barpolar\"}],\"pie\":[{\"automargin\":true,\"type\":\"pie\"}]},\"layout\":{\"autotypenumbers\":\"strict\",\"colorway\":[\"#636efa\",\"#EF553B\",\"#00cc96\",\"#ab63fa\",\"#FFA15A\",\"#19d3f3\",\"#FF6692\",\"#B6E880\",\"#FF97FF\",\"#FECB52\"],\"font\":{\"color\":\"#2a3f5f\"},\"hovermode\":\"closest\",\"hoverlabel\":{\"align\":\"left\"},\"paper_bgcolor\":\"white\",\"plot_bgcolor\":\"#E5ECF6\",\"polar\":{\"bgcolor\":\"#E5ECF6\",\"angularaxis\":{\"gridcolor\":\"white\",\"linecolor\":\"white\",\"ticks\":\"\"},\"radialaxis\":{\"gridcolor\":\"white\",\"linecolor\":\"white\",\"ticks\":\"\"}},\"ternary\":{\"bgcolor\":\"#E5ECF6\",\"aaxis\":{\"gridcolor\":\"white\",\"linecolor\":\"white\",\"ticks\":\"\"},\"baxis\":{\"gridcolor\":\"white\",\"linecolor\":\"white\",\"ticks\":\"\"},\"caxis\":{\"gridcolor\":\"white\",\"linecolor\":\"white\",\"ticks\":\"\"}},\"coloraxis\":{\"colorbar\":{\"outlinewidth\":0,\"ticks\":\"\"}},\"colorscale\":{\"sequential\":[[0.0,\"#0d0887\"],[0.1111111111111111,\"#46039f\"],[0.2222222222222222,\"#7201a8\"],[0.3333333333333333,\"#9c179e\"],[0.4444444444444444,\"#bd3786\"],[0.5555555555555556,\"#d8576b\"],[0.6666666666666666,\"#ed7953\"],[0.7777777777777778,\"#fb9f3a\"],[0.8888888888888888,\"#fdca26\"],[1.0,\"#f0f921\"]],\"sequentialminus\":[[0.0,\"#0d0887\"],[0.1111111111111111,\"#46039f\"],[0.2222222222222222,\"#7201a8\"],[0.3333333333333333,\"#9c179e\"],[0.4444444444444444,\"#bd3786\"],[0.5555555555555556,\"#d8576b\"],[0.6666666666666666,\"#ed7953\"],[0.7777777777777778,\"#fb9f3a\"],[0.8888888888888888,\"#fdca26\"],[1.0,\"#f0f921\"]],\"diverging\":[[0,\"#8e0152\"],[0.1,\"#c51b7d\"],[0.2,\"#de77ae\"],[0.3,\"#f1b6da\"],[0.4,\"#fde0ef\"],[0.5,\"#f7f7f7\"],[0.6,\"#e6f5d0\"],[0.7,\"#b8e186\"],[0.8,\"#7fbc41\"],[0.9,\"#4d9221\"],[1,\"#276419\"]]},\"xaxis\":{\"gridcolor\":\"white\",\"linecolor\":\"white\",\"ticks\":\"\",\"title\":{\"standoff\":15},\"zerolinecolor\":\"white\",\"automargin\":true,\"zerolinewidth\":2},\"yaxis\":{\"gridcolor\":\"white\",\"linecolor\":\"white\",\"ticks\":\"\",\"title\":{\"standoff\":15},\"zerolinecolor\":\"white\",\"automargin\":true,\"zerolinewidth\":2},\"scene\":{\"xaxis\":{\"backgroundcolor\":\"#E5ECF6\",\"gridcolor\":\"white\",\"linecolor\":\"white\",\"showbackground\":true,\"ticks\":\"\",\"zerolinecolor\":\"white\",\"gridwidth\":2},\"yaxis\":{\"backgroundcolor\":\"#E5ECF6\",\"gridcolor\":\"white\",\"linecolor\":\"white\",\"showbackground\":true,\"ticks\":\"\",\"zerolinecolor\":\"white\",\"gridwidth\":2},\"zaxis\":{\"backgroundcolor\":\"#E5ECF6\",\"gridcolor\":\"white\",\"linecolor\":\"white\",\"showbackground\":true,\"ticks\":\"\",\"zerolinecolor\":\"white\",\"gridwidth\":2}},\"shapedefaults\":{\"line\":{\"color\":\"#2a3f5f\"}},\"annotationdefaults\":{\"arrowcolor\":\"#2a3f5f\",\"arrowhead\":0,\"arrowwidth\":1},\"geo\":{\"bgcolor\":\"white\",\"landcolor\":\"#E5ECF6\",\"subunitcolor\":\"white\",\"showland\":true,\"showlakes\":true,\"lakecolor\":\"white\"},\"title\":{\"x\":0.05},\"mapbox\":{\"style\":\"light\"}}},\"xaxis\":{\"anchor\":\"y\",\"domain\":[0.0,1.0],\"title\":{\"text\":\"Median Salary (\\u00a3)\"}},\"yaxis\":{\"anchor\":\"x\",\"domain\":[0.0,1.0],\"title\":{\"text\":\"Difference in Total Applications (2023 vs 2019)\"}},\"legend\":{\"tracegroupgap\":0},\"title\":{\"text\":\"Interactive Plot: Median Salary vs. Application Difference Post vs Pre Brexit for Undergraduate Courses\"}},                        {\"responsive\": true}                    ).then(function(){\n",
       "                            \n",
       "var gd = document.getElementById('4a2308a8-a6d0-41c2-8330-20346a5d2ece');\n",
       "var x = new MutationObserver(function (mutations, observer) {{\n",
       "        var display = window.getComputedStyle(gd).display;\n",
       "        if (!display || display === 'none') {{\n",
       "            console.log([gd, 'removed!']);\n",
       "            Plotly.purge(gd);\n",
       "            observer.disconnect();\n",
       "        }}\n",
       "}});\n",
       "\n",
       "// Listen for the removal of the full notebook cells\n",
       "var notebookContainer = gd.closest('#notebook-container');\n",
       "if (notebookContainer) {{\n",
       "    x.observe(notebookContainer, {childList: true});\n",
       "}}\n",
       "\n",
       "// Listen for the clearing of the current output cell\n",
       "var outputEl = gd.closest('.output');\n",
       "if (outputEl) {{\n",
       "    x.observe(outputEl, {childList: true});\n",
       "}}\n",
       "\n",
       "                        })                };                });            </script>        </div>"
      ]
     },
     "metadata": {},
     "output_type": "display_data"
    }
   ],
   "source": [
    "import pandas as pd\n",
    "import plotly.express as px\n",
    "from sklearn.linear_model import LinearRegression\n",
    "\n",
    "# Load the CSV files\n",
    "file_eu_cleaned = pd.read_csv('Data/PhilipEUCleaned.csv')\n",
    "file_output = pd.read_csv('Data/cleaned_output.csv')\n",
    "\n",
    "# Filter for only undergraduate courses in the EU cleaned data\n",
    "undergrad_eu_cleaned = file_eu_cleaned[file_eu_cleaned['Program'].str.contains(\"UG Degree\")]\n",
    "\n",
    "# Compute total applications for the years 2020 (pre-Brexit) and 2022 (post-Brexit)\n",
    "pre_brexit_apps = undergrad_eu_cleaned.groupby('Department')['Applications 2019'].sum()\n",
    "post_brexit_apps = undergrad_eu_cleaned.groupby('Department')['Applications 2023'].sum()\n",
    "\n",
    "# Calculate the difference in applications\n",
    "application_difference = post_brexit_apps - pre_brexit_apps\n",
    "\n",
    "# Get the median salary for each department from the second file, ensuring to match only undergraduate departments\n",
    "median_salaries = file_output[file_output['Course Name'].str.contains(\"BSc\")].groupby('Department')['Median Salary'].median()\n",
    "\n",
    "# Join the application difference and median salary dataframes\n",
    "department_data = pd.DataFrame({\n",
    "    'Median Salary': median_salaries,\n",
    "    'Application Difference': application_difference,\n",
    "    'Total Pre-Brexit Applications': pre_brexit_apps,\n",
    "    'Total Post-Brexit Applications': post_brexit_apps\n",
    "}).dropna()\n",
    "\n",
    "# Add department names for plotting\n",
    "department_data['Department'] = department_data.index\n",
    "\n",
    "# Perform linear regression\n",
    "X = department_data['Median Salary'].values.reshape(-1, 1)\n",
    "y = department_data['Application Difference'].values\n",
    "model = LinearRegression()\n",
    "model.fit(X, y)\n",
    "\n",
    "# Predictions for the line\n",
    "department_data['Predicted Difference'] = model.predict(X)\n",
    "\n",
    "# Create the interactive plot\n",
    "fig = px.scatter(department_data, x='Median Salary', y='Application Difference', trendline='ols',\n",
    "                 labels={\n",
    "                     'Median Salary': 'Median Salary (£)',\n",
    "                     'Application Difference': 'Difference in Total Applications (2023 vs 2019)'\n",
    "                 },\n",
    "                 hover_data=['Department', 'Total Pre-Brexit Applications', 'Total Post-Brexit Applications'],\n",
    "                 title='Interactive Plot: Median Salary vs. Application Difference Post vs Pre Brexit for Undergraduate Courses')\n",
    "fig.update_traces(marker=dict(size=8),\n",
    "                  selector=dict(mode='markers'))\n",
    "fig.show()"
   ]
  },
  {
   "cell_type": "markdown",
   "id": "9444f66c",
   "metadata": {},
   "source": [
    "## Interpretation of the OLS\n",
    "In this analysis, we delve into the relationship between two key variables: the difference in total applications from EU students across academic departments from 2019 to 2023, and the median salary earned by graduates of those departments after completing their studies. Each data point on our graph represents a distinct academic department, with the change in EU student applications plotted on the y-axis and the median salary of graduates on the x-axis.\n",
    "\n",
    "Our primary question centers on whether the expected wage advertised by academic departments influences the decision-making process of prospective applicants, particularly in light of the Brexit referendum and subsequent tuition fee adjustments for EU students. From a financial perspective, we conceptualize further education as an investment, with the net present value of this investment comprising the upfront costs (i.e., tuition fees) and the anticipated future returns in the form of expected salaries.\n",
    "\n",
    "Higher tuition fees may prompt decision-makers to seek more financially lucrative educational pathways, opting for degrees associated with higher projected earnings. This rationale gains further credence when considering students' long-term income prospects. Some EU students may even resort to student loans, the repayment burden of which naturally increases with raised tuition fees. However, a higher expected salary can potentially alleviate the financial strain associated with loan repayment.\n",
    "\n",
    "Upon conducting Ordinary Least Squares (OLS) regression analysis on our dataset, we observe a positive correlation between median salary and the difference in applications. Specifically, departments boasting a £10,000 higher median salary, on average, witnessed a corresponding increase of approximately 21 applicants in the difference between 2019 and 2023. This finding lends empirical support to our hypothesis, suggesting that the Brexit referendum may have prompted EU citizens to gravitate toward academic departments with a track record of producing graduates with higher earning potential.\n",
    "\n",
    "Thus, it seems reasonable to infer that the Brexit referendum spurred EU citizens to recalibrate their application preferences, favoring departments with a demonstrated propensity for fostering graduates with elevated salary prospects."
   ]
  },
  {
   "cell_type": "markdown",
   "id": "4da8e825",
   "metadata": {},
   "source": [
    "Summary table:"
   ]
  },
  {
   "cell_type": "code",
   "execution_count": 41,
   "id": "0023b3d1",
   "metadata": {},
   "outputs": [
    {
     "name": "stdout",
     "output_type": "stream",
     "text": [
      "                              OLS Regression Results                              \n",
      "==================================================================================\n",
      "Dep. Variable:     Application Difference   R-squared:                       0.035\n",
      "Model:                                OLS   Adj. R-squared:                 -0.061\n",
      "Method:                     Least Squares   F-statistic:                    0.3644\n",
      "Date:                    Thu, 25 Apr 2024   Prob (F-statistic):              0.560\n",
      "Time:                            23:39:37   Log-Likelihood:                -70.742\n",
      "No. Observations:                      12   AIC:                             145.5\n",
      "Df Residuals:                          10   BIC:                             146.5\n",
      "Df Model:                               1                                         \n",
      "Covariance Type:                nonrobust                                         \n",
      "=================================================================================\n",
      "                    coef    std err          t      P>|t|      [0.025      0.975]\n",
      "---------------------------------------------------------------------------------\n",
      "const          -122.6088    132.685     -0.924      0.377    -418.250     173.033\n",
      "Median Salary     0.0021      0.003      0.604      0.560      -0.006       0.010\n",
      "==============================================================================\n",
      "Omnibus:                        4.239   Durbin-Watson:                   2.500\n",
      "Prob(Omnibus):                  0.120   Jarque-Bera (JB):                2.468\n",
      "Skew:                          -1.108   Prob(JB):                        0.291\n",
      "Kurtosis:                       2.833   Cond. No.                     1.85e+05\n",
      "==============================================================================\n",
      "\n",
      "Notes:\n",
      "[1] Standard Errors assume that the covariance matrix of the errors is correctly specified.\n",
      "[2] The condition number is large, 1.85e+05. This might indicate that there are\n",
      "strong multicollinearity or other numerical problems.\n"
     ]
    },
    {
     "name": "stderr",
     "output_type": "stream",
     "text": [
      "/Users/maxijaeger/anaconda3/lib/python3.11/site-packages/scipy/stats/_stats_py.py:1736: UserWarning:\n",
      "\n",
      "kurtosistest only valid for n>=20 ... continuing anyway, n=12\n",
      "\n"
     ]
    }
   ],
   "source": [
    "import pandas as pd\n",
    "import statsmodels.api as sm\n",
    "\n",
    "# Load the CSV files\n",
    "file_eu_cleaned = pd.read_csv('Data/PhilipEUCleaned.csv')\n",
    "file_output = pd.read_csv('Data/cleaned_output.csv')\n",
    "\n",
    "# Filter for only undergraduate courses in the EU cleaned data\n",
    "undergrad_eu_cleaned = file_eu_cleaned[file_eu_cleaned['Program'].str.contains(\"UG Degree\")]\n",
    "\n",
    "# Compute total applications for the years 2020 (pre-Brexit) and 2022 (post-Brexit)\n",
    "pre_brexit_apps = undergrad_eu_cleaned.groupby('Department')['Applications 2019'].sum()\n",
    "post_brexit_apps = undergrad_eu_cleaned.groupby('Department')['Applications 2023'].sum()\n",
    "\n",
    "# Calculate the difference in applications\n",
    "application_difference = post_brexit_apps - pre_brexit_apps\n",
    "\n",
    "# Get the median salary for each department from the second file, ensuring to match only undergraduate departments\n",
    "median_salaries = file_output[file_output['Course Name'].str.contains(\"BSc\")].groupby('Department')['Median Salary'].median()\n",
    "\n",
    "# Join the application difference and median salary dataframes\n",
    "department_data = pd.DataFrame({\n",
    "    'Median Salary': median_salaries,\n",
    "    'Application Difference': application_difference,\n",
    "    'Total Pre-Brexit Applications': pre_brexit_apps,\n",
    "    'Total Post-Brexit Applications': post_brexit_apps\n",
    "}).dropna()\n",
    "\n",
    "# Add department names for indexing\n",
    "department_data['Department'] = department_data.index\n",
    "\n",
    "# Set up the X and y matrices for the regression, with an intercept added to X\n",
    "X = department_data[['Median Salary']]\n",
    "X = sm.add_constant(X)  # Adds a constant term to the predictor\n",
    "y = department_data['Application Difference']\n",
    "\n",
    "# Fit the model\n",
    "model = sm.OLS(y, X)\n",
    "results = model.fit()\n",
    "\n",
    "# Print the summary of the regression\n",
    "print(results.summary())\n"
   ]
  },
  {
   "cell_type": "markdown",
   "id": "5739c215",
   "metadata": {},
   "source": []
  },
  {
   "cell_type": "markdown",
   "id": "ebbc29ea",
   "metadata": {},
   "source": [
    "Regression Discontinuity:"
   ]
  },
  {
   "cell_type": "code",
   "execution_count": 42,
   "id": "3bdaf6e2",
   "metadata": {},
   "outputs": [
    {
     "data": {
      "image/png": "[encoded data removed]",
      "text/plain": [
       "<Figure size 1400x600 with 2 Axes>"
      ]
     },
     "metadata": {},
     "output_type": "display_data"
    }
   ],
   "source": [
    "import pandas as pd\n",
    "import numpy as np\n",
    "import statsmodels.api as sm\n",
    "import matplotlib.pyplot as plt\n",
    "\n",
    "# Load the dataset\n",
    "cleaned_data = pd.read_csv('Data/PhilipEUCleaned.csv')\n",
    "\n",
    "# Aggregate application numbers by year and salary group\n",
    "applications_by_salary_group = cleaned_data.melt(\n",
    "    id_vars=['Nationality', 'Department', 'Program', 'Salary Group'],\n",
    "    value_vars=['Applications 2019', 'Applications 2020', 'Applications 2021', 'Applications 2022', 'Applications 2023'],\n",
    "    var_name='Year',\n",
    "    value_name='Applications'\n",
    ")\n",
    "applications_by_salary_group['Year'] = applications_by_salary_group['Year'].str.extract('(\\d+)').astype(int)\n",
    "applications_by_salary_group = applications_by_salary_group.groupby(['Year', 'Salary Group'])['Applications'].sum().reset_index()\n",
    "\n",
    "\n",
    "# Create rdf_high and rdf_low from the applications_by_salary_group\n",
    "rdf_high = applications_by_salary_group[applications_by_salary_group['Salary Group'] == 'High']\n",
    "rdf_low = applications_by_salary_group[applications_by_salary_group['Salary Group'] == 'Low']\n",
    "\n",
    "# Preparing data for piecewise linear regression fitting\n",
    "# Splitting the data based on the Brexit cutoff\n",
    "\n",
    "# Data before the Brexit cutoff\n",
    "pre_brexit_data_high = rdf_high[rdf_high['Year'] <= 2020]\n",
    "pre_brexit_data_low = rdf_low[rdf_low['Year'] <= 2020]\n",
    "\n",
    "# Data after the Brexit cutoff\n",
    "post_brexit_data_high = rdf_high[rdf_high['Year'] > 2020]\n",
    "post_brexit_data_low = rdf_low[rdf_low['Year'] > 2020]\n",
    "\n",
    "# Fit the models for each segment\n",
    "model_pre_high = sm.OLS(pre_brexit_data_high['Applications'], sm.add_constant(pre_brexit_data_high['Year'])).fit()\n",
    "model_post_high = sm.OLS(post_brexit_data_high['Applications'], sm.add_constant(post_brexit_data_high['Year'])).fit()\n",
    "\n",
    "model_pre_low = sm.OLS(pre_brexit_data_low['Applications'], sm.add_constant(pre_brexit_data_low['Year'])).fit()\n",
    "model_post_low = sm.OLS(post_brexit_data_low['Applications'], sm.add_constant(post_brexit_data_low['Year'])).fit()\n",
    "\n",
    "# Predict values for a smoother line\n",
    "fit_pre_high = model_pre_high.predict(sm.add_constant([2019, 2020]))\n",
    "fit_post_high = model_post_high.predict(sm.add_constant([2021, 2022, 2023]))\n",
    "\n",
    "fit_pre_low = model_pre_low.predict(sm.add_constant([2019, 2020]))\n",
    "fit_post_low = model_post_low.predict(sm.add_constant([2021, 2022, 2023]))\n",
    "\n",
    "extended_pre_brexit_years_high = np.array([2019, 2020, 2021])\n",
    "extended_pre_brexit_years_low = np.array([2019, 2020, 2021])\n",
    "extended_fit_pre_high = model_pre_high.predict(sm.add_constant(extended_pre_brexit_years_high))\n",
    "extended_fit_pre_low = model_pre_low.predict(sm.add_constant(extended_pre_brexit_years_low))\n",
    "\n",
    "# Plotting with the adjusted cutoff line, extrapolated pre-Brexit line, and gridlines\n",
    "plt.figure(figsize=(14, 6))\n",
    "\n",
    "# High salary departments\n",
    "plt.subplot(1, 2, 1)\n",
    "plt.scatter(rdf_high['Year'], rdf_high['Applications'], color='blue')\n",
    "plt.plot(extended_pre_brexit_years_high, extended_fit_pre_high, color='red', label='Extended Pre-Brexit Fit')\n",
    "plt.plot([2021, 2022, 2023], fit_post_high, color='green', label='Post-Brexit Fit')\n",
    "plt.axvline(x=2021, color='black', linestyle='--', label='Brexit Cutoff (2021)')\n",
    "plt.title('High Salary Departments')\n",
    "plt.xlabel('Year')\n",
    "plt.ylabel('Applications')\n",
    "plt.xticks(range(2019, 2024))\n",
    "plt.grid(True)\n",
    "plt.legend()\n",
    "\n",
    "# Low salary departments\n",
    "plt.subplot(1, 2, 2)\n",
    "plt.scatter(rdf_low['Year'], rdf_low['Applications'], color='green')\n",
    "plt.plot(extended_pre_brexit_years_low, extended_fit_pre_low, color='red', label='Extended Pre-Brexit Fit')\n",
    "plt.plot([2021, 2022, 2023], fit_post_low, color='blue', label='Post-Brexit Fit')\n",
    "plt.axvline(x=2021, color='black', linestyle='--', label='Brexit Cutoff (2021)')\n",
    "plt.title('Low Salary Departments')\n",
    "plt.xlabel('Year')\n",
    "plt.xticks(range(2019, 2024))\n",
    "plt.ylabel('Applications')\n",
    "plt.grid(True)\n",
    "plt.legend()\n",
    "\n",
    "plt.tight_layout()\n",
    "plt.show()"
   ]
  },
  {
   "cell_type": "code",
   "execution_count": 43,
   "id": "3b7c7b6d",
   "metadata": {},
   "outputs": [
    {
     "name": "stdout",
     "output_type": "stream",
     "text": [
      "High Salary Group - Pre-Brexit Model Summary:\n",
      "                             OLS Regression Results                            \n",
      "==============================================================================\n",
      "Dep. Variable:           Applications   R-squared:                       1.000\n",
      "Model:                            OLS   Adj. R-squared:                    nan\n",
      "Method:                 Least Squares   F-statistic:                       nan\n",
      "Date:                Thu, 25 Apr 2024   Prob (F-statistic):                nan\n",
      "Time:                        23:39:43   Log-Likelihood:                 37.940\n",
      "No. Observations:                   2   AIC:                            -71.88\n",
      "Df Residuals:                       0   BIC:                            -74.49\n",
      "Df Model:                           1                                         \n",
      "Covariance Type:            nonrobust                                         \n",
      "==============================================================================\n",
      "                 coef    std err          t      P>|t|      [0.025      0.975]\n",
      "------------------------------------------------------------------------------\n",
      "const       -2.11e+05        inf         -0        nan         nan         nan\n",
      "Year         107.5000        inf          0        nan         nan         nan\n",
      "==============================================================================\n",
      "Omnibus:                          nan   Durbin-Watson:                   0.000\n",
      "Prob(Omnibus):                    nan   Jarque-Bera (JB):                0.333\n",
      "Skew:                           0.000   Prob(JB):                        0.846\n",
      "Kurtosis:                       1.000   Cond. No.                     8.16e+06\n",
      "==============================================================================\n",
      "\n",
      "Notes:\n",
      "[1] Standard Errors assume that the covariance matrix of the errors is correctly specified.\n",
      "[2] The condition number is large, 8.16e+06. This might indicate that there are\n",
      "strong multicollinearity or other numerical problems.\n",
      "High Salary Group - Post-Brexit Model Summary:\n",
      "                             OLS Regression Results                            \n",
      "==============================================================================\n",
      "Dep. Variable:           Applications   R-squared:                       0.942\n",
      "Model:                            OLS   Adj. R-squared:                  0.883\n",
      "Method:                 Least Squares   F-statistic:                     16.13\n",
      "Date:                Thu, 25 Apr 2024   Prob (F-statistic):              0.155\n",
      "Time:                        23:39:43   Log-Likelihood:                -16.443\n",
      "No. Observations:                   3   AIC:                             36.89\n",
      "Df Residuals:                       1   BIC:                             35.08\n",
      "Df Model:                           1                                         \n",
      "Covariance Type:            nonrobust                                         \n",
      "==============================================================================\n",
      "                 coef    std err          t      P>|t|      [0.025      0.975]\n",
      "------------------------------------------------------------------------------\n",
      "const       5.831e+05   1.44e+05      4.053      0.154   -1.25e+06    2.41e+06\n",
      "Year        -285.7500     71.158     -4.016      0.155   -1189.903     618.403\n",
      "==============================================================================\n",
      "Omnibus:                          nan   Durbin-Watson:                   3.000\n",
      "Prob(Omnibus):                    nan   Jarque-Bera (JB):                0.531\n",
      "Skew:                          -0.707   Prob(JB):                        0.767\n",
      "Kurtosis:                       1.500   Cond. No.                     5.01e+06\n",
      "==============================================================================\n",
      "\n",
      "Notes:\n",
      "[1] Standard Errors assume that the covariance matrix of the errors is correctly specified.\n",
      "[2] The condition number is large, 5.01e+06. This might indicate that there are\n",
      "strong multicollinearity or other numerical problems.\n",
      "Low Salary Group - Pre-Brexit Model Summary:\n",
      "                             OLS Regression Results                            \n",
      "==============================================================================\n",
      "Dep. Variable:           Applications   R-squared:                       1.000\n",
      "Model:                            OLS   Adj. R-squared:                    nan\n",
      "Method:                 Least Squares   F-statistic:                       nan\n",
      "Date:                Thu, 25 Apr 2024   Prob (F-statistic):                nan\n",
      "Time:                        23:39:43   Log-Likelihood:                 42.799\n",
      "No. Observations:                   2   AIC:                            -81.60\n",
      "Df Residuals:                       0   BIC:                            -84.21\n",
      "Df Model:                           1                                         \n",
      "Covariance Type:            nonrobust                                         \n",
      "==============================================================================\n",
      "                 coef    std err          t      P>|t|      [0.025      0.975]\n",
      "------------------------------------------------------------------------------\n",
      "const       5.949e+05        inf          0        nan         nan         nan\n",
      "Year        -293.0000        inf         -0        nan         nan         nan\n",
      "==============================================================================\n",
      "Omnibus:                          nan   Durbin-Watson:                   0.045\n",
      "Prob(Omnibus):                    nan   Jarque-Bera (JB):                0.333\n",
      "Skew:                           0.000   Prob(JB):                        0.846\n",
      "Kurtosis:                       1.000   Cond. No.                     8.16e+06\n",
      "==============================================================================\n",
      "\n",
      "Notes:\n",
      "[1] Standard Errors assume that the covariance matrix of the errors is correctly specified.\n",
      "[2] The condition number is large, 8.16e+06. This might indicate that there are\n",
      "strong multicollinearity or other numerical problems.\n",
      "Low Salary Group - Post-Brexit Model Summary:\n",
      "                             OLS Regression Results                            \n",
      "==============================================================================\n",
      "Dep. Variable:           Applications   R-squared:                       1.000\n",
      "Model:                            OLS   Adj. R-squared:                  0.999\n",
      "Method:                 Least Squares   F-statistic:                     2300.\n",
      "Date:                Thu, 25 Apr 2024   Prob (F-statistic):             0.0133\n",
      "Time:                        23:39:43   Log-Likelihood:                -7.9437\n",
      "No. Observations:                   3   AIC:                             19.89\n",
      "Df Residuals:                       1   BIC:                             18.08\n",
      "Df Model:                           1                                         \n",
      "Covariance Type:            nonrobust                                         \n",
      "==============================================================================\n",
      "                 coef    std err          t      P>|t|      [0.025      0.975]\n",
      "------------------------------------------------------------------------------\n",
      "const       4.086e+05   8463.667     48.272      0.013    3.01e+05    5.16e+05\n",
      "Year        -200.7500      4.186    -47.960      0.013    -253.935    -147.565\n",
      "==============================================================================\n",
      "Omnibus:                          nan   Durbin-Watson:                   3.000\n",
      "Prob(Omnibus):                    nan   Jarque-Bera (JB):                0.531\n",
      "Skew:                           0.707   Prob(JB):                        0.767\n",
      "Kurtosis:                       1.500   Cond. No.                     5.01e+06\n",
      "==============================================================================\n",
      "\n",
      "Notes:\n",
      "[1] Standard Errors assume that the covariance matrix of the errors is correctly specified.\n",
      "[2] The condition number is large, 5.01e+06. This might indicate that there are\n",
      "strong multicollinearity or other numerical problems.\n"
     ]
    },
    {
     "name": "stderr",
     "output_type": "stream",
     "text": [
      "/Users/maxijaeger/anaconda3/lib/python3.11/site-packages/statsmodels/stats/stattools.py:74: ValueWarning:\n",
      "\n",
      "omni_normtest is not valid with less than 8 observations; 2 samples were given.\n",
      "\n",
      "/Users/maxijaeger/anaconda3/lib/python3.11/site-packages/statsmodels/regression/linear_model.py:1794: RuntimeWarning:\n",
      "\n",
      "divide by zero encountered in divide\n",
      "\n",
      "/Users/maxijaeger/anaconda3/lib/python3.11/site-packages/statsmodels/regression/linear_model.py:1794: RuntimeWarning:\n",
      "\n",
      "invalid value encountered in scalar multiply\n",
      "\n",
      "/Users/maxijaeger/anaconda3/lib/python3.11/site-packages/statsmodels/regression/linear_model.py:1716: RuntimeWarning:\n",
      "\n",
      "divide by zero encountered in scalar divide\n",
      "\n",
      "/Users/maxijaeger/anaconda3/lib/python3.11/site-packages/statsmodels/stats/stattools.py:74: ValueWarning:\n",
      "\n",
      "omni_normtest is not valid with less than 8 observations; 3 samples were given.\n",
      "\n",
      "/Users/maxijaeger/anaconda3/lib/python3.11/site-packages/statsmodels/stats/stattools.py:74: ValueWarning:\n",
      "\n",
      "omni_normtest is not valid with less than 8 observations; 2 samples were given.\n",
      "\n",
      "/Users/maxijaeger/anaconda3/lib/python3.11/site-packages/statsmodels/regression/linear_model.py:1794: RuntimeWarning:\n",
      "\n",
      "divide by zero encountered in divide\n",
      "\n",
      "/Users/maxijaeger/anaconda3/lib/python3.11/site-packages/statsmodels/regression/linear_model.py:1794: RuntimeWarning:\n",
      "\n",
      "invalid value encountered in scalar multiply\n",
      "\n",
      "/Users/maxijaeger/anaconda3/lib/python3.11/site-packages/statsmodels/regression/linear_model.py:1716: RuntimeWarning:\n",
      "\n",
      "divide by zero encountered in scalar divide\n",
      "\n",
      "/Users/maxijaeger/anaconda3/lib/python3.11/site-packages/statsmodels/stats/stattools.py:74: ValueWarning:\n",
      "\n",
      "omni_normtest is not valid with less than 8 observations; 3 samples were given.\n",
      "\n"
     ]
    }
   ],
   "source": [
    "import pandas as pd\n",
    "import statsmodels.api as sm\n",
    "import numpy as np\n",
    "\n",
    "# Load the dataset\n",
    "cleaned_data = pd.read_csv('Data/PhilipEUCleaned.csv')\n",
    "\n",
    "# Aggregate application numbers by year and salary group\n",
    "applications_by_salary_group = cleaned_data.melt(\n",
    "    id_vars=['Nationality', 'Department', 'Program', 'Salary Group'],\n",
    "    value_vars=['Applications 2019', 'Applications 2020', 'Applications 2021', 'Applications 2022', 'Applications 2023'],\n",
    "    var_name='Year',\n",
    "    value_name='Applications'\n",
    ")\n",
    "applications_by_salary_group['Year'] = applications_by_salary_group['Year'].str.extract('(\\d+)').astype(int)\n",
    "applications_by_salary_group = applications_by_salary_group.groupby(['Year', 'Salary Group'])['Applications'].sum().reset_index()\n",
    "\n",
    "# Splitting the data based on the Brexit cutoff for high and low salary groups\n",
    "pre_brexit_data_high = applications_by_salary_group[(applications_by_salary_group['Salary Group'] == 'High') & (applications_by_salary_group['Year'] <= 2020)]\n",
    "post_brexit_data_high = applications_by_salary_group[(applications_by_salary_group['Salary Group'] == 'High') & (applications_by_salary_group['Year'] > 2020)]\n",
    "\n",
    "pre_brexit_data_low = applications_by_salary_group[(applications_by_salary_group['Salary Group'] == 'Low') & (applications_by_salary_group['Year'] <= 2020)]\n",
    "post_brexit_data_low = applications_by_salary_group[(applications_by_salary_group['Salary Group'] == 'Low') & (applications_by_salary_group['Year'] > 2020)]\n",
    "\n",
    "# Fit the models for each segment\n",
    "model_pre_high = sm.OLS(pre_brexit_data_high['Applications'], sm.add_constant(pre_brexit_data_high['Year'])).fit()\n",
    "model_post_high = sm.OLS(post_brexit_data_high['Applications'], sm.add_constant(post_brexit_data_high['Year'])).fit()\n",
    "\n",
    "model_pre_low = sm.OLS(pre_brexit_data_low['Applications'], sm.add_constant(pre_brexit_data_low['Year'])).fit()\n",
    "model_post_low = sm.OLS(post_brexit_data_low['Applications'], sm.add_constant(post_brexit_data_low['Year'])).fit()\n",
    "\n",
    "# Summary tables for regression models\n",
    "summary_pre_high = model_pre_high.summary()\n",
    "summary_post_high = model_post_high.summary()\n",
    "summary_pre_low = model_pre_low.summary()\n",
    "summary_post_low = model_post_low.summary()\n",
    "\n",
    "# Output the summaries\n",
    "print(\"High Salary Group - Pre-Brexit Model Summary:\\n\", summary_pre_high)\n",
    "print(\"High Salary Group - Post-Brexit Model Summary:\\n\", summary_post_high)\n",
    "print(\"Low Salary Group - Pre-Brexit Model Summary:\\n\", summary_pre_low)\n",
    "print(\"Low Salary Group - Post-Brexit Model Summary:\\n\", summary_post_low)\n"
   ]
  },
  {
   "cell_type": "code",
   "execution_count": 14,
   "id": "2b41a65c",
   "metadata": {},
   "outputs": [
    {
     "name": "stdout",
     "output_type": "stream",
     "text": [
      "Summary of Pre-Brexit Model for High Salary Group:\n",
      "                             OLS Regression Results                            \n",
      "==============================================================================\n",
      "Dep. Variable:           Applications   R-squared:                       1.000\n",
      "Model:                            OLS   Adj. R-squared:                    nan\n",
      "Method:                 Least Squares   F-statistic:                       nan\n",
      "Date:                Fri, 26 Apr 2024   Prob (F-statistic):                nan\n",
      "Time:                        02:06:47   Log-Likelihood:                 33.066\n",
      "No. Observations:                   2   AIC:                            -62.13\n",
      "Df Residuals:                       0   BIC:                            -64.75\n",
      "Df Model:                           1                                         \n",
      "Covariance Type:            nonrobust                                         \n",
      "===============================================================================\n",
      "                  coef    std err          t      P>|t|      [0.025      0.975]\n",
      "-------------------------------------------------------------------------------\n",
      "const        -2.11e+05        inf         -0        nan         nan         nan\n",
      "Year          107.5000        inf          0        nan         nan         nan\n",
      "Brexit               0        nan        nan        nan         nan         nan\n",
      "Year_Brexit          0        nan        nan        nan         nan         nan\n",
      "==============================================================================\n",
      "Omnibus:                          nan   Durbin-Watson:                   0.671\n",
      "Prob(Omnibus):                    nan   Jarque-Bera (JB):                0.333\n",
      "Skew:                           0.000   Prob(JB):                        0.846\n",
      "Kurtosis:                       1.000   Cond. No.                     8.16e+06\n",
      "==============================================================================\n",
      "\n",
      "Notes:\n",
      "[1] Standard Errors assume that the covariance matrix of the errors is correctly specified.\n",
      "[2] The input rank is higher than the number of observations.\n",
      "[3] The condition number is large, 8.16e+06. This might indicate that there are\n",
      "strong multicollinearity or other numerical problems.\n",
      "\n",
      "Summary of Post-Brexit Model for High Salary Group:\n",
      "                             OLS Regression Results                            \n",
      "==============================================================================\n",
      "Dep. Variable:           Applications   R-squared:                       0.942\n",
      "Model:                            OLS   Adj. R-squared:                  0.883\n",
      "Method:                 Least Squares   F-statistic:                     16.13\n",
      "Date:                Fri, 26 Apr 2024   Prob (F-statistic):              0.155\n",
      "Time:                        02:06:47   Log-Likelihood:                -16.443\n",
      "No. Observations:                   3   AIC:                             36.89\n",
      "Df Residuals:                       1   BIC:                             35.08\n",
      "Df Model:                           1                                         \n",
      "Covariance Type:            nonrobust                                         \n",
      "===============================================================================\n",
      "                  coef    std err          t      P>|t|      [0.025      0.975]\n",
      "-------------------------------------------------------------------------------\n",
      "Year         -142.8751     35.579     -4.016      0.155    -594.952     309.202\n",
      "Brexit       5.831e+05   1.44e+05      4.053      0.154   -1.25e+06    2.41e+06\n",
      "Year_Brexit  -142.8749     35.579     -4.016      0.155    -594.951     309.202\n",
      "==============================================================================\n",
      "Omnibus:                          nan   Durbin-Watson:                   3.000\n",
      "Prob(Omnibus):                    nan   Jarque-Bera (JB):                0.531\n",
      "Skew:                          -0.707   Prob(JB):                        0.767\n",
      "Kurtosis:                       1.500   Cond. No.                     5.86e+16\n",
      "==============================================================================\n",
      "\n",
      "Notes:\n",
      "[1] Standard Errors assume that the covariance matrix of the errors is correctly specified.\n",
      "[2] The smallest eigenvalue is 7.15e-27. This might indicate that there are\n",
      "strong multicollinearity problems or that the design matrix is singular.\n",
      "\n",
      "Summary of Pre-Brexit Model for Low Salary Group:\n",
      "                             OLS Regression Results                            \n",
      "==============================================================================\n",
      "Dep. Variable:           Applications   R-squared:                       1.000\n",
      "Model:                            OLS   Adj. R-squared:                    nan\n",
      "Method:                 Least Squares   F-statistic:                       nan\n",
      "Date:                Fri, 26 Apr 2024   Prob (F-statistic):                nan\n",
      "Time:                        02:06:47   Log-Likelihood:                 30.867\n",
      "No. Observations:                   2   AIC:                            -57.73\n",
      "Df Residuals:                       0   BIC:                            -60.35\n",
      "Df Model:                           1                                         \n",
      "Covariance Type:            nonrobust                                         \n",
      "===============================================================================\n",
      "                  coef    std err          t      P>|t|      [0.025      0.975]\n",
      "-------------------------------------------------------------------------------\n",
      "const        5.949e+05        inf          0        nan         nan         nan\n",
      "Year         -293.0000        inf         -0        nan         nan         nan\n",
      "Brexit               0        nan        nan        nan         nan         nan\n",
      "Year_Brexit          0        nan        nan        nan         nan         nan\n",
      "==============================================================================\n",
      "Omnibus:                          nan   Durbin-Watson:                   0.591\n",
      "Prob(Omnibus):                    nan   Jarque-Bera (JB):                0.333\n",
      "Skew:                           0.000   Prob(JB):                        0.846\n",
      "Kurtosis:                       1.000   Cond. No.                     8.16e+06\n",
      "==============================================================================\n",
      "\n",
      "Notes:\n",
      "[1] Standard Errors assume that the covariance matrix of the errors is correctly specified.\n",
      "[2] The input rank is higher than the number of observations.\n",
      "[3] The condition number is large, 8.16e+06. This might indicate that there are\n",
      "strong multicollinearity or other numerical problems.\n",
      "\n",
      "Summary of Post-Brexit Model for Low Salary Group:\n",
      "                             OLS Regression Results                            \n",
      "==============================================================================\n",
      "Dep. Variable:           Applications   R-squared:                       1.000\n",
      "Model:                            OLS   Adj. R-squared:                  0.999\n",
      "Method:                 Least Squares   F-statistic:                     2300.\n",
      "Date:                Fri, 26 Apr 2024   Prob (F-statistic):             0.0133\n",
      "Time:                        02:06:47   Log-Likelihood:                -7.9437\n",
      "No. Observations:                   3   AIC:                             19.89\n",
      "Df Residuals:                       1   BIC:                             18.08\n",
      "Df Model:                           1                                         \n",
      "Covariance Type:            nonrobust                                         \n",
      "===============================================================================\n",
      "                  coef    std err          t      P>|t|      [0.025      0.975]\n",
      "-------------------------------------------------------------------------------\n",
      "Year         -100.3750      2.093    -47.960      0.013    -126.968     -73.782\n",
      "Brexit       4.086e+05   8463.667     48.272      0.013    3.01e+05    5.16e+05\n",
      "Year_Brexit  -100.3750      2.093    -47.960      0.013    -126.968     -73.782\n",
      "==============================================================================\n",
      "Omnibus:                          nan   Durbin-Watson:                   3.000\n",
      "Prob(Omnibus):                    nan   Jarque-Bera (JB):                0.531\n",
      "Skew:                           0.707   Prob(JB):                        0.767\n",
      "Kurtosis:                       1.500   Cond. No.                     5.86e+16\n",
      "==============================================================================\n",
      "\n",
      "Notes:\n",
      "[1] Standard Errors assume that the covariance matrix of the errors is correctly specified.\n",
      "[2] The smallest eigenvalue is 7.15e-27. This might indicate that there are\n",
      "strong multicollinearity problems or that the design matrix is singular.\n"
     ]
    },
    {
     "name": "stderr",
     "output_type": "stream",
     "text": [
      "/Users/timgrutimner/anaconda3/lib/python3.11/site-packages/statsmodels/stats/stattools.py:74: ValueWarning:\n",
      "\n",
      "omni_normtest is not valid with less than 8 observations; 2 samples were given.\n",
      "\n",
      "/Users/timgrutimner/anaconda3/lib/python3.11/site-packages/statsmodels/regression/linear_model.py:1794: RuntimeWarning:\n",
      "\n",
      "divide by zero encountered in divide\n",
      "\n",
      "/Users/timgrutimner/anaconda3/lib/python3.11/site-packages/statsmodels/regression/linear_model.py:1794: RuntimeWarning:\n",
      "\n",
      "invalid value encountered in scalar multiply\n",
      "\n",
      "/Users/timgrutimner/anaconda3/lib/python3.11/site-packages/statsmodels/regression/linear_model.py:1716: RuntimeWarning:\n",
      "\n",
      "divide by zero encountered in scalar divide\n",
      "\n",
      "/Users/timgrutimner/anaconda3/lib/python3.11/site-packages/statsmodels/base/model.py:1529: RuntimeWarning:\n",
      "\n",
      "invalid value encountered in multiply\n",
      "\n",
      "/Users/timgrutimner/anaconda3/lib/python3.11/site-packages/statsmodels/stats/stattools.py:74: ValueWarning:\n",
      "\n",
      "omni_normtest is not valid with less than 8 observations; 3 samples were given.\n",
      "\n",
      "/Users/timgrutimner/anaconda3/lib/python3.11/site-packages/statsmodels/stats/stattools.py:74: ValueWarning:\n",
      "\n",
      "omni_normtest is not valid with less than 8 observations; 2 samples were given.\n",
      "\n",
      "/Users/timgrutimner/anaconda3/lib/python3.11/site-packages/statsmodels/regression/linear_model.py:1794: RuntimeWarning:\n",
      "\n",
      "divide by zero encountered in divide\n",
      "\n",
      "/Users/timgrutimner/anaconda3/lib/python3.11/site-packages/statsmodels/regression/linear_model.py:1794: RuntimeWarning:\n",
      "\n",
      "invalid value encountered in scalar multiply\n",
      "\n",
      "/Users/timgrutimner/anaconda3/lib/python3.11/site-packages/statsmodels/regression/linear_model.py:1716: RuntimeWarning:\n",
      "\n",
      "divide by zero encountered in scalar divide\n",
      "\n",
      "/Users/timgrutimner/anaconda3/lib/python3.11/site-packages/statsmodels/base/model.py:1529: RuntimeWarning:\n",
      "\n",
      "invalid value encountered in multiply\n",
      "\n",
      "/Users/timgrutimner/anaconda3/lib/python3.11/site-packages/statsmodels/stats/stattools.py:74: ValueWarning:\n",
      "\n",
      "omni_normtest is not valid with less than 8 observations; 3 samples were given.\n",
      "\n"
     ]
    },
    {
     "data": {
      "image/png": "[encoded data removed]",
      "text/plain": [
       "<Figure size 1400x600 with 2 Axes>"
      ]
     },
     "metadata": {},
     "output_type": "display_data"
    }
   ],
   "source": [
    "import pandas as pd\n",
    "import numpy as np\n",
    "import statsmodels.api as sm\n",
    "import matplotlib.pyplot as plt\n",
    "\n",
    "# Load the dataset\n",
    "cleaned_data = pd.read_csv('Data/PhilipEUCleaned.csv')\n",
    "\n",
    "# Aggregate application numbers by year and salary group\n",
    "applications_by_salary_group = cleaned_data.melt(\n",
    "    id_vars=['Nationality', 'Department', 'Program', 'Salary Group'],\n",
    "    value_vars=['Applications 2019', 'Applications 2020', 'Applications 2021', 'Applications 2022', 'Applications 2023'],\n",
    "    var_name='Year',\n",
    "    value_name='Applications'\n",
    ")\n",
    "applications_by_salary_group['Year'] = applications_by_salary_group['Year'].str.extract('(\\d+)').astype(int)\n",
    "applications_by_salary_group = applications_by_salary_group.groupby(['Year', 'Salary Group'])['Applications'].sum().reset_index()\n",
    "\n",
    "# Determine the Brexit cutoff year\n",
    "cutoff_year = 2021\n",
    "\n",
    "# Create columns for 'Brexit' and 'Year_Brexit'\n",
    "applications_by_salary_group['Brexit'] = (applications_by_salary_group['Year'] >= cutoff_year).astype(int)\n",
    "applications_by_salary_group['Year_Brexit'] = applications_by_salary_group['Year'] * applications_by_salary_group['Brexit']\n",
    "\n",
    "# Splitting the data based on the Brexit cutoff for high and low salary groups\n",
    "pre_brexit_data_high = applications_by_salary_group[(applications_by_salary_group['Salary Group'] == 'High') & (applications_by_salary_group['Year'] < cutoff_year)]\n",
    "post_brexit_data_high = applications_by_salary_group[(applications_by_salary_group['Salary Group'] == 'High') & (applications_by_salary_group['Year'] >= cutoff_year)]\n",
    "\n",
    "pre_brexit_data_low = applications_by_salary_group[(applications_by_salary_group['Salary Group'] == 'Low') & (applications_by_salary_group['Year'] < cutoff_year)]\n",
    "post_brexit_data_low = applications_by_salary_group[(applications_by_salary_group['Salary Group'] == 'Low') & (applications_by_salary_group['Year'] >= cutoff_year)]\n",
    "\n",
    "# Fit the models for each segment\n",
    "model_pre_high = sm.OLS(pre_brexit_data_high['Applications'], \n",
    "                        sm.add_constant(pre_brexit_data_high[['Year', 'Brexit', 'Year_Brexit']])).fit()\n",
    "model_post_high = sm.OLS(post_brexit_data_high['Applications'], \n",
    "                         sm.add_constant(post_brexit_data_high[['Year', 'Brexit', 'Year_Brexit']])).fit()\n",
    "\n",
    "model_pre_low = sm.OLS(pre_brexit_data_low['Applications'], \n",
    "                       sm.add_constant(pre_brexit_data_low[['Year', 'Brexit', 'Year_Brexit']])).fit()\n",
    "model_post_low = sm.OLS(post_brexit_data_low['Applications'], \n",
    "                        sm.add_constant(post_brexit_data_low[['Year', 'Brexit', 'Year_Brexit']])).fit()\n",
    "\n",
    "# Summary tables for regression models\n",
    "summary_pre_high = model_pre_high.summary()\n",
    "summary_post_high = model_post_high.summary()\n",
    "summary_pre_low = model_pre_low.summary()\n",
    "summary_post_low = model_post_low.summary()\n",
    "\n",
    "print(\"Summary of Pre-Brexit Model for High Salary Group:\\n\", summary_pre_high)\n",
    "print(\"\\nSummary of Post-Brexit Model for High Salary Group:\\n\", summary_post_high)\n",
    "print(\"\\nSummary of Pre-Brexit Model for Low Salary Group:\\n\", summary_pre_low)\n",
    "print(\"\\nSummary of Post-Brexit Model for Low Salary Group:\\n\", summary_post_low)\n",
    "\n",
    "# Predict values for a smoother line\n",
    "fit_pre_high = model_pre_high.predict(sm.add_constant(pre_brexit_data_high[['Year', 'Brexit', 'Year_Brexit']]))\n",
    "fit_post_high = model_post_high.predict(sm.add_constant(post_brexit_data_high[['Year', 'Brexit', 'Year_Brexit']]))\n",
    "fit_pre_low = model_pre_low.predict(sm.add_constant(pre_brexit_data_low[['Year', 'Brexit', 'Year_Brexit']]))\n",
    "fit_post_low = model_post_low.predict(sm.add_constant(post_brexit_data_low[['Year', 'Brexit', 'Year_Brexit']]))\n",
    "\n",
    "# Plotting with the adjusted cutoff line, extrapolated pre-Brexit line, and gridlines\n",
    "plt.figure(figsize=(14, 6))\n",
    "\n",
    "# High salary departments\n",
    "plt.subplot(1, 2, 1)\n",
    "plt.scatter(pre_brexit_data_high['Year'], pre_brexit_data_high['Applications'], color='blue', label='Pre-Brexit')\n",
    "plt.scatter(post_brexit_data_high['Year'], post_brexit_data_high['Applications'], color='green', label='Post-Brexit')\n",
    "plt.plot(pre_brexit_data_high['Year'], fit_pre_high, color='red', label='Pre-Brexit Fit')\n",
    "plt.plot(post_brexit_data_high['Year'], fit_post_high, color='orange', label='Post-Brexit Fit')\n",
    "plt.axvline(x=cutoff_year, color='black', linestyle='--', label='Brexit Cutoff (2021)')\n",
    "plt.title('High Salary Departments')\n",
    "plt.xlabel('Year')\n",
    "plt.ylabel('Applications')\n",
    "plt.xticks(range(2019, 2024))\n",
    "plt.grid(True)\n",
    "plt.legend()\n",
    "\n",
    "# Low salary departments\n",
    "plt.subplot(1, 2, 2)\n",
    "plt.scatter(pre_brexit_data_low['Year'], pre_brexit_data_low['Applications'], color='blue', label='Pre-Brexit')\n",
    "plt.scatter(post_brexit_data_low['Year'], post_brexit_data_low['Applications'], color='green', label='Post-Brexit')\n",
    "plt.plot(pre_brexit_data_low['Year'], fit_pre_low, color='red', label='Pre-Brexit Fit')\n",
    "plt.plot(post_brexit_data_low['Year'], fit_post_low, color='orange', label='Post-Brexit Fit')\n",
    "plt.axvline(x=cutoff_year, color='black', linestyle='--', label='Brexit Cutoff (2021)')\n",
    "plt.title('Low Salary Departments')\n",
    "plt.xlabel('Year')\n",
    "plt.xticks(range(2019, 2024))\n",
    "plt.ylabel('Applications')\n",
    "plt.grid(True)\n",
    "plt.legend()\n",
    "\n",
    "plt.tight_layout()\n",
    "plt.show()\n"
   ]
  },
  {
   "cell_type": "code",
   "execution_count": null,
   "id": "782c117e",
   "metadata": {},
   "outputs": [],
   "source": []
  }
 ],
 "metadata": {
  "kernelspec": {
   "display_name": "Python 3 (ipykernel)",
   "language": "python",
   "name": "python3"
  },
  "language_info": {
   "codemirror_mode": {
    "name": "ipython",
    "version": 3
   },
   "file_extension": ".py",
   "mimetype": "text/x-python",
   "name": "python",
   "nbconvert_exporter": "python",
   "pygments_lexer": "ipython3",
   "version": "3.11.5"
  }
 },
 "nbformat": 4,
 "nbformat_minor": 5
}
