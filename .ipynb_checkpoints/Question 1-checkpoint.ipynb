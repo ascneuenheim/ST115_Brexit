{
 "cells": [
  {
   "cell_type": "code",
   "execution_count": 9,
   "id": "4b612bc9",
   "metadata": {
    "scrolled": true
   },
   "outputs": [
    {
     "data": {
      "text/plain": [
       "{'Albanian',\n",
       " 'Andorran',\n",
       " 'Austrian',\n",
       " 'Belarusian',\n",
       " 'Belgian',\n",
       " 'Bosnian or Herzegovinian',\n",
       " 'Bulgarian',\n",
       " 'Channel Island',\n",
       " 'Croatian',\n",
       " 'Cypriot',\n",
       " 'Czech',\n",
       " 'Danish',\n",
       " 'Dutch, Netherlandic',\n",
       " 'Estonian',\n",
       " 'Finnish',\n",
       " 'French',\n",
       " 'German',\n",
       " 'Gibraltar',\n",
       " 'Greek, Hellenic',\n",
       " 'Hungarian, Magyar',\n",
       " 'Icelandic',\n",
       " 'Irish',\n",
       " 'Italian',\n",
       " 'Latvian',\n",
       " 'Liechtenstein',\n",
       " 'Lithuanian',\n",
       " 'Luxembourg, Luxembourgish',\n",
       " 'Maltese',\n",
       " 'Montenegrin',\n",
       " 'Monégasque, Monacan',\n",
       " 'Norwegian',\n",
       " 'Polish',\n",
       " 'Portuguese',\n",
       " 'Romanian',\n",
       " 'Sammarinese',\n",
       " 'Serbian',\n",
       " 'Slovak',\n",
       " 'Slovenian, Slovene',\n",
       " 'Spanish',\n",
       " 'Swedish',\n",
       " 'Swiss',\n",
       " 'Ukrainian'}"
      ]
     },
     "execution_count": 9,
     "metadata": {},
     "output_type": "execute_result"
    }
   ],
   "source": [
    "# first we want to filter out the european students\n",
    "import csv\n",
    "\n",
    "# Define the file paths\n",
    "european_countries_file = \"Data/Countries-Europe.csv\"\n",
    "nationalities_file = \"Data/countries.csv\"\n",
    "\n",
    "# Read the European countries from the CSV file\n",
    "european_countries = set()\n",
    "with open(european_countries_file, newline='', encoding='utf-8') as csvfile:\n",
    "    reader = csv.reader(csvfile)\n",
    "    next(reader)  # Skip header\n",
    "    for row in reader:\n",
    "        european_countries.add(row[1])  # Assuming the country code is in the second column\n",
    "\n",
    "# Read the nationalities from the CSV file and filter European nationalities\n",
    "european_nationalities = set()\n",
    "with open(nationalities_file, newline='', encoding='utf-8') as csvfile:\n",
    "    reader = csv.reader(csvfile)\n",
    "    next(reader)  # Skip header\n",
    "    for row in reader:\n",
    "        if row[3] in european_countries:  # Assuming the country name is in the fourth column\n",
    "            european_nationalities.add(row[4])  # Assuming the nationality is in the fifth column\n",
    "\n",
    "european_nationalities"
   ]
  },
  {
   "cell_type": "code",
   "execution_count": null,
   "id": "089bb798",
   "metadata": {},
   "outputs": [],
   "source": [
    "#Next we create a csv file with only european nationalities"
   ]
  }
 ],
 "metadata": {
  "kernelspec": {
   "display_name": "Python 3 (ipykernel)",
   "language": "python",
   "name": "python3"
  },
  "language_info": {
   "codemirror_mode": {
    "name": "ipython",
    "version": 3
   },
   "file_extension": ".py",
   "mimetype": "text/x-python",
   "name": "python",
   "nbconvert_exporter": "python",
   "pygments_lexer": "ipython3",
   "version": "3.11.5"
  }
 },
 "nbformat": 4,
 "nbformat_minor": 5
}
