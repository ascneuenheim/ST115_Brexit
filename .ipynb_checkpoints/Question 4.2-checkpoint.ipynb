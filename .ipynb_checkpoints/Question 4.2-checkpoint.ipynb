{
 "cells": [
  {
   "cell_type": "code",
   "execution_count": 3,
   "id": "8a171941",
   "metadata": {},
   "outputs": [
    {
     "name": "stdout",
     "output_type": "stream",
     "text": [
      "Duplicate data detected.\n"
     ]
    },
    {
     "ename": "OperationalError",
     "evalue": "database is locked",
     "output_type": "error",
     "traceback": [
      "\u001b[0;31m---------------------------------------------------------------------------\u001b[0m",
      "\u001b[0;31mOperationalError\u001b[0m                          Traceback (most recent call last)",
      "Cell \u001b[0;32mIn[3], line 77\u001b[0m\n\u001b[1;32m     74\u001b[0m     view_database()\n\u001b[1;32m     76\u001b[0m \u001b[38;5;28;01mif\u001b[39;00m \u001b[38;5;18m__name__\u001b[39m \u001b[38;5;241m==\u001b[39m \u001b[38;5;124m\"\u001b[39m\u001b[38;5;124m__main__\u001b[39m\u001b[38;5;124m\"\u001b[39m:\n\u001b[0;32m---> 77\u001b[0m     main()\n",
      "Cell \u001b[0;32mIn[3], line 73\u001b[0m, in \u001b[0;36mmain\u001b[0;34m()\u001b[0m\n\u001b[1;32m     71\u001b[0m         \u001b[38;5;28mprint\u001b[39m(\u001b[38;5;124m\"\u001b[39m\u001b[38;5;124mDuplicate data detected.\u001b[39m\u001b[38;5;124m\"\u001b[39m)\n\u001b[1;32m     72\u001b[0m     conn\u001b[38;5;241m.\u001b[39mclose()\n\u001b[0;32m---> 73\u001b[0m update_database(\u001b[38;5;124m'\u001b[39m\u001b[38;5;124mData/countries.csv\u001b[39m\u001b[38;5;124m'\u001b[39m)\n\u001b[1;32m     74\u001b[0m view_database()\n",
      "Cell \u001b[0;32mIn[3], line 55\u001b[0m, in \u001b[0;36mupdate_database\u001b[0;34m(csv_file)\u001b[0m\n\u001b[1;32m     53\u001b[0m \u001b[38;5;28;01mfor\u001b[39;00m country_name, nationality \u001b[38;5;129;01min\u001b[39;00m country_nationality_map\u001b[38;5;241m.\u001b[39mitems():\n\u001b[1;32m     54\u001b[0m     \u001b[38;5;28;01mtry\u001b[39;00m:\n\u001b[0;32m---> 55\u001b[0m         cursor\u001b[38;5;241m.\u001b[39mexecute(\u001b[38;5;124m\"\u001b[39m\u001b[38;5;124mUPDATE gdp_by_country_data SET country = ? WHERE country = ?\u001b[39m\u001b[38;5;124m\"\u001b[39m, (nationality, country_name))\n\u001b[1;32m     56\u001b[0m     \u001b[38;5;28;01mexcept\u001b[39;00m sqlite3\u001b[38;5;241m.\u001b[39mIntegrityError:\n\u001b[1;32m     57\u001b[0m         \u001b[38;5;28mprint\u001b[39m(\u001b[38;5;124mf\u001b[39m\u001b[38;5;124m\"\u001b[39m\u001b[38;5;124mDuplicate entry found for \u001b[39m\u001b[38;5;132;01m{\u001b[39;00mcountry_name\u001b[38;5;132;01m}\u001b[39;00m\u001b[38;5;124m, skipping update.\u001b[39m\u001b[38;5;124m\"\u001b[39m)\n",
      "\u001b[0;31mOperationalError\u001b[0m: database is locked"
     ]
    }
   ],
   "source": [
    "import requests\n",
    "from bs4 import BeautifulSoup\n",
    "import sqlite3\n",
    "import csv\n",
    "\n",
    "def create_database():\n",
    "    conn = sqlite3.connect('gdp_by_country.db')\n",
    "    cursor = conn.cursor()\n",
    "    cursor.execute('''CREATE TABLE IF NOT EXISTS gdp_by_country_data (id INTEGER PRIMARY KEY, country TEXT UNIQUE, gdp REAL, population INTEGER, gdp_per_capita REAL)''')\n",
    "    conn.commit()\n",
    "    conn.close()\n",
    "\n",
    "def view_database():\n",
    "    conn = sqlite3.connect('gdp_by_country.db')\n",
    "    cursor = conn.cursor()\n",
    "    cursor.execute(\"SELECT * FROM gdp_by_country_data\")\n",
    "    rows = cursor.fetchall()\n",
    "    print(\"Database contents:\")\n",
    "    for row in rows:\n",
    "        print(row)\n",
    "    conn.close()\n",
    "\n",
    "def scrape_gdp_by_country():\n",
    "    url = \"https://www.worldometers.info/gdp/gdp-by-country/\"\n",
    "    response = requests.get(url)\n",
    "    soup = BeautifulSoup(response.content, 'html.parser')\n",
    "    rows = soup.find_all('tr')\n",
    "    gdp_by_country_data = []\n",
    "    for row in rows:\n",
    "        cells = row.find_all('td')\n",
    "        if len(cells) >= 7:\n",
    "            country = cells[1].text.strip()\n",
    "            gdp = cells[2].text.strip().replace('$', '').replace(',', '')\n",
    "            population = cells[5].text.strip().replace(',', '')\n",
    "            gdp_per_capita = cells[6].text.strip().replace('$', '').replace(',', '')\n",
    "            gdp_by_country_data.append((country, gdp, population, gdp_per_capita))\n",
    "    return gdp_by_country_data\n",
    "\n",
    "def read_country_nationality_mapping(csv_file):\n",
    "    country_nationality_map = {}\n",
    "    with open(csv_file, 'r') as file:\n",
    "        reader = csv.DictReader(file)\n",
    "        for row in reader:\n",
    "            country_name = row['en_short_name']\n",
    "            nationality = row['nationality']\n",
    "            country_nationality_map[country_name] = nationality\n",
    "    return country_nationality_map\n",
    "\n",
    "def update_database(csv_file):\n",
    "    country_nationality_map = read_country_nationality_mapping(csv_file)\n",
    "    conn = sqlite3.connect('gdp_by_country.db')\n",
    "    cursor = conn.cursor()\n",
    "    for country_name, nationality in country_nationality_map.items():\n",
    "        try:\n",
    "            cursor.execute(\"UPDATE gdp_by_country_data SET country = ? WHERE country = ?\", (nationality, country_name))\n",
    "        except sqlite3.IntegrityError:\n",
    "            print(f\"Duplicate entry found for {country_name}, skipping update.\")\n",
    "    conn.commit()\n",
    "    conn.close()\n",
    "\n",
    "def main():\n",
    "    create_database()\n",
    "    gdp_by_country_data = scrape_gdp_by_country()\n",
    "    if gdp_by_country_data:\n",
    "        conn = sqlite3.connect('gdp_by_country.db')\n",
    "        cursor = conn.cursor()\n",
    "        try:\n",
    "            cursor.executemany(\"INSERT INTO gdp_by_country_data (country, gdp, population, gdp_per_capita) VALUES (?, ?, ?, ?)\", gdp_by_country_data)\n",
    "            conn.commit()\n",
    "        except sqlite3.IntegrityError:\n",
    "            print(\"Duplicate data detected.\")\n",
    "        conn.close()\n",
    "    update_database('Data/countries.csv')\n",
    "    view_database()\n",
    "\n",
    "if __name__ == \"__main__\":\n",
    "    main()\n",
    "\n"
   ]
  },
  {
   "cell_type": "code",
   "execution_count": null,
   "id": "1175d3f7",
   "metadata": {},
   "outputs": [],
   "source": []
  }
 ],
 "metadata": {
  "kernelspec": {
   "display_name": "Python 3 (ipykernel)",
   "language": "python",
   "name": "python3"
  },
  "language_info": {
   "codemirror_mode": {
    "name": "ipython",
    "version": 3
   },
   "file_extension": ".py",
   "mimetype": "text/x-python",
   "name": "python",
   "nbconvert_exporter": "python",
   "pygments_lexer": "ipython3",
   "version": "3.11.5"
  }
 },
 "nbformat": 4,
 "nbformat_minor": 5
}
