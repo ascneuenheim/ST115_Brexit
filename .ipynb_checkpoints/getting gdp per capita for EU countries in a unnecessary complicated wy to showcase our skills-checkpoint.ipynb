{
 "cells": [
  {
   "cell_type": "code",
   "execution_count": 16,
   "id": "8778ca92",
   "metadata": {},
   "outputs": [
    {
     "name": "stdout",
     "output_type": "stream",
     "text": [
      "Data stored successfully in SQL database.\n"
     ]
    }
   ],
   "source": [
    "import requests\n",
    "import sqlite3\n",
    "from bs4 import BeautifulSoup\n",
    "\n",
    "# URL of the webpage\n",
    "url = \"https://data.worldbank.org/indicator/NY.GDP.PCAP.CD?locations=TH%2F-EU&name_desc=false\"\n",
    "\n",
    "# Send a GET request to the URL\n",
    "response = requests.get(url)\n",
    "\n",
    "# Check if the request was successful\n",
    "if response.status_code == 200:\n",
    "    # Parse the HTML content\n",
    "    soup = BeautifulSoup(response.content, 'html.parser')\n",
    "\n",
    "    # Find all country names, years, and GDP per capita\n",
    "    country_names = soup.find_all('a', class_='country-name')\n",
    "    values = soup.find_all('div', class_='item')\n",
    "\n",
    "    # Connect to the SQLite database\n",
    "    conn = sqlite3.connect('scraped_data.db')\n",
    "    cursor = conn.cursor()\n",
    "\n",
    "    # Create SQL table to store the data\n",
    "    cursor.execute('''CREATE TABLE IF NOT EXISTS scraped_data\n",
    "                      (country TEXT, year INTEGER, gdp_per_capita REAL)''')\n",
    "\n",
    "    # Extract data for each country and insert into SQL table\n",
    "    for i in range(len(country_names)):\n",
    "        country = country_names[i].text.strip()\n",
    "        year = int(values[i*2].text.strip())\n",
    "        gdp_per_capita = float(values[i*2 + 1].text.strip().replace(',', ''))\n",
    "\n",
    "        # Insert data into SQL table\n",
    "        cursor.execute(\"INSERT INTO scraped_data (country, year, gdp_per_capita) VALUES (?, ?, ?)\", (country, year, gdp_per_capita))\n",
    "\n",
    "    # Commit changes and close connection\n",
    "    conn.commit()\n",
    "    conn.close()\n",
    "\n",
    "    print(\"Data stored successfully in SQL database.\")\n",
    "else:\n",
    "    print(\"Failed to retrieve data from the website.\")\n",
    "\n"
   ]
  },
  {
   "cell_type": "code",
   "execution_count": 17,
   "id": "2f01d226",
   "metadata": {},
   "outputs": [],
   "source": [
    "import sqlite3\n",
    "\n",
    "# Connect to the SQLite database\n",
    "conn = sqlite3.connect('scraped_data.db')\n",
    "cursor = conn.cursor()\n",
    "\n",
    "# Execute a SQL query to fetch all rows from the table\n",
    "cursor.execute(\"SELECT * FROM scraped_data\")\n",
    "\n",
    "# Fetch all rows from the result set\n",
    "rows = cursor.fetchall()\n",
    "\n",
    "# Print the fetched rows\n",
    "for row in rows:\n",
    "    print(row)\n",
    "\n",
    "# Close connection\n",
    "conn.close()"
   ]
  },
  {
   "cell_type": "code",
   "execution_count": null,
   "id": "70f84be7",
   "metadata": {},
   "outputs": [],
   "source": []
  }
 ],
 "metadata": {
  "kernelspec": {
   "display_name": "Python 3 (ipykernel)",
   "language": "python",
   "name": "python3"
  },
  "language_info": {
   "codemirror_mode": {
    "name": "ipython",
    "version": 3
   },
   "file_extension": ".py",
   "mimetype": "text/x-python",
   "name": "python",
   "nbconvert_exporter": "python",
   "pygments_lexer": "ipython3",
   "version": "3.11.5"
  }
 },
 "nbformat": 4,
 "nbformat_minor": 5
}
