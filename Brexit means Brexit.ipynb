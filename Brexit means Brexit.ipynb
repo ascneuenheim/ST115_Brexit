{
 "cells": [
  {
   "cell_type": "markdown",
   "id": "e3c82cfa",
   "metadata": {},
   "source": [
    "# Table of Contents\n",
    "\n",
    "- [Introduction](#section1)\n",
    "- [Data Acquisition](#section2)\n",
    "- [Data Preparation](#section3)\n",
    "- [Data Analysis](#section4)\n",
    "    - [The impact of Brexit on applications from EU citizens](#section5)\n",
    "    - [The impact of expected Salaries of departments on applications](#section6)\n",
    "    - [The impact of wealthines of countries on applications](#section7)\n",
    "    - [The impact of Brexit on allocation of department recources](#section8)\n",
    "- [Conclusion](#section9)\n",
    "    - [Summary of main results](#section10)\n",
    "    - [Discussion of Limitations to the analysis](#section11)\n",
    "- [References](#section12)\n",
    "- [Section 13](#section13)\n",
    "- [Section 14](#section14)\n",
    "- [Section 15](#section15)\n",
    "- [Section 16](#section16)\n",
    "- [Section 17](#section17)\n",
    "- [Section 18](#section18)\n",
    "- [Section 19](#section19)\n",
    "- [Section 20](#section20)\n",
    "- [Section 21](#section21)\n",
    "- [Section 22](#section22)\n",
    "- [Section 23](#section23)\n",
    "- [Section 24](#section24)\n",
    "- [Section 25](#section25)\n",
    "- [Section 26](#section26)\n",
    "- [Section 27](#section27)\n",
    "- [Section 28](#section28)\n",
    "- [Section 29](#section29)\n",
    "- [Section 30](#section30)\n"
   ]
  },
  {
   "cell_type": "markdown",
   "id": "d1562cb0",
   "metadata": {},
   "source": [
    "# Introduction <a id='section1'></a>\n",
    "\n",
    "The aim of this project is to explore the effect of Brexit on LSE. This will be decomposed into several research questions to examine aspects where Brexit is likely to have had an effect. The following describes the exact areas of analysis:\n",
    " \n",
    "Primarily, the number of applicants from EU countries will be examined to see if it has changed as the tuition fees for EU students have increased significantly due to Brexit. From this, the acceptance rate of EU students can be calculated on a departmental level to look for any changes there. This analysis will assess whether the difficulty of entry, and thus competitiveness, has remained consistent post-Brexit and if LSE continues to attract EU students, who now face higher costs. Since tuition fees have only changed for undergraduates, comparing the same data for postgraduates will serve as a control to see if the effect is only present for undergraduates.\n",
    " \n",
    "Then, the effect of Brexit on the number of applicants and acceptance rates will be examined across departments, to see if this effect varies between departments with different average starting salaries. Here, the motivation is that for departments that typically had higher starting salaries, the decision of students to apply there was also financially motivated. Conversely, for students who applied to departments with typically lower starting salaries, the financial aspect was presumably less important. According to this logic, the effect of Brexit would be higher for departments with higher starting salaries. This analysis helps us understand the effect of Brexit more precisely on a departmental level and may indicate how LSE’s applicant pool has been affected by Brexit.\n",
    " \n",
    "To further assess LSE’s attractiveness, the project will investigate the effect of Brexit on average salaries. Specifically, it will examine whether average salaries have changed more significantly in departments with a higher or lower proportion of EU students post-Brexit. The assumption is that firms may avoid hiring individuals who require a student visa, potentially leading to decreased average salaries in departments with a high proportion of EU students. If such an effect would be present it would make these departments less attractive for EU students who factor in average starting salaries into their application decision and thus be important for LSE to consider.\n",
    " \n",
    " Finally, the effect of Brexit on individual departments will be analysed. The change in tuition fees for EU undergraduates will not only affect the students but also the various departments who collect these fees. Moreover, can analyse how the additional collected tuition fees were allocated. For example, the number of staff and research output can be examined (before and after Brexit) to see whether this has perhaps increased for a department which now collected more tuition fees. This part can help break down the effect of Brexit on LSE within specific departments as well as indicate whether the research of certain departments have improved, which is another important aspect of LSE.\n",
    " \n",
    "These queries which the project aims to answer can be condensed into the following research questions:\n",
    " \n",
    "1. Has the competitiveness and attractiveness of LSE to EU students changed following Brexit as these EU students are faced with increased tuition fees?\n",
    "2. Does the impact of Brexit on applicant numbers and acceptance rates at LSE vary between departments with differing average starting salaries?\n",
    "3. How does the effect of Brexit on average salaries differ across departments who vary in their proportion of EU students?\n",
    "4. How have the changes in tuition fees for EU undergraduates post-Brexit affected the financial and academic aspects of individual departments at LSE?\n",
    " \n",
    "There is already some limited research on the effects of Brexit on UK universities. Particularly, the paper “International Student Applications in the United Kingdom after Brexit”, by Catalina Amuedo-Dorantes and Agnese Romiti, published in April 2021 focusses on this topic. Their paper finds that Brexit has led to a 14% decrease in the growth rate of international student applications. The drop in applications is particularly notable among EU students from countries with weaker economies, likely due to uncertainty about their post-study rights in the UK. Resultingly there have been fewer international enrollments.\n",
    " \n",
    "Therefore, some ideas examined in this paper are similar these are researched more broadly.\n",
    "In comparison, our research is tailored specifically towards LSE and provides a more granular view as it explores the effects of Brexit on a departmental level as well as considering the general attractiveness and competitiveness of LSE following Brexit."
   ]
  },
  {
   "cell_type": "markdown",
   "id": "b36370ed",
   "metadata": {},
   "source": [
    "# Data Acquisition <a id='section2'></a>\n",
    "\n",
    "The data used to answer these questions comes mainly from two sources.\n",
    " \n",
    "Primarily the LSE Planning Divison’s Tableau public (URL) which provides many statistics on LSE’s students. Specifically the “Department by Nationality” (URL) dataset from the tableau “LSE applications, offers and entrants” was used which provides breakdown of the number of applicants, offers and entrants from each nationality for all departments for the previous five academic years. From this source the number of applicants and acceptance rates per department could be extracted and importantly compared to between years (to capture the effect of Brexit).\n",
    " \n",
    "Extractcing this data was quite complicatedHOW WE COLLECTED THIS\n",
    "-   \tWo das gestored ist\n",
    " \n",
    "The second main source were the course websites of LSE itself. The starting point was the following website which contains an overview over all courses and the specific links to the websites of various course programs: URL. These contain the general information for different programs. These were scraped to obtain the department name as well as the median salary 15 months after graduating.\n",
    " \n",
    "One issue was that the course websites for undergraduate courses are structured differently than the postgraduate courses which means the webscraping approach had to be adjusted accordingly. The code uses selenium to navigate the course overview page. At first, it filters for only undergraduate courses. It accesses each course page, scrapes the course name, median salary and department and then goes back to the main page. It continues like that until the end of the page, when the code presses a button to access the next page. Once it has scraped information from all undergraduate courses, it filters for the postgraduate courses. It works similarly but the information to be scraped is in different places within the html structure. Once it scraped the information for all postgraduate courses, all the scraped data is stored in a csv file (“Output.csv” in the data folder).\n",
    " \n",
    "These two sources provide sufficient data to address research questions 1-3. Question 1 solely needs the first data source which contains the data for the number of applicants and acceptance rates. Questions 2 and 3 then combine this data as well as the information on starting salaries obtained from the course program websites.\n",
    " \n",
    "Please see the jupyter notebook “Data Acquisition” to see exactly how the data was acquired.\n"
   ]
  },
  {
   "cell_type": "markdown",
   "id": "99d14da8",
   "metadata": {},
   "source": [
    "# Data Preparation <a id='section3'></a>\n",
    "\n",
    "Before performing the analysis, the data must be manipulated significantly so they are present in clean csvs or dataframes. As the data was extracted from primarily two sources (Tableau Public) and the LSE course websites, data preparation for both datasets will be performed individually. The following describes how exactly this was conducted.\n",
    " \n",
    "-   \tBeschreiben wie genau wir die Data gecleaned haben für beide Data Sources\n",
    " \n",
    "Please see the jupyter notebook “Data Preparation” to see exactly how the data was prepared.\n"
   ]
  },
  {
   "cell_type": "markdown",
   "id": "4abe9401",
   "metadata": {},
   "source": [
    "# Data Analysis <a id='section4'></a>"
   ]
  },
  {
   "cell_type": "markdown",
   "id": "c403e699",
   "metadata": {},
   "source": [
    "## The impact of Brexit on applications from EU citizens <a id='section5'></a>"
   ]
  },
  {
   "cell_type": "markdown",
   "id": "82b6eeba",
   "metadata": {},
   "source": [
    "## The impact of expected Salaries of departments on applications <a id='section6'></a>"
   ]
  },
  {
   "cell_type": "markdown",
   "id": "963b6be4",
   "metadata": {},
   "source": [
    "## The impact of wealthines of countries on applications <a id='section7'></a>"
   ]
  },
  {
   "cell_type": "markdown",
   "id": "34bcdc14",
   "metadata": {},
   "source": [
    "## The impact of Brexit on allocation of department recources <a id='section8'></a>"
   ]
  },
  {
   "cell_type": "markdown",
   "id": "7eff59c0",
   "metadata": {},
   "source": [
    "# Conclusion <a id='section9'></a>"
   ]
  },
  {
   "cell_type": "markdown",
   "id": "61c35ef0",
   "metadata": {},
   "source": [
    "## Summary of main results <a id='section10'></a>"
   ]
  },
  {
   "cell_type": "markdown",
   "id": "66d5d06c",
   "metadata": {},
   "source": [
    "## Discussion of Limitations to the analysis <a id='section11'></a>"
   ]
  },
  {
   "cell_type": "markdown",
   "id": "ae781e16",
   "metadata": {},
   "source": [
    "## References <a id='section12'></a>"
   ]
  },
  {
   "cell_type": "markdown",
   "id": "6073c32a",
   "metadata": {},
   "source": [
    "## The impact of Brexit on allocation of department recources <a id='section8'></a>"
   ]
  },
  {
   "cell_type": "markdown",
   "id": "da5dc974",
   "metadata": {},
   "source": [
    "## The impact of Brexit on allocation of department recources <a id='section8'></a>"
   ]
  }
 ],
 "metadata": {
  "kernelspec": {
   "display_name": "Python 3 (ipykernel)",
   "language": "python",
   "name": "python3"
  },
  "language_info": {
   "codemirror_mode": {
    "name": "ipython",
    "version": 3
   },
   "file_extension": ".py",
   "mimetype": "text/x-python",
   "name": "python",
   "nbconvert_exporter": "python",
   "pygments_lexer": "ipython3",
   "version": "3.11.5"
  }
 },
 "nbformat": 4,
 "nbformat_minor": 5
}
