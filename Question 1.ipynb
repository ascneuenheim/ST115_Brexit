{
 "cells": [
  {
   "cell_type": "code",
   "execution_count": 3,
   "id": "f460370f",
   "metadata": {},
   "outputs": [],
   "source": [
    "#We now want to add acceptance rate and entrance rate to our data file\n",
    "\n",
    "import pandas as pd\n",
    "\n",
    "# Read the CSV file into a Pandas DataFrame\n",
    "#df = pd.read_csv(\"Data/MAXI.csv\")\n",
    "\n",
    "#years = ['2019/20', '2020/21', '2021/22', '2022/23', '2023/2024']\n",
    "\n",
    "# Calculate acceptance rate and entrance rate for each year\n",
    "#for year in years:\n",
    "    #apps_col = f'Apps {year}'\n",
    "    #offers_col = f'Offers {year}'\n",
    "    #entrants_col = f'Entrants {year}'\n",
    "    #accept_rate_col = f'Acceptance Rate {year}'\n",
    "    #entrance_rate_col = f'Entrance Rate {year}'\n",
    "    \n",
    "    # Calculate acceptance rate: offers / applications\n",
    "    #df[accept_rate_col] = df[offers_col] / df[apps_col]\n",
    "    \n",
    "    # Calculate entrance rate: entrants / offers\n",
    "    #df[entrance_rate_col] = df[entrants_col] / df[offers_col]\n",
    "\n",
    "#df.to_csv(\"Data/Maxi.csv\", index=False)"
   ]
  },
  {
   "cell_type": "code",
   "execution_count": 4,
   "id": "4b612bc9",
   "metadata": {
    "scrolled": true
   },
   "outputs": [
    {
     "name": "stdout",
     "output_type": "stream",
     "text": [
      "27\n"
     ]
    }
   ],
   "source": [
    "# Now we want to filter out the european students, in our data they are characterized by nationality\n",
    "import csv\n",
    "\n",
    "# Define the file paths, downloaded these csv files from GITHUB\n",
    "eu_countries_file = \"Data/EU-countries.csv\"\n",
    "nationalities_file = \"Data/countries.csv\"\n",
    "\n",
    "# Initialize a set to store European nationalities\n",
    "EU_nationalities = set()\n",
    "\n",
    "# get EU countries from the CSV file\n",
    "eu_countries = set()\n",
    "with open(eu_countries_file, newline='', encoding='utf-8') as csvfile:\n",
    "    reader = csv.reader(csvfile)\n",
    "    next(reader)  # Skip header\n",
    "    for row in reader:\n",
    "        country_name = row[2].strip()  # country name is in first column\n",
    "        eu_countries.add(country_name)\n",
    "\n",
    "# Read the nationalities from the CSV file and filter European nationalities\n",
    "with open(nationalities_file, newline='', encoding='utf-8') as csvfile:\n",
    "    reader = csv.reader(csvfile)\n",
    "    next(reader) \n",
    "    for row in reader:\n",
    "        country_name = row[3].strip()  # country name is in fourth column\n",
    "        if country_name in eu_countries: \n",
    "            EU_nationalities.add(row[4])  # nationality is in fifth column\n",
    "# check if all countries are there(should be 27)            \n",
    "print(len(EU_nationalities))"
   ]
  },
  {
   "cell_type": "code",
   "execution_count": 5,
   "id": "089bb798",
   "metadata": {},
   "outputs": [],
   "source": [
    "#Now we change the CSV file with the acceptance rates so it oonly includes EU students\n",
    "\n",
    "# Define the file paths\n",
    "input_csv_file = \"Data/MAXI.csv\" \n",
    "output_csv_file = \"Data/EU_students_acceptance_by_department.csv\"  \n",
    "\n",
    "# Open the input CSV file for reading and the output CSV file for writing\n",
    "with open(input_csv_file, newline='', encoding='utf-8') as input_file, \\\n",
    "     open(output_csv_file, 'w', newline='', encoding='utf-8') as output_file:\n",
    "    # Create CSV reader and writer objects\n",
    "    reader = csv.reader(input_file)\n",
    "    writer = csv.writer(output_file)\n",
    "\n",
    "    # Read and write the first header row to the output file\n",
    "    first_header = next(reader)\n",
    "    writer.writerow(first_header)\n",
    "\n",
    "    # Read and write the second header row to the output file\n",
    "    second_header = next(reader)\n",
    "    writer.writerow(second_header)\n",
    "\n",
    "    # Iterate over each row in the input CSV file\n",
    "    for row in reader:\n",
    "        # Check if the nationality in the first column is in the list of European nationalities\n",
    "        if row[0].strip() in EU_nationalities:\n",
    "            # Write the row to the output CSV file\n",
    "            writer.writerow(row)\n"
   ]
  },
  {
   "cell_type": "code",
   "execution_count": 6,
   "id": "48a0f499",
   "metadata": {},
   "outputs": [
    {
     "data": {
      "text/html": [
       "<div>\n",
       "<style scoped>\n",
       "    .dataframe tbody tr th:only-of-type {\n",
       "        vertical-align: middle;\n",
       "    }\n",
       "\n",
       "    .dataframe tbody tr th {\n",
       "        vertical-align: top;\n",
       "    }\n",
       "\n",
       "    .dataframe thead th {\n",
       "        text-align: right;\n",
       "    }\n",
       "</style>\n",
       "<table border=\"1\" class=\"dataframe\">\n",
       "  <thead>\n",
       "    <tr style=\"text-align: right;\">\n",
       "      <th></th>\n",
       "      <th>Nationality</th>\n",
       "      <th>Department</th>\n",
       "      <th>Programe</th>\n",
       "      <th>Apps 2019/20</th>\n",
       "      <th>Offers 2019/20</th>\n",
       "      <th>Entrants 2019/20</th>\n",
       "      <th>Apps 2020/21</th>\n",
       "      <th>Offers 2020/21</th>\n",
       "      <th>Entrants 2020/21</th>\n",
       "      <th>Apps 2021/22</th>\n",
       "      <th>...</th>\n",
       "      <th>Acceptance Rate 2019/20</th>\n",
       "      <th>Entrance Rate 2019/20</th>\n",
       "      <th>Acceptance Rate 2020/21</th>\n",
       "      <th>Entrance Rate 2020/21</th>\n",
       "      <th>Acceptance Rate 2021/22</th>\n",
       "      <th>Entrance Rate 2021/22</th>\n",
       "      <th>Acceptance Rate 2022/23</th>\n",
       "      <th>Entrance Rate 2022/23</th>\n",
       "      <th>Acceptance Rate 2023/2024</th>\n",
       "      <th>Entrance Rate 2023/2024</th>\n",
       "    </tr>\n",
       "  </thead>\n",
       "  <tbody>\n",
       "    <tr>\n",
       "      <th>0</th>\n",
       "      <td>German</td>\n",
       "      <td>Accounting</td>\n",
       "      <td>UG Degree</td>\n",
       "      <td>100</td>\n",
       "      <td>97</td>\n",
       "      <td>94</td>\n",
       "      <td>91</td>\n",
       "      <td>88</td>\n",
       "      <td>85</td>\n",
       "      <td>82</td>\n",
       "      <td>...</td>\n",
       "      <td>0.970000</td>\n",
       "      <td>0.969072</td>\n",
       "      <td>0.967033</td>\n",
       "      <td>0.965909</td>\n",
       "      <td>0.963415</td>\n",
       "      <td>0.962025</td>\n",
       "      <td>0.958904</td>\n",
       "      <td>0.957143</td>\n",
       "      <td>0.953125</td>\n",
       "      <td>0.950820</td>\n",
       "    </tr>\n",
       "    <tr>\n",
       "      <th>1</th>\n",
       "      <td>German</td>\n",
       "      <td>Accounting</td>\n",
       "      <td>PG Taught</td>\n",
       "      <td>96</td>\n",
       "      <td>93</td>\n",
       "      <td>90</td>\n",
       "      <td>87</td>\n",
       "      <td>84</td>\n",
       "      <td>81</td>\n",
       "      <td>78</td>\n",
       "      <td>...</td>\n",
       "      <td>0.968750</td>\n",
       "      <td>0.967742</td>\n",
       "      <td>0.965517</td>\n",
       "      <td>0.964286</td>\n",
       "      <td>0.961538</td>\n",
       "      <td>0.960000</td>\n",
       "      <td>0.956522</td>\n",
       "      <td>0.954545</td>\n",
       "      <td>0.950000</td>\n",
       "      <td>0.947368</td>\n",
       "    </tr>\n",
       "    <tr>\n",
       "      <th>2</th>\n",
       "      <td>German</td>\n",
       "      <td>Anthropology</td>\n",
       "      <td>UG Degree</td>\n",
       "      <td>58</td>\n",
       "      <td>55</td>\n",
       "      <td>52</td>\n",
       "      <td>49</td>\n",
       "      <td>46</td>\n",
       "      <td>43</td>\n",
       "      <td>40</td>\n",
       "      <td>...</td>\n",
       "      <td>0.948276</td>\n",
       "      <td>0.945455</td>\n",
       "      <td>0.938776</td>\n",
       "      <td>0.934783</td>\n",
       "      <td>0.925000</td>\n",
       "      <td>0.918919</td>\n",
       "      <td>0.903226</td>\n",
       "      <td>0.892857</td>\n",
       "      <td>0.863636</td>\n",
       "      <td>0.842105</td>\n",
       "    </tr>\n",
       "    <tr>\n",
       "      <th>3</th>\n",
       "      <td>German</td>\n",
       "      <td>Economic History</td>\n",
       "      <td>UG Degree</td>\n",
       "      <td>97</td>\n",
       "      <td>94</td>\n",
       "      <td>91</td>\n",
       "      <td>88</td>\n",
       "      <td>85</td>\n",
       "      <td>82</td>\n",
       "      <td>79</td>\n",
       "      <td>...</td>\n",
       "      <td>0.969072</td>\n",
       "      <td>0.968085</td>\n",
       "      <td>0.965909</td>\n",
       "      <td>0.964706</td>\n",
       "      <td>0.962025</td>\n",
       "      <td>0.960526</td>\n",
       "      <td>0.957143</td>\n",
       "      <td>0.955224</td>\n",
       "      <td>0.950820</td>\n",
       "      <td>0.948276</td>\n",
       "    </tr>\n",
       "    <tr>\n",
       "      <th>4</th>\n",
       "      <td>German</td>\n",
       "      <td>Economic History</td>\n",
       "      <td>PG Taught</td>\n",
       "      <td>96</td>\n",
       "      <td>93</td>\n",
       "      <td>90</td>\n",
       "      <td>87</td>\n",
       "      <td>84</td>\n",
       "      <td>81</td>\n",
       "      <td>78</td>\n",
       "      <td>...</td>\n",
       "      <td>0.968750</td>\n",
       "      <td>0.967742</td>\n",
       "      <td>0.965517</td>\n",
       "      <td>0.964286</td>\n",
       "      <td>0.961538</td>\n",
       "      <td>0.960000</td>\n",
       "      <td>0.956522</td>\n",
       "      <td>0.954545</td>\n",
       "      <td>0.950000</td>\n",
       "      <td>0.947368</td>\n",
       "    </tr>\n",
       "  </tbody>\n",
       "</table>\n",
       "<p>5 rows × 28 columns</p>\n",
       "</div>"
      ],
      "text/plain": [
       "  Nationality        Department   Programe  Apps 2019/20  Offers 2019/20  \\\n",
       "0      German        Accounting  UG Degree           100              97   \n",
       "1      German        Accounting  PG Taught            96              93   \n",
       "2      German      Anthropology  UG Degree            58              55   \n",
       "3      German  Economic History  UG Degree            97              94   \n",
       "4      German  Economic History  PG Taught            96              93   \n",
       "\n",
       "   Entrants 2019/20  Apps 2020/21  Offers 2020/21  Entrants 2020/21  \\\n",
       "0                94            91              88                85   \n",
       "1                90            87              84                81   \n",
       "2                52            49              46                43   \n",
       "3                91            88              85                82   \n",
       "4                90            87              84                81   \n",
       "\n",
       "   Apps 2021/22  ...  Acceptance Rate 2019/20  Entrance Rate 2019/20  \\\n",
       "0            82  ...                 0.970000               0.969072   \n",
       "1            78  ...                 0.968750               0.967742   \n",
       "2            40  ...                 0.948276               0.945455   \n",
       "3            79  ...                 0.969072               0.968085   \n",
       "4            78  ...                 0.968750               0.967742   \n",
       "\n",
       "   Acceptance Rate 2020/21  Entrance Rate 2020/21  Acceptance Rate 2021/22  \\\n",
       "0                 0.967033               0.965909                 0.963415   \n",
       "1                 0.965517               0.964286                 0.961538   \n",
       "2                 0.938776               0.934783                 0.925000   \n",
       "3                 0.965909               0.964706                 0.962025   \n",
       "4                 0.965517               0.964286                 0.961538   \n",
       "\n",
       "   Entrance Rate 2021/22  Acceptance Rate 2022/23  Entrance Rate 2022/23  \\\n",
       "0               0.962025                 0.958904               0.957143   \n",
       "1               0.960000                 0.956522               0.954545   \n",
       "2               0.918919                 0.903226               0.892857   \n",
       "3               0.960526                 0.957143               0.955224   \n",
       "4               0.960000                 0.956522               0.954545   \n",
       "\n",
       "   Acceptance Rate 2023/2024  Entrance Rate 2023/2024  \n",
       "0                   0.953125                 0.950820  \n",
       "1                   0.950000                 0.947368  \n",
       "2                   0.863636                 0.842105  \n",
       "3                   0.950820                 0.948276  \n",
       "4                   0.950000                 0.947368  \n",
       "\n",
       "[5 rows x 28 columns]"
      ]
     },
     "execution_count": 6,
     "metadata": {},
     "output_type": "execute_result"
    }
   ],
   "source": [
    "# Read the CSV file into a Pandas DataFrame\n",
    "data = pd.read_csv(\"Data/EU_students_acceptance_by_department.csv\")\n",
    "data"
   ]
  },
  {
   "cell_type": "code",
   "execution_count": 10,
   "id": "6aebf832",
   "metadata": {},
   "outputs": [
    {
     "data": {
      "image/png": "[encoded data removed]",
      "text/plain": [
       "<Figure size 1000x600 with 1 Axes>"
      ]
     },
     "metadata": {},
     "output_type": "display_data"
    }
   ],
   "source": [
    "import matplotlib.pyplot as plt\n",
    "\n",
    "# Read the CSV file into a Pandas DataFrame\n",
    "df = pd.read_csv(\"Data/EU_students_acceptance_by_department.csv\")\n",
    "\n",
    "# Extract the columns of interest (4th, 7th, 10th, 13th, and 16th columns)\n",
    "columns_of_interest = df.columns[[3, 6, 9, 12, 15]]\n",
    "\n",
    "# Melt the DataFrame to unpivot the data\n",
    "df_melted = df.melt(id_vars=[df.columns[1]], value_vars=columns_of_interest, var_name='Time', value_name='Applications')\n",
    "\n",
    "# Plot the development of applications for each department over time\n",
    "plt.figure(figsize=(10, 6))\n",
    "for department, data in df_melted.groupby('Department'):\n",
    "    plt.plot(data['Time'], data['Applications'], label=department)\n",
    "\n",
    "plt.title('Development of Applications by Department')\n",
    "plt.xlabel('Time')\n",
    "plt.ylabel('Number of Applications')\n",
    "plt.grid(True)\n",
    "plt.legend(title='Department', loc='upper left')\n",
    "plt.xticks(rotation=45)\n",
    "plt.tight_layout()\n",
    "plt.show()\n"
   ]
  },
  {
   "cell_type": "code",
   "execution_count": 11,
   "id": "b34b1a3f",
   "metadata": {},
   "outputs": [
    {
     "data": {
      "image/png": "[encoded data removed]",
      "text/plain": [
       "<Figure size 1000x600 with 1 Axes>"
      ]
     },
     "metadata": {},
     "output_type": "display_data"
    }
   ],
   "source": [
    "\n",
    "# Extract the columns of interest\n",
    "columns_of_interest = df.columns[[19, 21, 23, 25, 27]]\n",
    "\n",
    "# Melt the DataFrame to unpivot the data\n",
    "df_melted = df.melt(id_vars=[df.columns[1]], value_vars=columns_of_interest, var_name='Time', value_name='Acceptance rate')\n",
    "\n",
    "# Plot the development of applications for each department over time\n",
    "plt.figure(figsize=(10, 6))\n",
    "for department, data in df_melted.groupby('Department'):\n",
    "    plt.plot(data['Time'], data['Acceptance rate'], label=department)\n",
    "\n",
    "plt.title('Development of Acceptance rate by Department')\n",
    "plt.xlabel('Time')\n",
    "plt.ylabel('Acceptance rate')\n",
    "plt.grid(True)\n",
    "plt.legend(title='Department', loc='upper left')\n",
    "plt.xticks(rotation=45)\n",
    "plt.tight_layout()\n",
    "plt.show()\n"
   ]
  },
  {
   "cell_type": "code",
   "execution_count": 22,
   "id": "c251c9b5",
   "metadata": {},
   "outputs": [
    {
     "data": {
      "application/vnd.plotly.v1+json": {
       "config": {
        "plotlyServerURL": "https://plot.ly"
       },
       "data": [
        {
         "customdata": [
          [
           "Accounting",
           "Degree"
          ],
          [
           "Anthropology",
           "Degree"
          ],
          [
           "Economic History",
           "Degree"
          ],
          [
           "Accounting",
           "Degree"
          ],
          [
           "Anthropology",
           "Degree"
          ],
          [
           "Economic History",
           "Degree"
          ],
          [
           "Accounting",
           "Degree"
          ],
          [
           "Anthropology",
           "Degree"
          ],
          [
           "Economic History",
           "Degree"
          ],
          [
           "Accounting",
           "Degree"
          ],
          [
           "Anthropology",
           "Degree"
          ],
          [
           "Economic History",
           "Degree"
          ],
          [
           "Accounting",
           "Degree"
          ],
          [
           "Anthropology",
           "Degree"
          ],
          [
           "Economic History",
           "Degree"
          ]
         ],
         "hovertemplate": "Degree=UG<br>Programe=%{customdata[1]}<br>Year=%{x}<br>Applications=%{y}<br>Department=%{customdata[0]}<extra></extra>",
         "legendgroup": "UG, Degree",
         "marker": {
          "color": "#636efa",
          "symbol": "circle"
         },
         "mode": "markers",
         "name": "UG, Degree",
         "orientation": "v",
         "showlegend": true,
         "type": "scatter",
         "x": [
          "2019",
          "2019",
          "2019",
          "2020",
          "2020",
          "2020",
          "2021",
          "2021",
          "2021",
          "2022",
          "2022",
          "2022",
          "2023",
          "2023",
          "2023"
         ],
         "xaxis": "x",
         "y": [
          100,
          58,
          97,
          91,
          49,
          88,
          82,
          40,
          79,
          73,
          31,
          70,
          64,
          22,
          61
         ],
         "yaxis": "y"
        },
        {
         "hovertemplate": "<b>OLS trendline</b><br>Applications = -9 * Year + 18256<br>R<sup>2</sup>=0.306818<br><br>Degree=UG<br>Programe=Degree<br>Year=%{x}<br>Applications=%{y} <b>(trend)</b><extra></extra>",
         "legendgroup": "UG, Degree",
         "marker": {
          "color": "#636efa",
          "symbol": "circle"
         },
         "mode": "lines",
         "name": "UG, Degree",
         "showlegend": false,
         "type": "scatter",
         "x": [
          "2019",
          "2019",
          "2019",
          "2020",
          "2020",
          "2020",
          "2021",
          "2021",
          "2021",
          "2022",
          "2022",
          "2022",
          "2023",
          "2023",
          "2023"
         ],
         "xaxis": "x",
         "y": [
          85.0000000000007,
          85.0000000000007,
          85.0000000000007,
          76.0000000000008,
          76.0000000000008,
          76.0000000000008,
          67.00000000000091,
          67.00000000000091,
          67.00000000000091,
          58.00000000000101,
          58.00000000000101,
          58.00000000000101,
          49.00000000000111,
          49.00000000000111,
          49.00000000000111
         ],
         "yaxis": "y"
        },
        {
         "customdata": [
          [
           "Accounting",
           "Taught"
          ],
          [
           "Economic History",
           "Taught"
          ],
          [
           "Accounting",
           "Taught"
          ],
          [
           "Economic History",
           "Taught"
          ],
          [
           "Accounting",
           "Taught"
          ],
          [
           "Economic History",
           "Taught"
          ],
          [
           "Accounting",
           "Taught"
          ],
          [
           "Economic History",
           "Taught"
          ],
          [
           "Accounting",
           "Taught"
          ],
          [
           "Economic History",
           "Taught"
          ]
         ],
         "hovertemplate": "Degree=PG<br>Programe=%{customdata[1]}<br>Year=%{x}<br>Applications=%{y}<br>Department=%{customdata[0]}<extra></extra>",
         "legendgroup": "PG, Taught",
         "marker": {
          "color": "#EF553B",
          "symbol": "diamond"
         },
         "mode": "markers",
         "name": "PG, Taught",
         "orientation": "v",
         "showlegend": true,
         "type": "scatter",
         "x": [
          "2019",
          "2019",
          "2020",
          "2020",
          "2021",
          "2021",
          "2022",
          "2022",
          "2023",
          "2023"
         ],
         "xaxis": "x",
         "y": [
          96,
          96,
          87,
          87,
          78,
          78,
          69,
          69,
          60,
          60
         ],
         "yaxis": "y"
        },
        {
         "hovertemplate": "<b>OLS trendline</b><br>Applications = -9 * Year + 18267<br>R<sup>2</sup>=1.000000<br><br>Degree=PG<br>Programe=Taught<br>Year=%{x}<br>Applications=%{y} <b>(trend)</b><extra></extra>",
         "legendgroup": "PG, Taught",
         "marker": {
          "color": "#EF553B",
          "symbol": "diamond"
         },
         "mode": "lines",
         "name": "PG, Taught",
         "showlegend": false,
         "type": "scatter",
         "x": [
          "2019",
          "2019",
          "2020",
          "2020",
          "2021",
          "2021",
          "2022",
          "2022",
          "2023",
          "2023"
         ],
         "xaxis": "x",
         "y": [
          96.000000000012,
          96.000000000012,
          87.00000000001333,
          87.00000000001333,
          78.00000000001467,
          78.00000000001467,
          69.00000000001602,
          69.00000000001602,
          60.00000000001736,
          60.00000000001736
         ],
         "yaxis": "y"
        }
       ],
       "layout": {
        "legend": {
         "title": {
          "text": "Degree, Programe"
         },
         "tracegroupgap": 0
        },
        "margin": {
         "t": 60
        },
        "template": {
         "data": {
          "bar": [
           {
            "error_x": {
             "color": "#2a3f5f"
            },
            "error_y": {
             "color": "#2a3f5f"
            },
            "marker": {
             "line": {
              "color": "#E5ECF6",
              "width": 0.5
             },
             "pattern": {
              "fillmode": "overlay",
              "size": 10,
              "solidity": 0.2
             }
            },
            "type": "bar"
           }
          ],
          "barpolar": [
           {
            "marker": {
             "line": {
              "color": "#E5ECF6",
              "width": 0.5
             },
             "pattern": {
              "fillmode": "overlay",
              "size": 10,
              "solidity": 0.2
             }
            },
            "type": "barpolar"
           }
          ],
          "carpet": [
           {
            "aaxis": {
             "endlinecolor": "#2a3f5f",
             "gridcolor": "white",
             "linecolor": "white",
             "minorgridcolor": "white",
             "startlinecolor": "#2a3f5f"
            },
            "baxis": {
             "endlinecolor": "#2a3f5f",
             "gridcolor": "white",
             "linecolor": "white",
             "minorgridcolor": "white",
             "startlinecolor": "#2a3f5f"
            },
            "type": "carpet"
           }
          ],
          "choropleth": [
           {
            "colorbar": {
             "outlinewidth": 0,
             "ticks": ""
            },
            "type": "choropleth"
           }
          ],
          "contour": [
           {
            "colorbar": {
             "outlinewidth": 0,
             "ticks": ""
            },
            "colorscale": [
             [
              0,
              "#0d0887"
             ],
             [
              0.1111111111111111,
              "#46039f"
             ],
             [
              0.2222222222222222,
              "#7201a8"
             ],
             [
              0.3333333333333333,
              "#9c179e"
             ],
             [
              0.4444444444444444,
              "#bd3786"
             ],
             [
              0.5555555555555556,
              "#d8576b"
             ],
             [
              0.6666666666666666,
              "#ed7953"
             ],
             [
              0.7777777777777778,
              "#fb9f3a"
             ],
             [
              0.8888888888888888,
              "#fdca26"
             ],
             [
              1,
              "#f0f921"
             ]
            ],
            "type": "contour"
           }
          ],
          "contourcarpet": [
           {
            "colorbar": {
             "outlinewidth": 0,
             "ticks": ""
            },
            "type": "contourcarpet"
           }
          ],
          "heatmap": [
           {
            "colorbar": {
             "outlinewidth": 0,
             "ticks": ""
            },
            "colorscale": [
             [
              0,
              "#0d0887"
             ],
             [
              0.1111111111111111,
              "#46039f"
             ],
             [
              0.2222222222222222,
              "#7201a8"
             ],
             [
              0.3333333333333333,
              "#9c179e"
             ],
             [
              0.4444444444444444,
              "#bd3786"
             ],
             [
              0.5555555555555556,
              "#d8576b"
             ],
             [
              0.6666666666666666,
              "#ed7953"
             ],
             [
              0.7777777777777778,
              "#fb9f3a"
             ],
             [
              0.8888888888888888,
              "#fdca26"
             ],
             [
              1,
              "#f0f921"
             ]
            ],
            "type": "heatmap"
           }
          ],
          "heatmapgl": [
           {
            "colorbar": {
             "outlinewidth": 0,
             "ticks": ""
            },
            "colorscale": [
             [
              0,
              "#0d0887"
             ],
             [
              0.1111111111111111,
              "#46039f"
             ],
             [
              0.2222222222222222,
              "#7201a8"
             ],
             [
              0.3333333333333333,
              "#9c179e"
             ],
             [
              0.4444444444444444,
              "#bd3786"
             ],
             [
              0.5555555555555556,
              "#d8576b"
             ],
             [
              0.6666666666666666,
              "#ed7953"
             ],
             [
              0.7777777777777778,
              "#fb9f3a"
             ],
             [
              0.8888888888888888,
              "#fdca26"
             ],
             [
              1,
              "#f0f921"
             ]
            ],
            "type": "heatmapgl"
           }
          ],
          "histogram": [
           {
            "marker": {
             "pattern": {
              "fillmode": "overlay",
              "size": 10,
              "solidity": 0.2
             }
            },
            "type": "histogram"
           }
          ],
          "histogram2d": [
           {
            "colorbar": {
             "outlinewidth": 0,
             "ticks": ""
            },
            "colorscale": [
             [
              0,
              "#0d0887"
             ],
             [
              0.1111111111111111,
              "#46039f"
             ],
             [
              0.2222222222222222,
              "#7201a8"
             ],
             [
              0.3333333333333333,
              "#9c179e"
             ],
             [
              0.4444444444444444,
              "#bd3786"
             ],
             [
              0.5555555555555556,
              "#d8576b"
             ],
             [
              0.6666666666666666,
              "#ed7953"
             ],
             [
              0.7777777777777778,
              "#fb9f3a"
             ],
             [
              0.8888888888888888,
              "#fdca26"
             ],
             [
              1,
              "#f0f921"
             ]
            ],
            "type": "histogram2d"
           }
          ],
          "histogram2dcontour": [
           {
            "colorbar": {
             "outlinewidth": 0,
             "ticks": ""
            },
            "colorscale": [
             [
              0,
              "#0d0887"
             ],
             [
              0.1111111111111111,
              "#46039f"
             ],
             [
              0.2222222222222222,
              "#7201a8"
             ],
             [
              0.3333333333333333,
              "#9c179e"
             ],
             [
              0.4444444444444444,
              "#bd3786"
             ],
             [
              0.5555555555555556,
              "#d8576b"
             ],
             [
              0.6666666666666666,
              "#ed7953"
             ],
             [
              0.7777777777777778,
              "#fb9f3a"
             ],
             [
              0.8888888888888888,
              "#fdca26"
             ],
             [
              1,
              "#f0f921"
             ]
            ],
            "type": "histogram2dcontour"
           }
          ],
          "mesh3d": [
           {
            "colorbar": {
             "outlinewidth": 0,
             "ticks": ""
            },
            "type": "mesh3d"
           }
          ],
          "parcoords": [
           {
            "line": {
             "colorbar": {
              "outlinewidth": 0,
              "ticks": ""
             }
            },
            "type": "parcoords"
           }
          ],
          "pie": [
           {
            "automargin": true,
            "type": "pie"
           }
          ],
          "scatter": [
           {
            "fillpattern": {
             "fillmode": "overlay",
             "size": 10,
             "solidity": 0.2
            },
            "type": "scatter"
           }
          ],
          "scatter3d": [
           {
            "line": {
             "colorbar": {
              "outlinewidth": 0,
              "ticks": ""
             }
            },
            "marker": {
             "colorbar": {
              "outlinewidth": 0,
              "ticks": ""
             }
            },
            "type": "scatter3d"
           }
          ],
          "scattercarpet": [
           {
            "marker": {
             "colorbar": {
              "outlinewidth": 0,
              "ticks": ""
             }
            },
            "type": "scattercarpet"
           }
          ],
          "scattergeo": [
           {
            "marker": {
             "colorbar": {
              "outlinewidth": 0,
              "ticks": ""
             }
            },
            "type": "scattergeo"
           }
          ],
          "scattergl": [
           {
            "marker": {
             "colorbar": {
              "outlinewidth": 0,
              "ticks": ""
             }
            },
            "type": "scattergl"
           }
          ],
          "scattermapbox": [
           {
            "marker": {
             "colorbar": {
              "outlinewidth": 0,
              "ticks": ""
             }
            },
            "type": "scattermapbox"
           }
          ],
          "scatterpolar": [
           {
            "marker": {
             "colorbar": {
              "outlinewidth": 0,
              "ticks": ""
             }
            },
            "type": "scatterpolar"
           }
          ],
          "scatterpolargl": [
           {
            "marker": {
             "colorbar": {
              "outlinewidth": 0,
              "ticks": ""
             }
            },
            "type": "scatterpolargl"
           }
          ],
          "scatterternary": [
           {
            "marker": {
             "colorbar": {
              "outlinewidth": 0,
              "ticks": ""
             }
            },
            "type": "scatterternary"
           }
          ],
          "surface": [
           {
            "colorbar": {
             "outlinewidth": 0,
             "ticks": ""
            },
            "colorscale": [
             [
              0,
              "#0d0887"
             ],
             [
              0.1111111111111111,
              "#46039f"
             ],
             [
              0.2222222222222222,
              "#7201a8"
             ],
             [
              0.3333333333333333,
              "#9c179e"
             ],
             [
              0.4444444444444444,
              "#bd3786"
             ],
             [
              0.5555555555555556,
              "#d8576b"
             ],
             [
              0.6666666666666666,
              "#ed7953"
             ],
             [
              0.7777777777777778,
              "#fb9f3a"
             ],
             [
              0.8888888888888888,
              "#fdca26"
             ],
             [
              1,
              "#f0f921"
             ]
            ],
            "type": "surface"
           }
          ],
          "table": [
           {
            "cells": {
             "fill": {
              "color": "#EBF0F8"
             },
             "line": {
              "color": "white"
             }
            },
            "header": {
             "fill": {
              "color": "#C8D4E3"
             },
             "line": {
              "color": "white"
             }
            },
            "type": "table"
           }
          ]
         },
         "layout": {
          "annotationdefaults": {
           "arrowcolor": "#2a3f5f",
           "arrowhead": 0,
           "arrowwidth": 1
          },
          "autotypenumbers": "strict",
          "coloraxis": {
           "colorbar": {
            "outlinewidth": 0,
            "ticks": ""
           }
          },
          "colorscale": {
           "diverging": [
            [
             0,
             "#8e0152"
            ],
            [
             0.1,
             "#c51b7d"
            ],
            [
             0.2,
             "#de77ae"
            ],
            [
             0.3,
             "#f1b6da"
            ],
            [
             0.4,
             "#fde0ef"
            ],
            [
             0.5,
             "#f7f7f7"
            ],
            [
             0.6,
             "#e6f5d0"
            ],
            [
             0.7,
             "#b8e186"
            ],
            [
             0.8,
             "#7fbc41"
            ],
            [
             0.9,
             "#4d9221"
            ],
            [
             1,
             "#276419"
            ]
           ],
           "sequential": [
            [
             0,
             "#0d0887"
            ],
            [
             0.1111111111111111,
             "#46039f"
            ],
            [
             0.2222222222222222,
             "#7201a8"
            ],
            [
             0.3333333333333333,
             "#9c179e"
            ],
            [
             0.4444444444444444,
             "#bd3786"
            ],
            [
             0.5555555555555556,
             "#d8576b"
            ],
            [
             0.6666666666666666,
             "#ed7953"
            ],
            [
             0.7777777777777778,
             "#fb9f3a"
            ],
            [
             0.8888888888888888,
             "#fdca26"
            ],
            [
             1,
             "#f0f921"
            ]
           ],
           "sequentialminus": [
            [
             0,
             "#0d0887"
            ],
            [
             0.1111111111111111,
             "#46039f"
            ],
            [
             0.2222222222222222,
             "#7201a8"
            ],
            [
             0.3333333333333333,
             "#9c179e"
            ],
            [
             0.4444444444444444,
             "#bd3786"
            ],
            [
             0.5555555555555556,
             "#d8576b"
            ],
            [
             0.6666666666666666,
             "#ed7953"
            ],
            [
             0.7777777777777778,
             "#fb9f3a"
            ],
            [
             0.8888888888888888,
             "#fdca26"
            ],
            [
             1,
             "#f0f921"
            ]
           ]
          },
          "colorway": [
           "#636efa",
           "#EF553B",
           "#00cc96",
           "#ab63fa",
           "#FFA15A",
           "#19d3f3",
           "#FF6692",
           "#B6E880",
           "#FF97FF",
           "#FECB52"
          ],
          "font": {
           "color": "#2a3f5f"
          },
          "geo": {
           "bgcolor": "white",
           "lakecolor": "white",
           "landcolor": "#E5ECF6",
           "showlakes": true,
           "showland": true,
           "subunitcolor": "white"
          },
          "hoverlabel": {
           "align": "left"
          },
          "hovermode": "closest",
          "mapbox": {
           "style": "light"
          },
          "paper_bgcolor": "white",
          "plot_bgcolor": "#E5ECF6",
          "polar": {
           "angularaxis": {
            "gridcolor": "white",
            "linecolor": "white",
            "ticks": ""
           },
           "bgcolor": "#E5ECF6",
           "radialaxis": {
            "gridcolor": "white",
            "linecolor": "white",
            "ticks": ""
           }
          },
          "scene": {
           "xaxis": {
            "backgroundcolor": "#E5ECF6",
            "gridcolor": "white",
            "gridwidth": 2,
            "linecolor": "white",
            "showbackground": true,
            "ticks": "",
            "zerolinecolor": "white"
           },
           "yaxis": {
            "backgroundcolor": "#E5ECF6",
            "gridcolor": "white",
            "gridwidth": 2,
            "linecolor": "white",
            "showbackground": true,
            "ticks": "",
            "zerolinecolor": "white"
           },
           "zaxis": {
            "backgroundcolor": "#E5ECF6",
            "gridcolor": "white",
            "gridwidth": 2,
            "linecolor": "white",
            "showbackground": true,
            "ticks": "",
            "zerolinecolor": "white"
           }
          },
          "shapedefaults": {
           "line": {
            "color": "#2a3f5f"
           }
          },
          "ternary": {
           "aaxis": {
            "gridcolor": "white",
            "linecolor": "white",
            "ticks": ""
           },
           "baxis": {
            "gridcolor": "white",
            "linecolor": "white",
            "ticks": ""
           },
           "bgcolor": "#E5ECF6",
           "caxis": {
            "gridcolor": "white",
            "linecolor": "white",
            "ticks": ""
           }
          },
          "title": {
           "x": 0.05
          },
          "xaxis": {
           "automargin": true,
           "gridcolor": "white",
           "linecolor": "white",
           "ticks": "",
           "title": {
            "standoff": 15
           },
           "zerolinecolor": "white",
           "zerolinewidth": 2
          },
          "yaxis": {
           "automargin": true,
           "gridcolor": "white",
           "linecolor": "white",
           "ticks": "",
           "title": {
            "standoff": 15
           },
           "zerolinecolor": "white",
           "zerolinewidth": 2
          }
         }
        },
        "title": {
         "text": "Applications Over Time by Programe and Degree with OLS estimator"
        },
        "xaxis": {
         "anchor": "y",
         "domain": [
          0,
          1
         ],
         "title": {
          "text": "Year"
         }
        },
        "yaxis": {
         "anchor": "x",
         "domain": [
          0,
          1
         ],
         "title": {
          "text": "Applications"
         }
        }
       }
      },
      "text/html": [
       "<div>                            <div id=\"81b4c0f5-5ae1-4588-bdf9-11d654628a0b\" class=\"plotly-graph-div\" style=\"height:525px; width:100%;\"></div>            <script type=\"text/javascript\">                require([\"plotly\"], function(Plotly) {                    window.PLOTLYENV=window.PLOTLYENV || {};                                    if (document.getElementById(\"81b4c0f5-5ae1-4588-bdf9-11d654628a0b\")) {                    Plotly.newPlot(                        \"81b4c0f5-5ae1-4588-bdf9-11d654628a0b\",                        [{\"customdata\":[[\"Accounting\",\"Degree\"],[\"Anthropology\",\"Degree\"],[\"Economic History\",\"Degree\"],[\"Accounting\",\"Degree\"],[\"Anthropology\",\"Degree\"],[\"Economic History\",\"Degree\"],[\"Accounting\",\"Degree\"],[\"Anthropology\",\"Degree\"],[\"Economic History\",\"Degree\"],[\"Accounting\",\"Degree\"],[\"Anthropology\",\"Degree\"],[\"Economic History\",\"Degree\"],[\"Accounting\",\"Degree\"],[\"Anthropology\",\"Degree\"],[\"Economic History\",\"Degree\"]],\"hovertemplate\":\"Degree=UG<br>Programe=%{customdata[1]}<br>Year=%{x}<br>Applications=%{y}<br>Department=%{customdata[0]}<extra></extra>\",\"legendgroup\":\"UG, Degree\",\"marker\":{\"color\":\"#636efa\",\"symbol\":\"circle\"},\"mode\":\"markers\",\"name\":\"UG, Degree\",\"orientation\":\"v\",\"showlegend\":true,\"x\":[\"2019\",\"2019\",\"2019\",\"2020\",\"2020\",\"2020\",\"2021\",\"2021\",\"2021\",\"2022\",\"2022\",\"2022\",\"2023\",\"2023\",\"2023\"],\"xaxis\":\"x\",\"y\":[100,58,97,91,49,88,82,40,79,73,31,70,64,22,61],\"yaxis\":\"y\",\"type\":\"scatter\"},{\"hovertemplate\":\"<b>OLS trendline</b><br>Applications = -9 * Year + 18256<br>R<sup>2</sup>=0.306818<br><br>Degree=UG<br>Programe=Degree<br>Year=%{x}<br>Applications=%{y} <b>(trend)</b><extra></extra>\",\"legendgroup\":\"UG, Degree\",\"marker\":{\"color\":\"#636efa\",\"symbol\":\"circle\"},\"mode\":\"lines\",\"name\":\"UG, Degree\",\"showlegend\":false,\"x\":[\"2019\",\"2019\",\"2019\",\"2020\",\"2020\",\"2020\",\"2021\",\"2021\",\"2021\",\"2022\",\"2022\",\"2022\",\"2023\",\"2023\",\"2023\"],\"xaxis\":\"x\",\"y\":[85.0000000000007,85.0000000000007,85.0000000000007,76.0000000000008,76.0000000000008,76.0000000000008,67.00000000000091,67.00000000000091,67.00000000000091,58.00000000000101,58.00000000000101,58.00000000000101,49.00000000000111,49.00000000000111,49.00000000000111],\"yaxis\":\"y\",\"type\":\"scatter\"},{\"customdata\":[[\"Accounting\",\"Taught\"],[\"Economic History\",\"Taught\"],[\"Accounting\",\"Taught\"],[\"Economic History\",\"Taught\"],[\"Accounting\",\"Taught\"],[\"Economic History\",\"Taught\"],[\"Accounting\",\"Taught\"],[\"Economic History\",\"Taught\"],[\"Accounting\",\"Taught\"],[\"Economic History\",\"Taught\"]],\"hovertemplate\":\"Degree=PG<br>Programe=%{customdata[1]}<br>Year=%{x}<br>Applications=%{y}<br>Department=%{customdata[0]}<extra></extra>\",\"legendgroup\":\"PG, Taught\",\"marker\":{\"color\":\"#EF553B\",\"symbol\":\"diamond\"},\"mode\":\"markers\",\"name\":\"PG, Taught\",\"orientation\":\"v\",\"showlegend\":true,\"x\":[\"2019\",\"2019\",\"2020\",\"2020\",\"2021\",\"2021\",\"2022\",\"2022\",\"2023\",\"2023\"],\"xaxis\":\"x\",\"y\":[96,96,87,87,78,78,69,69,60,60],\"yaxis\":\"y\",\"type\":\"scatter\"},{\"hovertemplate\":\"<b>OLS trendline</b><br>Applications = -9 * Year + 18267<br>R<sup>2</sup>=1.000000<br><br>Degree=PG<br>Programe=Taught<br>Year=%{x}<br>Applications=%{y} <b>(trend)</b><extra></extra>\",\"legendgroup\":\"PG, Taught\",\"marker\":{\"color\":\"#EF553B\",\"symbol\":\"diamond\"},\"mode\":\"lines\",\"name\":\"PG, Taught\",\"showlegend\":false,\"x\":[\"2019\",\"2019\",\"2020\",\"2020\",\"2021\",\"2021\",\"2022\",\"2022\",\"2023\",\"2023\"],\"xaxis\":\"x\",\"y\":[96.000000000012,96.000000000012,87.00000000001333,87.00000000001333,78.00000000001467,78.00000000001467,69.00000000001602,69.00000000001602,60.00000000001736,60.00000000001736],\"yaxis\":\"y\",\"type\":\"scatter\"}],                        {\"template\":{\"data\":{\"histogram2dcontour\":[{\"type\":\"histogram2dcontour\",\"colorbar\":{\"outlinewidth\":0,\"ticks\":\"\"},\"colorscale\":[[0.0,\"#0d0887\"],[0.1111111111111111,\"#46039f\"],[0.2222222222222222,\"#7201a8\"],[0.3333333333333333,\"#9c179e\"],[0.4444444444444444,\"#bd3786\"],[0.5555555555555556,\"#d8576b\"],[0.6666666666666666,\"#ed7953\"],[0.7777777777777778,\"#fb9f3a\"],[0.8888888888888888,\"#fdca26\"],[1.0,\"#f0f921\"]]}],\"choropleth\":[{\"type\":\"choropleth\",\"colorbar\":{\"outlinewidth\":0,\"ticks\":\"\"}}],\"histogram2d\":[{\"type\":\"histogram2d\",\"colorbar\":{\"outlinewidth\":0,\"ticks\":\"\"},\"colorscale\":[[0.0,\"#0d0887\"],[0.1111111111111111,\"#46039f\"],[0.2222222222222222,\"#7201a8\"],[0.3333333333333333,\"#9c179e\"],[0.4444444444444444,\"#bd3786\"],[0.5555555555555556,\"#d8576b\"],[0.6666666666666666,\"#ed7953\"],[0.7777777777777778,\"#fb9f3a\"],[0.8888888888888888,\"#fdca26\"],[1.0,\"#f0f921\"]]}],\"heatmap\":[{\"type\":\"heatmap\",\"colorbar\":{\"outlinewidth\":0,\"ticks\":\"\"},\"colorscale\":[[0.0,\"#0d0887\"],[0.1111111111111111,\"#46039f\"],[0.2222222222222222,\"#7201a8\"],[0.3333333333333333,\"#9c179e\"],[0.4444444444444444,\"#bd3786\"],[0.5555555555555556,\"#d8576b\"],[0.6666666666666666,\"#ed7953\"],[0.7777777777777778,\"#fb9f3a\"],[0.8888888888888888,\"#fdca26\"],[1.0,\"#f0f921\"]]}],\"heatmapgl\":[{\"type\":\"heatmapgl\",\"colorbar\":{\"outlinewidth\":0,\"ticks\":\"\"},\"colorscale\":[[0.0,\"#0d0887\"],[0.1111111111111111,\"#46039f\"],[0.2222222222222222,\"#7201a8\"],[0.3333333333333333,\"#9c179e\"],[0.4444444444444444,\"#bd3786\"],[0.5555555555555556,\"#d8576b\"],[0.6666666666666666,\"#ed7953\"],[0.7777777777777778,\"#fb9f3a\"],[0.8888888888888888,\"#fdca26\"],[1.0,\"#f0f921\"]]}],\"contourcarpet\":[{\"type\":\"contourcarpet\",\"colorbar\":{\"outlinewidth\":0,\"ticks\":\"\"}}],\"contour\":[{\"type\":\"contour\",\"colorbar\":{\"outlinewidth\":0,\"ticks\":\"\"},\"colorscale\":[[0.0,\"#0d0887\"],[0.1111111111111111,\"#46039f\"],[0.2222222222222222,\"#7201a8\"],[0.3333333333333333,\"#9c179e\"],[0.4444444444444444,\"#bd3786\"],[0.5555555555555556,\"#d8576b\"],[0.6666666666666666,\"#ed7953\"],[0.7777777777777778,\"#fb9f3a\"],[0.8888888888888888,\"#fdca26\"],[1.0,\"#f0f921\"]]}],\"surface\":[{\"type\":\"surface\",\"colorbar\":{\"outlinewidth\":0,\"ticks\":\"\"},\"colorscale\":[[0.0,\"#0d0887\"],[0.1111111111111111,\"#46039f\"],[0.2222222222222222,\"#7201a8\"],[0.3333333333333333,\"#9c179e\"],[0.4444444444444444,\"#bd3786\"],[0.5555555555555556,\"#d8576b\"],[0.6666666666666666,\"#ed7953\"],[0.7777777777777778,\"#fb9f3a\"],[0.8888888888888888,\"#fdca26\"],[1.0,\"#f0f921\"]]}],\"mesh3d\":[{\"type\":\"mesh3d\",\"colorbar\":{\"outlinewidth\":0,\"ticks\":\"\"}}],\"scatter\":[{\"fillpattern\":{\"fillmode\":\"overlay\",\"size\":10,\"solidity\":0.2},\"type\":\"scatter\"}],\"parcoords\":[{\"type\":\"parcoords\",\"line\":{\"colorbar\":{\"outlinewidth\":0,\"ticks\":\"\"}}}],\"scatterpolargl\":[{\"type\":\"scatterpolargl\",\"marker\":{\"colorbar\":{\"outlinewidth\":0,\"ticks\":\"\"}}}],\"bar\":[{\"error_x\":{\"color\":\"#2a3f5f\"},\"error_y\":{\"color\":\"#2a3f5f\"},\"marker\":{\"line\":{\"color\":\"#E5ECF6\",\"width\":0.5},\"pattern\":{\"fillmode\":\"overlay\",\"size\":10,\"solidity\":0.2}},\"type\":\"bar\"}],\"scattergeo\":[{\"type\":\"scattergeo\",\"marker\":{\"colorbar\":{\"outlinewidth\":0,\"ticks\":\"\"}}}],\"scatterpolar\":[{\"type\":\"scatterpolar\",\"marker\":{\"colorbar\":{\"outlinewidth\":0,\"ticks\":\"\"}}}],\"histogram\":[{\"marker\":{\"pattern\":{\"fillmode\":\"overlay\",\"size\":10,\"solidity\":0.2}},\"type\":\"histogram\"}],\"scattergl\":[{\"type\":\"scattergl\",\"marker\":{\"colorbar\":{\"outlinewidth\":0,\"ticks\":\"\"}}}],\"scatter3d\":[{\"type\":\"scatter3d\",\"line\":{\"colorbar\":{\"outlinewidth\":0,\"ticks\":\"\"}},\"marker\":{\"colorbar\":{\"outlinewidth\":0,\"ticks\":\"\"}}}],\"scattermapbox\":[{\"type\":\"scattermapbox\",\"marker\":{\"colorbar\":{\"outlinewidth\":0,\"ticks\":\"\"}}}],\"scatterternary\":[{\"type\":\"scatterternary\",\"marker\":{\"colorbar\":{\"outlinewidth\":0,\"ticks\":\"\"}}}],\"scattercarpet\":[{\"type\":\"scattercarpet\",\"marker\":{\"colorbar\":{\"outlinewidth\":0,\"ticks\":\"\"}}}],\"carpet\":[{\"aaxis\":{\"endlinecolor\":\"#2a3f5f\",\"gridcolor\":\"white\",\"linecolor\":\"white\",\"minorgridcolor\":\"white\",\"startlinecolor\":\"#2a3f5f\"},\"baxis\":{\"endlinecolor\":\"#2a3f5f\",\"gridcolor\":\"white\",\"linecolor\":\"white\",\"minorgridcolor\":\"white\",\"startlinecolor\":\"#2a3f5f\"},\"type\":\"carpet\"}],\"table\":[{\"cells\":{\"fill\":{\"color\":\"#EBF0F8\"},\"line\":{\"color\":\"white\"}},\"header\":{\"fill\":{\"color\":\"#C8D4E3\"},\"line\":{\"color\":\"white\"}},\"type\":\"table\"}],\"barpolar\":[{\"marker\":{\"line\":{\"color\":\"#E5ECF6\",\"width\":0.5},\"pattern\":{\"fillmode\":\"overlay\",\"size\":10,\"solidity\":0.2}},\"type\":\"barpolar\"}],\"pie\":[{\"automargin\":true,\"type\":\"pie\"}]},\"layout\":{\"autotypenumbers\":\"strict\",\"colorway\":[\"#636efa\",\"#EF553B\",\"#00cc96\",\"#ab63fa\",\"#FFA15A\",\"#19d3f3\",\"#FF6692\",\"#B6E880\",\"#FF97FF\",\"#FECB52\"],\"font\":{\"color\":\"#2a3f5f\"},\"hovermode\":\"closest\",\"hoverlabel\":{\"align\":\"left\"},\"paper_bgcolor\":\"white\",\"plot_bgcolor\":\"#E5ECF6\",\"polar\":{\"bgcolor\":\"#E5ECF6\",\"angularaxis\":{\"gridcolor\":\"white\",\"linecolor\":\"white\",\"ticks\":\"\"},\"radialaxis\":{\"gridcolor\":\"white\",\"linecolor\":\"white\",\"ticks\":\"\"}},\"ternary\":{\"bgcolor\":\"#E5ECF6\",\"aaxis\":{\"gridcolor\":\"white\",\"linecolor\":\"white\",\"ticks\":\"\"},\"baxis\":{\"gridcolor\":\"white\",\"linecolor\":\"white\",\"ticks\":\"\"},\"caxis\":{\"gridcolor\":\"white\",\"linecolor\":\"white\",\"ticks\":\"\"}},\"coloraxis\":{\"colorbar\":{\"outlinewidth\":0,\"ticks\":\"\"}},\"colorscale\":{\"sequential\":[[0.0,\"#0d0887\"],[0.1111111111111111,\"#46039f\"],[0.2222222222222222,\"#7201a8\"],[0.3333333333333333,\"#9c179e\"],[0.4444444444444444,\"#bd3786\"],[0.5555555555555556,\"#d8576b\"],[0.6666666666666666,\"#ed7953\"],[0.7777777777777778,\"#fb9f3a\"],[0.8888888888888888,\"#fdca26\"],[1.0,\"#f0f921\"]],\"sequentialminus\":[[0.0,\"#0d0887\"],[0.1111111111111111,\"#46039f\"],[0.2222222222222222,\"#7201a8\"],[0.3333333333333333,\"#9c179e\"],[0.4444444444444444,\"#bd3786\"],[0.5555555555555556,\"#d8576b\"],[0.6666666666666666,\"#ed7953\"],[0.7777777777777778,\"#fb9f3a\"],[0.8888888888888888,\"#fdca26\"],[1.0,\"#f0f921\"]],\"diverging\":[[0,\"#8e0152\"],[0.1,\"#c51b7d\"],[0.2,\"#de77ae\"],[0.3,\"#f1b6da\"],[0.4,\"#fde0ef\"],[0.5,\"#f7f7f7\"],[0.6,\"#e6f5d0\"],[0.7,\"#b8e186\"],[0.8,\"#7fbc41\"],[0.9,\"#4d9221\"],[1,\"#276419\"]]},\"xaxis\":{\"gridcolor\":\"white\",\"linecolor\":\"white\",\"ticks\":\"\",\"title\":{\"standoff\":15},\"zerolinecolor\":\"white\",\"automargin\":true,\"zerolinewidth\":2},\"yaxis\":{\"gridcolor\":\"white\",\"linecolor\":\"white\",\"ticks\":\"\",\"title\":{\"standoff\":15},\"zerolinecolor\":\"white\",\"automargin\":true,\"zerolinewidth\":2},\"scene\":{\"xaxis\":{\"backgroundcolor\":\"#E5ECF6\",\"gridcolor\":\"white\",\"linecolor\":\"white\",\"showbackground\":true,\"ticks\":\"\",\"zerolinecolor\":\"white\",\"gridwidth\":2},\"yaxis\":{\"backgroundcolor\":\"#E5ECF6\",\"gridcolor\":\"white\",\"linecolor\":\"white\",\"showbackground\":true,\"ticks\":\"\",\"zerolinecolor\":\"white\",\"gridwidth\":2},\"zaxis\":{\"backgroundcolor\":\"#E5ECF6\",\"gridcolor\":\"white\",\"linecolor\":\"white\",\"showbackground\":true,\"ticks\":\"\",\"zerolinecolor\":\"white\",\"gridwidth\":2}},\"shapedefaults\":{\"line\":{\"color\":\"#2a3f5f\"}},\"annotationdefaults\":{\"arrowcolor\":\"#2a3f5f\",\"arrowhead\":0,\"arrowwidth\":1},\"geo\":{\"bgcolor\":\"white\",\"landcolor\":\"#E5ECF6\",\"subunitcolor\":\"white\",\"showland\":true,\"showlakes\":true,\"lakecolor\":\"white\"},\"title\":{\"x\":0.05},\"mapbox\":{\"style\":\"light\"}}},\"xaxis\":{\"anchor\":\"y\",\"domain\":[0.0,1.0],\"title\":{\"text\":\"Year\"}},\"yaxis\":{\"anchor\":\"x\",\"domain\":[0.0,1.0],\"title\":{\"text\":\"Applications\"}},\"legend\":{\"title\":{\"text\":\"Degree, Programe\"},\"tracegroupgap\":0},\"margin\":{\"t\":60},\"title\":{\"text\":\"Applications Over Time by Programe and Degree with OLS estimator\"}},                        {\"responsive\": true}                    ).then(function(){\n",
       "                            \n",
       "var gd = document.getElementById('81b4c0f5-5ae1-4588-bdf9-11d654628a0b');\n",
       "var x = new MutationObserver(function (mutations, observer) {{\n",
       "        var display = window.getComputedStyle(gd).display;\n",
       "        if (!display || display === 'none') {{\n",
       "            console.log([gd, 'removed!']);\n",
       "            Plotly.purge(gd);\n",
       "            observer.disconnect();\n",
       "        }}\n",
       "}});\n",
       "\n",
       "// Listen for the removal of the full notebook cells\n",
       "var notebookContainer = gd.closest('#notebook-container');\n",
       "if (notebookContainer) {{\n",
       "    x.observe(notebookContainer, {childList: true});\n",
       "}}\n",
       "\n",
       "// Listen for the clearing of the current output cell\n",
       "var outputEl = gd.closest('.output');\n",
       "if (outputEl) {{\n",
       "    x.observe(outputEl, {childList: true});\n",
       "}}\n",
       "\n",
       "                        })                };                });            </script>        </div>"
      ]
     },
     "metadata": {},
     "output_type": "display_data"
    }
   ],
   "source": [
    "import plotly.express as px\n",
    "import re\n",
    "\n",
    "# Melt the DataFrame to have one row per application type and year\n",
    "df_melted = pd.melt(df, id_vars=['Department', 'Programe'], \n",
    "                     value_vars=['Apps 2019/20', 'Apps 2020/21', 'Apps 2021/22', 'Apps 2022/23', 'Apps 2023/2024'],\n",
    "                     var_name='Year', value_name='Applications')\n",
    "\n",
    "# Split the Programe column into UG Degree and PG Taught columns\n",
    "df_melted[['Degree', 'Programe']] = df_melted['Programe'].str.split(' ', n=1, expand=True)\n",
    "\n",
    "# Convert the 'Year' column to numerical values\n",
    "df_melted['Year'] = df_melted['Year'].apply(lambda x: re.search(r'\\d{4}', x).group())\n",
    "\n",
    "# Create an interactive scatterplot with regression line\n",
    "fig = px.scatter(df_melted, x='Year', y='Applications', color='Degree', symbol='Programe', trendline='ols', hover_data=['Department', 'Programe'])\n",
    "fig.update_layout(title='Applications Over Time by Programe and Degree with OLS estimator', xaxis_title='Year', yaxis_title='Applications')\n",
    "fig.show()"
   ]
  },
  {
   "cell_type": "code",
   "execution_count": null,
   "id": "642f62e4",
   "metadata": {},
   "outputs": [],
   "source": []
  }
 ],
 "metadata": {
  "kernelspec": {
   "display_name": "Python 3 (ipykernel)",
   "language": "python",
   "name": "python3"
  },
  "language_info": {
   "codemirror_mode": {
    "name": "ipython",
    "version": 3
   },
   "file_extension": ".py",
   "mimetype": "text/x-python",
   "name": "python",
   "nbconvert_exporter": "python",
   "pygments_lexer": "ipython3",
   "version": "3.11.5"
  }
 },
 "nbformat": 4,
 "nbformat_minor": 5
}
