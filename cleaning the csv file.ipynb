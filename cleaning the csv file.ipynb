{
 "cells": [
  {
   "cell_type": "code",
   "execution_count": 3,
   "id": "2d850c70",
   "metadata": {},
   "outputs": [],
   "source": [
    "import csv\n",
    "\n",
    "# Define the input and output file paths\n",
    "input_file = \"Data/table_v1.csv\"\n",
    "output_file = \"Data/output.csv\"\n",
    "\n",
    "# Read the input CSV file\n",
    "with open(input_file, newline='', encoding='utf-8') as infile:\n",
    "    reader = csv.reader(infile)\n",
    "    header = next(reader)  # Read the header row\n",
    "    rows = list(reader)    # Read the remaining rows\n",
    "\n",
    "# Define the new header with corrected column names\n",
    "new_header = [\"Nationality\", \"Department\", \"Program\", \"2019/20 Apps\", \"2019/20 Offe\", \"2019/20 Entr\", \n",
    "              \"2020/21 Apps\", \"2020/21 Offe\", \"2020/21 Entr\", \"2021/22 Apps\", \"2021/22 Offe\", \n",
    "              \"2021/22 Entr\", \"2022/23 Apps\", \"2022/23 Offe\", \"2022/23 Entr\", \"2023/24 Apps\", \n",
    "              \"2023/24 Offe\", \"2023/24 Entr\"]\n",
    "\n",
    "# Create a dictionary to store the corrected rows\n",
    "corrected_rows = []\n",
    "\n",
    "# Iterate over the rows and fix the shifted numbers\n",
    "for row in rows:\n",
    "    # Extract the nationality, department, and program\n",
    "    nationality = row[0]\n",
    "    department_program = row[1]\n",
    "    if \"UG Degree\" in department_program or \"PG Taught\" in department_program:\n",
    "        department, program = department_program.split(\" \", 1)\n",
    "    else:\n",
    "        department, program = department_program, \"\"\n",
    "    \n",
    "    # Extract the numbers\n",
    "    numbers = row[2:]\n",
    "    # Pad the numbers to ensure they have the correct length\n",
    "    numbers = ['0'] * (len(new_header) - 3 - len(numbers)) + numbers\n",
    "    \n",
    "    # Construct the corrected row\n",
    "    corrected_row = [nationality, department, program] + numbers\n",
    "    \n",
    "    # Add the corrected row to the list\n",
    "    corrected_rows.append(corrected_row)\n",
    "\n",
    "# Write the corrected rows to the output CSV file\n",
    "with open(output_file, 'w', newline='', encoding='utf-8') as outfile:\n",
    "    writer = csv.writer(outfile)\n",
    "    writer.writerow(new_header)  # Write the header row\n",
    "    writer.writerows(corrected_rows)  # Write the corrected rows"
   ]
  },
  {
   "cell_type": "code",
   "execution_count": null,
   "id": "ef5485de",
   "metadata": {},
   "outputs": [],
   "source": []
  }
 ],
 "metadata": {
  "kernelspec": {
   "display_name": "Python 3 (ipykernel)",
   "language": "python",
   "name": "python3"
  },
  "language_info": {
   "codemirror_mode": {
    "name": "ipython",
    "version": 3
   },
   "file_extension": ".py",
   "mimetype": "text/x-python",
   "name": "python",
   "nbconvert_exporter": "python",
   "pygments_lexer": "ipython3",
   "version": "3.11.4"
  }
 },
 "nbformat": 4,
 "nbformat_minor": 5
}
